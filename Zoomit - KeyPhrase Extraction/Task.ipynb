{
 "cells": [
  {
   "cell_type": "markdown",
   "source": [
    "# Requirements\n",
    "\n",
    "### Models:\n",
    "You need to download the sent2vec (SentEmbedding) model of hazm from this [link](https://mega.nz/file/WzR0QChY#J1nG-HGq0UJP69VMY8I1YGl_MfEAFCo5iizpjofA4OY) and extract it in a directory named `sent2vec`.\n",
    "\n",
    "### Libraries:"
   ],
   "metadata": {
    "collapsed": false
   },
   "id": "3c7c10d769cbcbb0"
  },
  {
   "cell_type": "code",
   "execution_count": 13,
   "outputs": [
    {
     "name": "stdout",
     "output_type": "stream",
     "text": [
      "Requirement already satisfied: hazm==0.9.3 in c:\\users\\lenovo\\anaconda3\\envs\\desktop\\lib\\site-packages (from -r requirements.txt (line 1)) (0.9.3)\n",
      "Requirement already satisfied: nltk==3.8.1 in c:\\users\\lenovo\\anaconda3\\envs\\desktop\\lib\\site-packages (from -r requirements.txt (line 2)) (3.8.1)\n",
      "Requirement already satisfied: numpy==1.24.4 in c:\\users\\lenovo\\anaconda3\\envs\\desktop\\lib\\site-packages (from -r requirements.txt (line 3)) (1.24.4)\n",
      "Requirement already satisfied: pandas==1.5.3 in c:\\users\\lenovo\\anaconda3\\envs\\desktop\\lib\\site-packages (from -r requirements.txt (line 4)) (1.5.3)\n",
      "Requirement already satisfied: scikit_learn==1.3.0 in c:\\users\\lenovo\\anaconda3\\envs\\desktop\\lib\\site-packages (from -r requirements.txt (line 5)) (1.3.0)\n",
      "Requirement already satisfied: fasttext-wheel<0.10.0,>=0.9.2 in c:\\users\\lenovo\\anaconda3\\envs\\desktop\\lib\\site-packages (from hazm==0.9.3->-r requirements.txt (line 1)) (0.9.2)\n",
      "Requirement already satisfied: gensim<5.0.0,>=4.3.1 in c:\\users\\lenovo\\anaconda3\\envs\\desktop\\lib\\site-packages (from hazm==0.9.3->-r requirements.txt (line 1)) (4.3.1)\n",
      "Requirement already satisfied: python-crfsuite<0.10.0,>=0.9.9 in c:\\users\\lenovo\\anaconda3\\envs\\desktop\\lib\\site-packages (from hazm==0.9.3->-r requirements.txt (line 1)) (0.9.9)\n",
      "Requirement already satisfied: click in c:\\users\\lenovo\\anaconda3\\envs\\desktop\\lib\\site-packages (from nltk==3.8.1->-r requirements.txt (line 2)) (8.1.6)\n",
      "Requirement already satisfied: joblib in c:\\users\\lenovo\\anaconda3\\envs\\desktop\\lib\\site-packages (from nltk==3.8.1->-r requirements.txt (line 2)) (1.3.2)\n",
      "Requirement already satisfied: regex>=2021.8.3 in c:\\users\\lenovo\\anaconda3\\envs\\desktop\\lib\\site-packages (from nltk==3.8.1->-r requirements.txt (line 2)) (2023.8.8)\n",
      "Requirement already satisfied: tqdm in c:\\users\\lenovo\\anaconda3\\envs\\desktop\\lib\\site-packages (from nltk==3.8.1->-r requirements.txt (line 2)) (4.66.1)\n",
      "Requirement already satisfied: python-dateutil>=2.8.1 in c:\\users\\lenovo\\appdata\\roaming\\python\\python39\\site-packages (from pandas==1.5.3->-r requirements.txt (line 4)) (2.8.2)\n",
      "Requirement already satisfied: pytz>=2020.1 in c:\\users\\lenovo\\anaconda3\\envs\\desktop\\lib\\site-packages (from pandas==1.5.3->-r requirements.txt (line 4)) (2023.3.post1)\n",
      "Requirement already satisfied: scipy>=1.5.0 in c:\\users\\lenovo\\anaconda3\\envs\\desktop\\lib\\site-packages (from scikit_learn==1.3.0->-r requirements.txt (line 5)) (1.8.0)\n",
      "Requirement already satisfied: threadpoolctl>=2.0.0 in c:\\users\\lenovo\\anaconda3\\envs\\desktop\\lib\\site-packages (from scikit_learn==1.3.0->-r requirements.txt (line 5)) (3.2.0)\n",
      "Requirement already satisfied: pybind11>=2.2 in c:\\users\\lenovo\\anaconda3\\envs\\desktop\\lib\\site-packages (from fasttext-wheel<0.10.0,>=0.9.2->hazm==0.9.3->-r requirements.txt (line 1)) (2.11.1)\n",
      "Requirement already satisfied: setuptools>=0.7.0 in c:\\users\\lenovo\\anaconda3\\envs\\desktop\\lib\\site-packages (from fasttext-wheel<0.10.0,>=0.9.2->hazm==0.9.3->-r requirements.txt (line 1)) (68.0.0)\n",
      "Requirement already satisfied: smart-open>=1.8.1 in c:\\users\\lenovo\\anaconda3\\envs\\desktop\\lib\\site-packages (from gensim<5.0.0,>=4.3.1->hazm==0.9.3->-r requirements.txt (line 1)) (6.3.0)\n",
      "Requirement already satisfied: six>=1.5 in c:\\users\\lenovo\\appdata\\roaming\\python\\python39\\site-packages (from python-dateutil>=2.8.1->pandas==1.5.3->-r requirements.txt (line 4)) (1.16.0)\n",
      "Requirement already satisfied: colorama in c:\\users\\lenovo\\appdata\\roaming\\python\\python39\\site-packages (from click->nltk==3.8.1->-r requirements.txt (line 2)) (0.4.6)\n"
     ]
    },
    {
     "name": "stderr",
     "output_type": "stream",
     "text": [
      "WARNING: Ignoring invalid distribution -yspark (c:\\users\\lenovo\\anaconda3\\envs\\desktop\\lib\\site-packages)\n",
      "WARNING: Ignoring invalid distribution -yspark (c:\\users\\lenovo\\anaconda3\\envs\\desktop\\lib\\site-packages)\n"
     ]
    },
    {
     "name": "stdout",
     "output_type": "stream",
     "text": [
      "Requirement already satisfied: perke in c:\\users\\lenovo\\anaconda3\\envs\\desktop\\lib\\site-packages (0.4.4)\n",
      "Requirement already satisfied: hazm in c:\\users\\lenovo\\anaconda3\\envs\\desktop\\lib\\site-packages (from perke) (0.9.3)\n",
      "Requirement already satisfied: nltk in c:\\users\\lenovo\\anaconda3\\envs\\desktop\\lib\\site-packages (from perke) (3.8.1)\n",
      "Requirement already satisfied: networkx in c:\\users\\lenovo\\anaconda3\\envs\\desktop\\lib\\site-packages (from perke) (2.6.3)\n",
      "Requirement already satisfied: scipy in c:\\users\\lenovo\\anaconda3\\envs\\desktop\\lib\\site-packages (from perke) (1.8.0)\n",
      "Requirement already satisfied: typer==0.5.0 in c:\\users\\lenovo\\anaconda3\\envs\\desktop\\lib\\site-packages (from perke) (0.5.0)\n",
      "Requirement already satisfied: rich-click==1.5.2 in c:\\users\\lenovo\\anaconda3\\envs\\desktop\\lib\\site-packages (from perke) (1.5.2)\n",
      "Requirement already satisfied: gdown in c:\\users\\lenovo\\anaconda3\\envs\\desktop\\lib\\site-packages (from perke) (5.1.0)\n",
      "Requirement already satisfied: click>=7 in c:\\users\\lenovo\\anaconda3\\envs\\desktop\\lib\\site-packages (from rich-click==1.5.2->perke) (8.1.6)\n",
      "Requirement already satisfied: rich>=10.7.0 in c:\\users\\lenovo\\anaconda3\\envs\\desktop\\lib\\site-packages (from rich-click==1.5.2->perke) (13.7.1)\n",
      "Requirement already satisfied: beautifulsoup4 in c:\\users\\lenovo\\anaconda3\\envs\\desktop\\lib\\site-packages (from gdown->perke) (4.12.2)\n",
      "Requirement already satisfied: filelock in c:\\users\\lenovo\\anaconda3\\envs\\desktop\\lib\\site-packages (from gdown->perke) (3.13.1)\n",
      "Requirement already satisfied: requests[socks] in c:\\users\\lenovo\\anaconda3\\envs\\desktop\\lib\\site-packages (from gdown->perke) (2.31.0)\n",
      "Requirement already satisfied: tqdm in c:\\users\\lenovo\\anaconda3\\envs\\desktop\\lib\\site-packages (from gdown->perke) (4.66.1)\n",
      "Requirement already satisfied: fasttext-wheel<0.10.0,>=0.9.2 in c:\\users\\lenovo\\anaconda3\\envs\\desktop\\lib\\site-packages (from hazm->perke) (0.9.2)\n",
      "Requirement already satisfied: gensim<5.0.0,>=4.3.1 in c:\\users\\lenovo\\anaconda3\\envs\\desktop\\lib\\site-packages (from hazm->perke) (4.3.1)\n",
      "Requirement already satisfied: numpy<2.0.0,>=1.24.3 in c:\\users\\lenovo\\anaconda3\\envs\\desktop\\lib\\site-packages (from hazm->perke) (1.24.4)\n",
      "Requirement already satisfied: python-crfsuite<0.10.0,>=0.9.9 in c:\\users\\lenovo\\anaconda3\\envs\\desktop\\lib\\site-packages (from hazm->perke) (0.9.9)\n",
      "Requirement already satisfied: scikit-learn<2.0.0,>=1.2.2 in c:\\users\\lenovo\\anaconda3\\envs\\desktop\\lib\\site-packages (from hazm->perke) (1.3.0)\n",
      "Requirement already satisfied: joblib in c:\\users\\lenovo\\anaconda3\\envs\\desktop\\lib\\site-packages (from nltk->perke) (1.3.2)\n",
      "Requirement already satisfied: regex>=2021.8.3 in c:\\users\\lenovo\\anaconda3\\envs\\desktop\\lib\\site-packages (from nltk->perke) (2023.8.8)\n",
      "Requirement already satisfied: colorama in c:\\users\\lenovo\\appdata\\roaming\\python\\python39\\site-packages (from click>=7->rich-click==1.5.2->perke) (0.4.6)\n",
      "Requirement already satisfied: pybind11>=2.2 in c:\\users\\lenovo\\anaconda3\\envs\\desktop\\lib\\site-packages (from fasttext-wheel<0.10.0,>=0.9.2->hazm->perke) (2.11.1)\n",
      "Requirement already satisfied: setuptools>=0.7.0 in c:\\users\\lenovo\\anaconda3\\envs\\desktop\\lib\\site-packages (from fasttext-wheel<0.10.0,>=0.9.2->hazm->perke) (68.0.0)\n",
      "Requirement already satisfied: smart-open>=1.8.1 in c:\\users\\lenovo\\anaconda3\\envs\\desktop\\lib\\site-packages (from gensim<5.0.0,>=4.3.1->hazm->perke) (6.3.0)\n",
      "Requirement already satisfied: markdown-it-py>=2.2.0 in c:\\users\\lenovo\\anaconda3\\envs\\desktop\\lib\\site-packages (from rich>=10.7.0->rich-click==1.5.2->perke) (3.0.0)\n",
      "Requirement already satisfied: pygments<3.0.0,>=2.13.0 in c:\\users\\lenovo\\appdata\\roaming\\python\\python39\\site-packages (from rich>=10.7.0->rich-click==1.5.2->perke) (2.16.1)\n",
      "Requirement already satisfied: threadpoolctl>=2.0.0 in c:\\users\\lenovo\\anaconda3\\envs\\desktop\\lib\\site-packages (from scikit-learn<2.0.0,>=1.2.2->hazm->perke) (3.2.0)\n",
      "Requirement already satisfied: soupsieve>1.2 in c:\\users\\lenovo\\anaconda3\\envs\\desktop\\lib\\site-packages (from beautifulsoup4->gdown->perke) (2.5)\n",
      "Requirement already satisfied: charset-normalizer<4,>=2 in c:\\users\\lenovo\\anaconda3\\envs\\desktop\\lib\\site-packages (from requests[socks]->gdown->perke) (2.0.4)\n",
      "Requirement already satisfied: idna<4,>=2.5 in c:\\users\\lenovo\\anaconda3\\envs\\desktop\\lib\\site-packages (from requests[socks]->gdown->perke) (3.4)\n",
      "Requirement already satisfied: urllib3<3,>=1.21.1 in c:\\users\\lenovo\\anaconda3\\envs\\desktop\\lib\\site-packages (from requests[socks]->gdown->perke) (2.0.4)\n",
      "Requirement already satisfied: certifi>=2017.4.17 in c:\\users\\lenovo\\anaconda3\\envs\\desktop\\lib\\site-packages (from requests[socks]->gdown->perke) (2023.7.22)\n",
      "Requirement already satisfied: PySocks!=1.5.7,>=1.5.6 in c:\\users\\lenovo\\anaconda3\\envs\\desktop\\lib\\site-packages (from requests[socks]->gdown->perke) (1.7.1)\n",
      "Requirement already satisfied: mdurl~=0.1 in c:\\users\\lenovo\\anaconda3\\envs\\desktop\\lib\\site-packages (from markdown-it-py>=2.2.0->rich>=10.7.0->rich-click==1.5.2->perke) (0.1.2)\n"
     ]
    },
    {
     "name": "stderr",
     "output_type": "stream",
     "text": [
      "WARNING: Ignoring invalid distribution -yspark (c:\\users\\lenovo\\anaconda3\\envs\\desktop\\lib\\site-packages)\n",
      "WARNING: Ignoring invalid distribution -yspark (c:\\users\\lenovo\\anaconda3\\envs\\desktop\\lib\\site-packages)\n",
      "Downloading...\n",
      "From: https://drive.google.com/uc?id=1Q3JK4NVUC2t5QT63aDiVrCRBV225E_B3\n",
      "To: C:\\Users\\LENOVO\\anaconda3\\envs\\Desktop\\lib\\site-packages\\perke\\resources\\pos_tagger.model\n",
      "\n",
      "  0%|          | 0.00/19.2M [00:00<?, ?B/s]\n",
      "  3%|2         | 524k/19.2M [00:01<00:42, 436kB/s]\n",
      "  5%|5         | 1.05M/19.2M [00:01<00:27, 656kB/s]\n",
      "  8%|8         | 1.57M/19.2M [00:01<00:18, 953kB/s]\n",
      " 11%|#         | 2.10M/19.2M [00:02<00:12, 1.38MB/s]\n",
      " 14%|#3        | 2.62M/19.2M [00:02<00:09, 1.78MB/s]\n",
      " 16%|#6        | 3.15M/19.2M [00:02<00:08, 1.99MB/s]\n",
      " 19%|#9        | 3.67M/19.2M [00:02<00:08, 1.82MB/s]\n",
      " 22%|##1       | 4.19M/19.2M [00:02<00:07, 2.03MB/s]\n",
      " 25%|##4       | 4.72M/19.2M [00:03<00:07, 1.88MB/s]\n",
      " 27%|##7       | 5.24M/19.2M [00:03<00:07, 1.81MB/s]\n",
      " 30%|##9       | 5.77M/19.2M [00:03<00:06, 2.21MB/s]\n",
      " 33%|###2      | 6.29M/19.2M [00:03<00:05, 2.27MB/s]\n",
      " 35%|###5      | 6.82M/19.2M [00:04<00:05, 2.47MB/s]\n",
      " 38%|###8      | 7.34M/19.2M [00:04<00:05, 2.22MB/s]\n",
      " 44%|####3     | 8.39M/19.2M [00:04<00:04, 2.60MB/s]\n",
      " 46%|####6     | 8.91M/19.2M [00:04<00:04, 2.55MB/s]\n",
      " 49%|####9     | 9.44M/19.2M [00:05<00:04, 2.40MB/s]\n",
      " 52%|#####1    | 9.96M/19.2M [00:05<00:04, 2.10MB/s]\n",
      " 54%|#####4    | 10.5M/19.2M [00:05<00:05, 1.71MB/s]\n",
      " 60%|#####9    | 11.5M/19.2M [00:06<00:03, 2.15MB/s]\n",
      " 63%|######2   | 12.1M/19.2M [00:06<00:04, 1.73MB/s]\n",
      " 65%|######5   | 12.6M/19.2M [00:07<00:03, 1.79MB/s]\n",
      " 68%|######8   | 13.1M/19.2M [00:07<00:03, 1.72MB/s]\n",
      " 71%|#######   | 13.6M/19.2M [00:07<00:03, 1.64MB/s]\n",
      " 74%|#######3  | 14.2M/19.2M [00:08<00:03, 1.63MB/s]\n",
      " 76%|#######6  | 14.7M/19.2M [00:08<00:02, 1.64MB/s]\n",
      " 79%|#######8  | 15.2M/19.2M [00:08<00:02, 1.98MB/s]\n",
      " 82%|########1 | 15.7M/19.2M [00:08<00:01, 1.87MB/s]\n",
      " 84%|########4 | 16.3M/19.2M [00:09<00:01, 1.73MB/s]\n",
      " 87%|########7 | 16.8M/19.2M [00:09<00:01, 2.01MB/s]\n",
      " 90%|########9 | 17.3M/19.2M [00:09<00:00, 2.03MB/s]\n",
      " 93%|#########2| 17.8M/19.2M [00:09<00:00, 1.80MB/s]\n",
      " 98%|#########8| 18.9M/19.2M [00:10<00:00, 2.17MB/s]\n",
      "100%|##########| 19.2M/19.2M [00:10<00:00, 1.66MB/s]\n",
      "100%|##########| 19.2M/19.2M [00:10<00:00, 1.78MB/s]\n"
     ]
    }
   ],
   "source": [
    "!pip install -r requirements.txt\n",
    "!pip install perke\n",
    "!python -m perke download"
   ],
   "metadata": {
    "collapsed": false,
    "ExecuteTime": {
     "end_time": "2024-04-02T00:27:39.419432600Z",
     "start_time": "2024-04-02T00:27:08.742532400Z"
    }
   },
   "id": "6c878233096bbe0e"
  },
  {
   "cell_type": "markdown",
   "source": [
    "# Data : Persian Technological News Articles\n",
    "\n",
    "I have determined the data using some crawling. I chose a website (with its linked and child websites) about technology articles named **zoomit**. I crawled the articles of zoomit and its subbrands (with their own webpages), to have some Persian news mixed with some English phrases and entities about technology. Let me explain a little about that:\n",
    "\n",
    "\n",
    "## [zoomit](https://zoomit.ir)\n",
    "\n",
    "Zoom Media Group consisted of three large media brands: Zoomit (Technology, Car and Science), Zoomg (Entertainment including Gaming, Cinema, and TV), and Pedal (Cars).\n",
    "\n",
    "Zoomit is the most popular technology magazine in Iran with more than 40 million monthly Pageviews. Zoomit covers the latest news and in-depth reviews of Mobiles, laptops, gadgets, other Consumer Electronic Devices in the form of videos, pictures, and text. Zoomit expanded its business by adding a price aggregator service named Zoomit’s Product in 2019. Product Section became a complete reference for digital products with links to the best Online Shops in the market. Zoomit is dominant in Google Search Results for related keywords with more than 100 million monthly page impressions.\n",
    "\n",
    "Zoomg is another subbrand in the Zoom Media Group launched in 2014. Zoomg publishes content in Entertainment includes News and Reviews of video games, movies, and TV series. Rich and unique content caused Zoomg to experience rapid growth and becoming the most prominent player in its field in the market.\n",
    "\n",
    "\n",
    "## crawling\n",
    "\n",
    "Now, I want to explain how I've crawled the website and scraped them: (<font color='yellow'>The crawling script and its corresponding files like the extracted data which will be used for further tasks, are located in the `crawling` directory</font>)\n",
    "\n",
    "As the webpages I wanted to scrape are Single Page Applications (SAPs), I had to use a webdriver for the purpose. So, I used Selenium and a Chromedriver compatible with my Chrome browser version.\n",
    "\n",
    "The script as explained, is designed to scrape webpages of articles from a 'zoomit', which may include some other subbrands like 'zoomg' or 'pedal' webpages. It utilizes Selenium along with ChromeDriver for automation. \n",
    "\n",
    "Upon initialization, the script sets up necessary configurations such as the path to the ChromeDriver executable, the starting URL, and the file path for storing scraped data.\n",
    "\n",
    "To start the scraping process, it launches a Selenium service and loads the initial URL. It then employs dynamic interaction by scrolling down and clicking a \"load more\" button to reveal additional articles. \n",
    "\n",
    "Once the articles are loaded, the script extracts their URLs. It then iterates through these URLs, navigating to each article's page. \n",
    "\n",
    "During this process, it distinguishes between articles belonging to the main 'zoomit' brand and those associated with subbrands. For 'zoomit' articles, it extracts relevant data such as title, content, tags, and source page URL using specific XPaths. \n",
    "\n",
    "In cases where articles belong to subbrands, such as 'zoomg' 'pedal', or 'zoomit2', the script follows a similar procedure to extract the necessary information.\n",
    "\n",
    "Throughout the scraping process, error handling mechanisms are implemented to manage any exceptions that may occur.\n",
    "\n",
    "Finally, the extracted data is stored in a JSON file named `data.json` for further analysis or processing. It has 4 fields of 'title', 'content', 'tags', and 'source' for each article, in which we just work with the text of article or 'content' field of that. Here is the structure of each item of the data:\n",
    "\n",
    "| Attribute |                       Description                       | Type  |\n",
    "|:---------:|:-------------------------------------------------------:|:-----:|\n",
    "|  `title`  |                      article title                      |*string*|\n",
    "| `content` |           content and description of article            | *string*|\n",
    "|  `tags`   | list of associated tags on the website for each article | *list(string)*|\n",
    "| `source`  |                       article url                       | *string*|\n",
    "\n"
   ],
   "metadata": {
    "collapsed": false
   },
   "id": "2c024f21749b666c"
  },
  {
   "cell_type": "markdown",
   "source": [
    "# Preprocess: Normalization\n",
    "\n",
    "The articles in the zoomit, mostly don't need specific normalizations like fixing half spaces or removing unwanted characters (َ ، ِ ، ُ ، ...); and just need normalizations like fixing the position of some punctuations, converting English numbers to persian and... . But, for the normalization to be more challenging, <font color='red'>when scraping the webpages to gather the data, I converted all the half spaces (`\\u200c` characters) to spaces and then, saved them.</font> So, the `data.json` file needs many normalizations which are challenging, because for example there is no half spaces in that and all of them should be fixed.\n",
    "\n",
    "The normalization part, consists of 4 classes in 4 .py files which all together do the normalization of text: (<font color='yellow'>Some of the classes use some data files located in the `preprocessing/HalfSpace_Data` directory. They are `all_verbs.txt` which contains a huge set of all Persian verbs, `prefix.txt` and `suffix.csv` which contain Persian prefixes and suffixes with their specific attributes and constraints explained further</font> )\n",
    "1. **normalizer:**  Each part of the project has been developed as a class, which we will discuss below. As the first class, we should start with the Normalizer class. The duty of this class is to correct general issues and somewhat preprocess the input text. This class includes two methods named \"characterRefine\" and \"punctuationRefine\" which are responsible for the following tasks:\n",
    "\n",
    "- Cleaning up extra spaces in the text (converting multiple spaces, line breaks, and half spaces into one).\n",
    "- Adhering to spacing rules regarding punctuation marks.\n",
    "- Changing numbers and English symbols to Persian script.\n",
    "- Changing quotation marks to Persian ones.\n",
    "- Removing diacritics like (َ ، ِ ، ُ ، ...).\n",
    "- Cleaning up emphasized letters and beautification cases (converting \"ســــلام\" to \"سلام\").\n",
    "- Changing Arabic \"ی\" and \"ک\" to Persian \"ی\" and \"ک\".\n",
    "  \n",
    "  More details can be seen in the `normalizer.py` file as the normalizations which it does, are explained in the comments.\n",
    "\n",
    "2. **verb:** The class \"verb\" is designed for processing verbs written in the text and fixing half spaces in them like 'می کرده اید' to 'می‌کرده‌اید'. This class only has one function. The duty of this function is to read all verbs collected and search for them in the given text file named `all_verbs.txt`. The body of this function includes all necessary regular expressions for extracting different forms of verbs.\n",
    "\n",
    "    More details can be seen in the `verb.py` file as the normalizations which it does, are explained in the comments.\n",
    "\n",
    "\n",
    "3. **regexer:** The duty of this class is to load rules from rule files, convert them into regular expressions, and compile them. Each function within this class is developed for a category of rules. For example, the \"suffixPatternGenerator\" function is responsible for performing the mentioned operations on suffix words. After reading the rules from the file, this function processes them into an array and generates regular expressions based on the type of rules. Then it sends the rules to the \"compilePatterns\" function to compile them, and the output is compiled regular expressions. At the end, we have fixed the spacing in all the words containing suffixes and prefixes.  \n",
    "\n",
    "There are some notes that you should consider about this class:\n",
    "\n",
    "- The suffix.txt and prefix.txt files are implemented such that each item has a type: It may be an affix denoted by 'a' which means it needs no character within its root, or may need a half space to be put between it and its root. this type is denoed by 'h'.\n",
    "- Also, each item has its own constraints. For example, if a root has just 3 characters and doesn't start with some specific letters, it should have no space between it and its prefix. As another example, the suffixes of 'تر' and 'ترین' and their roots, should always have a half space between, but if the root is 'بیش' or 'به', they must be attached to their roots with no half space between. Other rules can be seen as commented in the `regexer.py` file.\n",
    "- #### All the regular expressions, types of prefixes and suffixes, and specific constraints of them, are determined by so much time I have spent exploring many websites and consulting with a professor of Persian literature, Dr. Saeid Bahabadi.  \n",
    "\n",
    "4. **spacing:** Finally, the \"Spacing\" class is responsible for examining all extra letters except for verbs. After the verbs are corrected, the text is sent to this class to examine other cases. The functions inside this class are categorized based on whether the words are prefixes, suffixes, or neither. The duty of these functions is to receive patterns from the Regexer class and search for them within the text. Finally, they replace the found patterns with the correct ones. \n",
    "\n",
    "\n",
    "#### At the end, `preprocessor.py` reads the unprocessed `data.json` file and processes each item of that to be completely normalized and saves the processed data into a file named `processed_data.json` to be used for keyphrase extraction.\n",
    "\n",
    "<font color='red'>All the above files are implemented by myself except the `normalizer.py`, `verb.py` and `all_verbs.txt` which are taken from a [Github](https://github.com/PouyaKhn/NLP_HWs/tree/main/HW1/Solutions/Verb_Processing) repository with some little edits for my purpose.</font>\n"
   ],
   "metadata": {
    "collapsed": false
   },
   "id": "9a2386cb7d8c2782"
  },
  {
   "cell_type": "markdown",
   "source": [
    "## One Sample of Unprocessed Data"
   ],
   "metadata": {
    "collapsed": false
   },
   "id": "87f7f95a65f28b38"
  },
  {
   "cell_type": "code",
   "execution_count": 2,
   "outputs": [
    {
     "name": "stdout",
     "output_type": "stream",
     "text": [
      " اپل سرانجام چندی پیش هدست واقعیت ترکیبی ویژن پرو را که از مدت ها وعده داده بود، عرضه کرد. این شرکت دستگاه جدیدش را که قیمت اولیه ی آن ۳۵۰۰ دلار است، به عنوان «کامپیوتر فضایی» و جایگزینی برای لپ تاپ ها یا کامپیوترهای رومیزی استاندارد توصیف می کند. تبلیغات اپل افرادی را نشان می دهد که از هدست ویژن پرو برای ارسال ایمیل و سایر کارهای دو بعدی معمولی استفاده می کنند و این شرکت در بیانیه مطبوعاتی ژوئن ۲۰۲۳ اعلام کرد ویژن پرو برای استفاده تمام روز طراحی شده است. کاربران مشتاق اولیه گزارش می کنند که از آن ده ها ساعت به طور مداوم استفاده می کنند. به  نقل از ساینتیفیک آمریکن، بسیاری از کارشناسان تردید دارند که هدست هایی همچون ویژن پرو بتوانند یا باید جایگزین مانیتورهای فیزیکی، صفحه کلید و موس شود. برخی نگران هستند که استفاده ی طولانی مد ت از چنین دستگاهی بتواند به بیماری حرکت، انواع جدیدی از انزوای اجتماعی یا سایر پیامدهای ناخواسته منجر شود. جرمی بيلنسون، مدیر مؤسس آزمایشگاه تعامل انسانی مجازی دانشگاه استنفورد که روانشناسی واقعیت مجازی و واقعیت افزوده را مطالعه می کند، می گوید: «واقعیت مجازی و واقعیت افزوده ابزارهای باورنکردنی برای ایجاد تجارب فراگیر و منحصربه فرد هستند. اما این بدان معنا نیست که چنین هدستی همیشه ابزار مفیدی است. ما از آن برای کارهای روزمره استفاده نمی کنیم. برای خواندن ایمیل یا وارد کردن اعداد در صفحه گسترده نیازی به استفاده از هدست ندارید.» استفاده طولانی مد ت از هدست واقعیت ترکیبی ممکن است به بیماری حرکت و انزوای اجتماعی منجر شود عینک ۶۵۰ گرمی اپل از حسگرهایی ازجمله اسکنر لیدار و آرایه دوربین استفاده می کند تا تجربه «واقعیت ترکیبی» را به کاربران خود هدیه دهد. دوربین های رو به بیرون، دید آنی از محیط پیرامون کاربران ارائه می دهند، درحالی که دو صفحه نمایش کوچک که مستقیما جلوی چشم آن ها قرار دارند، به طور همزمان قلمرو دیجیتال تعاملی را نمایش می دهند. هدست متا کوئست ۳ نیز که اکتبر ۲۰۲۳ منتشر شد، از سبک فناوری ویديویی مشابه Pass-Through استفاده می کند. واقعیت ترکیبی نه واقعیت مجازی مرسوم است که به طور کلی جلوی دنیای واقعی را بگیرد و نه واقعیت افزوده است که پوشش دیجیتالی روی لنزهای شفاف ارائه دهد. درعوض، دستگاه مجهز به فناوری Pass-Through نمایشی دیجیتالی از محیط فرد (مثلا دست ها و اجسام نزدیک او) را به فضای کاملا مجازی منتقل می کند؛ بدان معنا که دستگاه، واسطه ی کل تجربه های کاربران است. لیزا مِسری، انسان شناس اجتماعی فرهنگی از دانشگاه ییل می گوید: «این رویای شرکت های فناوری است، زیرا هرگز نیازی نیست آن را کنار بگذارید. آن ها همیشه می توانند توجه شما را جلب کنند. آن ها همیشه می دانند شما به کجا نگاه می کنید و چه کاری انجام می دهید.» به نظر بيلنسون، ویژون پرو و کوئست ۳ پیشرفت های تکنولوژیکی هیجان انگیزی هستند که گرافیک واقعیت مجازی و میدان دید محدود واقعیت افزوده را بهبود می بخشند. با این حال، فناوری Pass-Through خطرات جدیدی نیز به همراه دارد. در مطالعه ای که اوایل ماه جاری متشر شد، بيلنسون و همکارانش برخی از اثرات کوتاه مدت واقعیت ترکیبی را ارزیابی کردند. آن ها دریافتند که استفاده از این هدست ها ادراک بصری کاربر را محدود می کند و می تواند رفتار اجتماعی و عملکرد حرکتی او را نیز تغییر دهد. علاوه بر این، فناوری Pass-Through ویژگی هایی دارد که موجب تاخیر بصری و سایر اختلالات بینایی می شود. اشباع رنگ به طور مکرر تغییر می کند، نور کم می شود و برخی از اشیاء خیلی نزدیک یا خیلی تار به نظر می رسند. اگرچه، ویژن پرو ویژگی های چشمگیری دارد، وضوح تصویر آن هنوز پایین تر از چیزی است که چشم انسان به ادراک آن عادت دارد. تیم پژوهشی توصیه می کند که در طول روز ساعت های طولانی از این عینک استفاده نکنید. نویسندگان مقاله به شرکت هایی که برای استفاده ی روزانه از این هدست ها لابی گری می کنند، توصیه می کنند که احتیاط کنند. مطالعات طولانی مدتی درزمینه ی استفاده از واقعیت مجازی یا واقعیت افزوده در دست نیست. بيلنسون درحال نظارت بر شرکت کنندگانی است که به طور منظم از هدست های واقعیت ترکیبی استفاده می کنند، اما نتایج این مطالعه چند ماه بعد کامل و منتشر خواهد شد. رابیندرا راتان، دانشیار رسانه و اطلاعات در دانشگاه ایالتی میشیگان و یکی از نویسندگان مقاله ای که اخیرا منتشر شد، می گوید نمی دانیم قدم زدن در شرایط کاهش دید محیطی یا انحرافات بصری چه پیامدهایی دارد. این امر می تواند اثراتی روی حرکت چشم های شما در فضا داشته باشد و ممکن است بینایی تان را بدتر کند. هنگام استفاده از دستگاه واقعیت مجازی رانندگی نکنید راتان می گوید پژوهش های گذشته روی عینک های منشوری (عینک های دارای روکش های خاص که موجب جا به جایی و تحریفات بینایی می شوند)، نشان می دهد افراد می توانند با اختللات بصری قابل توجه سازگار شوند. اما بازگشت حالت طبیعی دید تغییریافته مستلزم دوره سازگاری است که می تواند ساعت ها یا حتی روزها طول بکشد. بازگشت به بینایی عادی (مثلا با برداشتن هدست) معمولا سریع تر و درحد چند دقیقه طول می کشد. با این حال، شکاف بین ذهن و بدن می تواند وظایف حرکتی اساسی مانند فشردن دکمه های آسانسور و راه رفتن در مکان شلوغ را بسیار چالش برانگیزتر کند. آن ها همچنین می توانند به نگرانی های ایمنی جدی منجر شوند. وقتی پژوهشگران درحال استفاده از هدست دوچرخه سواری می کردند، این کار برایشان دشوارتر شد. بیلنسون خاطرنشان می کند که در بدترین سناریو، اگر فردی درحالی که هدست استفاده کرده، درحال دوچرخه سواری باشد و باتری آن تمام شود، دید او ناگهان کاملا تیره وتار می شود. همچنین، پیمایش با دستگاه متصل به اینترنت که به صورت شما متصل است می تواند موجب پرت شدن حواس شود. درحال حاضر مردم درحال استفاده از هدست های واقعیت ترکیبی هنگام رانندگی هستند. تنها چهار روز پس از انتشار ویژن پرو، سازمان ایمنی ترافیک بزرگراه های ملی آمریکا در بیانیه ای از مردم خواست هنگام استفاده از دستگاه واقعیت مجازی رانندگی نکنند. وزیر حمل و نقل نیز با انتشار پستی در رسانه های اجتماعی خاطرنشان کرد که همه ی خودروهای دردسترس مصرف کنندگان، حتی خودروهای دارای سیستم های پیشرفته ی کمک راننده هنوز به مشارکت رانندگان انسانی نیاز دارند. هدست های واقعیت افزوده، واقعیت مجازی و واقعیت ترکیبی همچنین اغلب موجب «بیماری شبیه ساز» می شوند که شامل مجموعه ای از علائم آزاردهنده مانند تهوع، سردرد، سرگیجه و خستگی چشم است. بیلنسون و همکارانش در بیشتر جلسات با دستگاه خود، حتی اگر تست ها کمتر از یک ساعت طول می کشید، با بیماری شبیه ساز مواجه شدند. حتی سطوح پایین بیماری شبیه ساز می تواند بر کیفیت زندگی، سطح فعالیت و بهره وری افراد تاثیر بگذارد. در آزمایشی در سال ۲۰۱۴ فرانک اشتینیکه، استاد تعامل انسان و کامپیوتر در دانشگاه هامبورگ آلمان ۲۴ ساعت را به طور متناوب بین دو ساعت استفاده از واقعیت مجازی و ۱۰ دقیقه وقفه سپری کرد. در طول مطالعه، اشتینیکه مطمئن نبود چه چیزی واقعی است و چه چیزی واقعی نیست. مطالعه ای از سال ۲۰۰۹ نشان داد استفاده از واقعیت مجازی می تواند موجب تشکیل خاطرات غیرواقعی در کودکان شود. این در شرایطی است که وضوح تصویر و کیفیت واقعیت مجازی ۱۵ سال پیش بسیار بدتر بود. اشتینیکه می گوید: «صفحه نمایش صوتی و تصویری بهتر و بهتر می شود. بنابراین، تقریبا مطمئن هستم که محتوای مجازی و واقعیت همچنان با هم ادغام می شوند.» البته او آینده ی محاسباتی مثبت تری را تجسم می کند که در آن، این ابزارها به طور مفیدی جایگزین کلیدها و صفحات لمسی می شوند. افرادی که از دستگاه های واقعیت افزوده استفاده می کنند، منزوی  می شوند جهان های دیجیتالی فراگیر ممکن است بر نحوه ی فکر کردن و اجتماعی شدن کاربران نیز تاثیر بگذارند و بتوانند بر نحوه کار یا یادگیری آن ها اثر بذارند. طبق مطالعه ای از سال ۲۰۱۹، افرادی که هدست واقعیت مجازی استفاده می کنند، در حضور شخصیت انسانی مجازی، در کارهای شناختی ساده بهتر عمل می کنند، اما عملکرد آن ها در وظایف شناختی پیچیده بدتر می شود. پژوهشگران متوجه شده اند افرادی که از دستگاه های واقعیت افزوده استفاده می کنند، در مقایسه با افراد اطرافشان که هدست استفاده نمی کنند، حالت منزوی تری دارند. مارک رومن میلر، نویسنده ی اصلی مقاله سال ۲۰۱۹ و استادیار مؤسسه فناوری ایلینوی که تاثیر رفتاری واقعیت مجازی و افزوده را مطالعه می کند، می گوید: «استفاده از هدست واقعیت مجازی یا واقعیت ترکیبی ذاتا منزوی کننده است.» میلر می افزاید وقتی کارگران از هدست استفاده می کنند، همکاری حضوری چالش برانگیزتر می شود؛ زیرا غیرممکن است چیزی را که به آن نگاه می کنید، به دیگری نشان دهید یا صفحه نمایش را به اشتراک بگذارید، مگر اینکه لایه های اضافی نرم افزار به عنوان واسطه عمل کنند. \n"
     ]
    }
   ],
   "source": [
    "import json\n",
    "\n",
    "with open('crawling/data.json', 'r', encoding='utf-8') as file:\n",
    "    data = json.load(file)\n",
    "    \n",
    "print(data[3]['content'])"
   ],
   "metadata": {
    "collapsed": false,
    "ExecuteTime": {
     "end_time": "2024-04-01T23:12:58.958180900Z",
     "start_time": "2024-04-01T23:12:58.863154500Z"
    }
   },
   "id": "285438b54753d65a"
  },
  {
   "cell_type": "markdown",
   "source": [
    "## One Sample of Processed Data (Normalized Data)"
   ],
   "metadata": {
    "collapsed": false
   },
   "id": "dd1b1beeea64ff26"
  },
  {
   "cell_type": "code",
   "execution_count": 1,
   "id": "initial_id",
   "metadata": {
    "collapsed": true,
    "ExecuteTime": {
     "end_time": "2024-04-02T00:00:17.281656300Z",
     "start_time": "2024-04-02T00:00:17.235568100Z"
    }
   },
   "outputs": [
    {
     "name": "stdout",
     "output_type": "stream",
     "text": [
      " اپل سرانجام چندی پیش‌هدست واقعیت ترکیبی ویژن پرو را که از مدت‌ها وعده داده‌بود، عرضه کرد. این شرکت دستگاه جدیدش را که قیمت اولیه‌ی آن ۳۵۰۰ دلار است، به عنوان «کامپیوتر فضایی» و جایگزینی برای لپ تاپ‌ها یا کامپیوترهای رومیزی استاندارد توصیف می‌کند. تبلیغات اپل افرادی را نشان می‌دهد که از هدست ویژن پرو برای ارسال ایمیل و سایر کارهای دو بعدی معمولی استفاده می‌کنند و این شرکت در بیانیه مطبوعاتی ژوئن ۲۰۲۳ اعلام کرد ویژن پرو برای استفاده تمام روز طراحی شده‌است. کاربران مشتاق اولیه گزارش می‌کنند که از آن ده‌ها ساعت به طور مداوم استفاده می‌کنند. به نقل از ساینتیفیک آمریکن، بسیاری از کارشناسان تردید دارند که هدست‌هایی همچون ویژن پرو بتوانند یا باید جایگزین مانیتورهای فیزیکی، صفحه کلید و موس شود. برخی نگران هستند که استفاده‌ی طولانی مد ت از چنین دستگاهی بتواند به بیماری حرکت، انواع جدیدی از انزوای اجتماعی یا سایر پیامدهای ناخواسته منجر شود. جرمی بيلنسون، مدیر مؤسس آزمایشگاه تعامل انسانی مجازی دانشگاه استنفورد که روانشناسی واقعیت مجازی و واقعیت افزوده را مطالعه می‌کند، می‌گوید: «واقعیت مجازی و واقعیت افزوده ابزارهای باورنکردنی برای ایجاد تجارب فراگیر و منحصربه فرد هستند. اما این بدان معنا نیست که چنین هدستی همیشه ابزار مفیدی است. ما از آن برای کارهای روزمره استفاده نمی‌کنیم. برای خواندن ایمیل یا وارد کردن اعداد در صفحه گسترده نیازی به استفاده از هدست ندارید.» استفاده طولانی مد ت از هدست واقعیت ترکیبی ممکن است به بیماری حرکت و انزوای اجتماعی منجر شود عینک ۶۵۰ گرمی اپل از حسگرهایی ازجمله اسکنر لیدار و آرایه دوربین استفاده می‌کند تا تجربه «واقعیت ترکیبی» را به کاربران خود هدیه دهد. دوربین‌های رو به بیرون، دید آنی از محیط پیرامون کاربران ارائه می‌دهند، درحالی که دو صفحه نمایش کوچک که مستقیما جلوی چشم آن‌ها قرار دارند، به طور همزمان قلمرو دیجیتال تعاملی را نمایش می‌دهند. هدست متا کوئست ۳ نیز که اکتبر ۲۰۲۳ منتشر شد، از سبک فناوری ویديویی مشابه Pass-Through استفاده می‌کند. واقعیت ترکیبی نه واقعیت مجازی مرسوم است که به طور کلی جلوی دنیای واقعی را بگیرد و نه واقعیت افزوده‌است که پوشش دیجیتالی روی لنزهای شفاف ارائه دهد. درعوض، دستگاه مجهز به فناوری Pass-Through نمایشی دیجیتالی از محیط فرد(مثلا دست‌ها و اجسام نزدیک او) را به فضای کاملا مجازی منتقل می‌کند؛ بدان معنا که دستگاه، واسطه‌ی کل تجربه‌های کاربران است. لیزا مِسری، انسان‌شناس اجتماعی فرهنگی از دانشگاه ییل می‌گوید: «این رویای شرکت‌های فناوری است، زیرا هرگز نیازی نیست آن را کنار بگذارید. آن‌ها همیشه می‌توانند توجه شما را جلب کنند. آن‌ها همیشه می‌دانند شما به کجا نگاه می‌کنید و چه کاری انجام می‌دهید.» به نظر بيلنسون، ویژون پرو و کوئست ۳ پیشرفت‌های تکنولوژیکی هیجان انگیزی هستند که گرافیک واقعیت مجازی و میدان دید محدود واقعیت افزوده را بهبود می‌بخشند. با این حال، فناوری Pass-Through خطرات جدیدی نیز به همراه دارد. در مطالعه‌ای که اوایل ماه جاری متشر شد، بيلنسون و همکارانش برخی از اثرات کوتاه مدت واقعیت ترکیبی را ارزیابی کردند. آن‌ها دریافتند که استفاده از این هدست‌ها ادراک بصری کاربر را محدود می‌کند و می‌تواند رفتار اجتماعی و عملکرد حرکتی او را نیز تغییر دهد. علاوه بر‌این، فناوری Pass-Through ویژگی‌هایی دارد که موجب تاخیر بصری و سایر اختلالات بینایی می‌شود. اشباع رنگ به طور مکرر تغییر می‌کند، نور کم‌می‌شود و برخی از اشیاء خیلی نزدیک یا خیلی تار به نظر می‌رسند. اگرچه، ویژن پرو ویژگی‌های چشمگیری دارد، وضوح تصویر آن هنوز پایین‌تر از چیزی است که چشم انسان به ادراک آن عادت دارد. تیم پژوهشی توصیه می‌کند که در طول روز ساعت‌های طولانی از این عینک استفاده نکنید. نویسندگان مقاله به شرکت‌هایی که برای استفاده‌ی روزانه از این هدست‌ها لابی‌گری می‌کنند، توصیه می‌کنند که احتیاط کنند. مطالعات طولانی مدتی درزمینه‌ی استفاده از واقعیت مجازی یا واقعیت افزوده در دست نیست. بيلنسون درحال نظارت بر‌شرکت کنندگانی است که به طور منظم از هدست‌های واقعیت ترکیبی استفاده می‌کنند، اما نتایج این مطالعه چند ماه بعد کامل و منتشر خواهد شد. رابیندرا راتان، دانشیار رسانه و اطلاعات در دانشگاه ایالتی میشیگان و یکی از نویسندگان مقاله‌ای که اخیرا منتشر شد، می‌گوید نمی‌دانیم قدم زدن در شرایط کاهش دید محیطی یا انحرافات بصری چه پیامدهایی دارد. این امر می‌تواند اثراتی روی حرکت چشم‌های شما در فضا داشته‌باشد و ممکن است بینایی‌تان را بدتر کند. هنگام استفاده از دستگاه واقعیت مجازی رانندگی نکنید راتان می‌گوید پژوهش‌های گذشته روی عینک‌های منشوری(عینک‌های دارای روکش‌های خاص که موجب جا به جایی و تحریفات بینایی می‌شوند) ، نشان می‌دهد افراد می‌توانند با اختللات بصری قابل توجه سازگار شوند. اما بازگشت حالت طبیعی دید تغییریافته مستلزم دوره سازگاری است که می‌تواند ساعت‌ها یا حتی روزها طول بکشد. بازگشت به بینایی عادی(مثلا با برداشتن هدست) معمولا سریع‌تر و درحد چند دقیقه طول می‌کشد. با این حال، شکاف بین ذهن و بدن می‌تواند وظایف حرکتی اساسی مانند فشردن دکمه‌های آسانسور و راه رفتن در مکان شلوغ را بسیار چالش برانگیزتر کند. آن‌ها همچنین می‌توانند به نگرانی‌های ایمنی جدی منجر شوند. وقتی پژوهشگران درحال استفاده از هدست دوچرخه سواری می‌کردند، این کار برایشان دشوارتر شد. بیلنسون خاطرنشان می‌کند که در بدترین سناریو، اگر فردی درحالی که هدست استفاده کرده، درحال دوچرخه سواری باشد و باتری آن تمام شود، دید او ناگهان کاملا تیره وتار می‌شود. همچنین، پیمایش با دستگاه متصل به اینترنت که به صورت شما متصل است می‌تواند موجب پرت شدن حواس شود. درحال حاضر مردم درحال استفاده از هدست‌های واقعیت ترکیبی هنگام رانندگی هستند. تنها چهار روز پس از انتشار ویژن پرو، سازمان ایمنی ترافیک بزرگراه‌های ملی آمریکا در بیانیه‌ای از مردم خواست هنگام استفاده از دستگاه واقعیت مجازی رانندگی نکنند. وزیر حمل و نقل نیز با انتشار پستی در رسانه‌های اجتماعی خاطرنشان کرد که همه‌ی خودروهای دردسترس مصرف‌کنندگان، حتی خودروهای دارای سیستم‌های پیشرفته‌ی کمک راننده هنوز به مشارکت رانندگان انسانی نیاز دارند. هدست‌های واقعیت افزوده، واقعیت مجازی و واقعیت ترکیبی همچنین اغلب موجب «بیماری شبیه ساز» می‌شوند که شامل مجموعه‌ای از علائم آزاردهنده مانند تهوع، سردرد، سرگیجه و خستگی چشم است. بیلنسون و همکارانش در بیشتر جلسات با دستگاه خود، حتی اگر تست‌ها کمتر از یک ساعت طول می‌کشید، با بیماری شبیه ساز مواجه شدند. حتی سطوح پایین بیماری شبیه ساز می‌تواند بر‌کیفیت زندگی، سطح فعالیت و بهره وری افراد تاثیر بگذارد. در آزمایشی در سال ۲۰۱۴ فرانک اشتینیکه، استاد تعامل انسان و کامپیوتر در دانشگاه هامبورگ آلمان ۲۴ ساعت را به طور متناوب بین دو ساعت استفاده از واقعیت مجازی و ۱۰ دقیقه وقفه سپری کرد. در طول مطالعه، اشتینیکه مطمئن نبود چه چیزی واقعی است و چه چیزی واقعی نیست. مطالعه‌ای از سال ۲۰۰۹ نشان داد استفاده از واقعیت مجازی می‌تواند موجب تشکیل خاطرات غیرواقعی در کودکان شود. این در شرایطی است که وضوح تصویر و کیفیت واقعیت مجازی ۱۵ سال پیش‌بسیار بدتر بود. اشتینیکه می‌گوید: «صفحه نمایش صوتی و تصویری بهتر و بهتر می‌شود. بنابراین، تقریبا مطمئن هستم که محتوای مجازی و واقعیت همچنان با هم‌ادغام می‌شوند.» البته او آینده‌ی محاسباتی مثبت تری را تجسم می‌کند که در آن، این ابزارها به طور مفیدی جایگزین کلیدها و صفحات لمسی می‌شوند. افرادی که از دستگاه‌های واقعیت افزوده استفاده می‌کنند، منزوی می‌شوند جهان‌های دیجیتالی فراگیر ممکن است بر‌نحوه‌ی فکر کردن و اجتماعی شدن کاربران نیز تاثیر بگذارند و بتوانند بر‌نحوه کار یا یادگیری آن‌ها اثر بذارند. طبق مطالعه‌ای از سال ۲۰۱۹، افرادی که هدست واقعیت مجازی استفاده می‌کنند، در حضور شخصیت انسانی مجازی، در کارهای شناختی ساده بهتر عمل می‌کنند، اما عملکرد آن‌ها در وظایف شناختی پیچیده بدتر می‌شود. پژوهشگران متوجه شده‌اند افرادی که از دستگاه‌های واقعیت افزوده استفاده می‌کنند، در مقایسه با افراد اطرافشان که هدست استفاده نمی‌کنند، حالت منزوی تری دارند. مارک رومن میلر، نویسنده‌ی اصلی مقاله سال ۲۰۱۹ و استادیار مؤسسه فناوری ایلینوی که تاثیر رفتاری واقعیت مجازی و افزوده را مطالعه می‌کند، می‌گوید: «استفاده از هدست واقعیت مجازی یا واقعیت ترکیبی ذاتا منزوی‌کننده است.» میلر می‌افزاید وقتی کارگران از هدست استفاده می‌کنند، همکاری حضوری چالش برانگیزتر می‌شود؛ زیرا غیرممکن است چیزی را که به آن نگاه می‌کنید، به دیگری نشان دهید یا صفحه نمایش را به اشتراک بگذارید، مگر اینکه لایه‌های اضافی نرم‌افزار به عنوان واسطه عمل کنند. \n"
     ]
    }
   ],
   "source": [
    "import json\n",
    "\n",
    "with open('preprocessing/processed_data.json', 'r', encoding='utf-8') as file:\n",
    "    data = json.load(file)\n",
    "    \n",
    "print(data[3]['content'])"
   ]
  },
  {
   "cell_type": "markdown",
   "source": [
    "As you can see, all the half spaces are fixed for verbs or suffixes or prefixes, and all the other normalizations which were mentioned are done correctly like fixing the space between '(' punctuation and its previous word. \n",
    "\n",
    "## Explore the Data\n",
    "\n",
    "Now, we are going to explore the data and extract some information like frequency analysis inspiring from the NoteBook introduced in the homework pdf file. "
   ],
   "metadata": {
    "collapsed": false
   },
   "id": "5e76ef27aa421f1c"
  },
  {
   "cell_type": "markdown",
   "source": [
    "### Sentence Tokenization"
   ],
   "metadata": {
    "collapsed": false
   },
   "id": "1435e01d3dd0a71f"
  },
  {
   "cell_type": "code",
   "execution_count": 4,
   "outputs": [
    {
     "data": {
      "text/plain": "['سامسونگ در نوامبر ۲۰۲۳(آبان و آذر ۱۴۰۲) گوشی گلکسی A05 را در هند عرضه کرد.',\n 'حالا غول کره\\u200cای قیمت گوشی را در هند کاهش داده\\u200cاست.',\n 'قیمت جدید، هر دو پیکربندی رم و فضای ذخیره\\u200cسازی را شامل می\\u200cشود.',\n 'سامسونگ گلکسی A05 در پیکربندی ۴ گیگابایت رم و ۶۴ گیگابایت فضای ذخیره\\u200cسازی و ۶ گیگابایت رم با ۱۲۸ گیگابایت فضای ذخیره\\u200cسازی عرضه شده\\u200cاست.',\n 'کانفیگ\\u200cهای مورد بحث گوشی سامسونگ در زمان عرضه به ترتیب ۱۲۰ و ۱۵۷ دلار قیمت داشتند.',\n 'اکنون، مدل پایه با قیمت ۱۰۴ دلار به فروش می\\u200cرسد و قیمت گوشی در مدل ۱۲۸ گیگابایتی به ۱۳۳ دلار کاهش یافته\\u200cاست.',\n 'علاقه مندان در هند می\\u200cتوانند سامسونگ گلکسی A05 را از وب سایت رسمی سامسونگ و وب سایت Croma خریداری کنند.',\n 'این گوشی در رنگ\\u200cهای سبز روشن، مشکی و نقره\\u200cای عرضه می\\u200cشود.',\n 'گلکسی A05 دارای صفحه نمایش ۶٫۷ اینچی با وضوح +HD و ناچ Infinity-U است که یک دوربین سلفی ۸ مگاپیکسلی را در خود جای داده.',\n 'در پشت گوشی، دوربین اصلی ۵۰ مگاپیکسلی با یک حسگر عمق سنج ۲ مگاپیکسلی قرار گرفته\\u200cاست.',\n 'این گوشی هوشمند به پردازنده\\u200cی هلیو G85 و اسلات کارت microSD مجهز است.',\n 'باتری گلکسی A05 سامسونگ دارای ظرفیت ۵٬۰۰۰ میلی آمپر ساعتی است و از شارژ سریع ۲۵ واتی پشتیبانی می\\u200cکند.',\n 'این گوشی با OneUI 5.1 و سیستم عامل اندروید ۱۳ عرضه شده\\u200cاست.',\n 'میزو از گوشی پرچمدار جدیدش با بهترین تراشه\\u200cی کوالکام و نمایشگر باکیفیت رونمایی کرد.',\n 'اسپیکر جدید شیائومی قیمت بسیار مناسبی دارد و برای مدت طولانی موسیقی پخش می\\u200cکند.',\n 'با قابلیت جدیدی که گوگل ایجاد کرده\\u200cاست، تماس\\u200cهای تلفنی به کاری سرگرم\\u200cکننده تبدیل خواهند شد.',\n 'سری پیکسل ۸ با کنار زدن رقبای قدرتمندش، در MWC 2024 به عنوان بهترین گوشی ۲۰۲۳ انتخاب شد.']"
     },
     "execution_count": 4,
     "metadata": {},
     "output_type": "execute_result"
    }
   ],
   "source": [
    "from hazm import *\n",
    "\n",
    "contents = [item['content'] for item in data]\n",
    "\n",
    "contents_sentences = [sent_tokenize(x) for x in contents]\n",
    "contents_sentences[0]"
   ],
   "metadata": {
    "collapsed": false,
    "ExecuteTime": {
     "end_time": "2024-04-01T23:13:17.078407500Z",
     "start_time": "2024-04-01T23:13:13.889388800Z"
    }
   },
   "id": "444586ef80dac500"
  },
  {
   "cell_type": "markdown",
   "source": [
    "### Tokenization"
   ],
   "metadata": {
    "collapsed": false
   },
   "id": "bd4821b7c66013ae"
  },
  {
   "cell_type": "code",
   "execution_count": 5,
   "outputs": [
    {
     "data": {
      "text/plain": "[['سامسونگ',\n  'در',\n  'نوامبر',\n  '۲۰۲۳',\n  '(',\n  'آبان',\n  'و',\n  'آذر',\n  '۱۴۰۲',\n  ')',\n  'گوشی',\n  'گلکسی',\n  'A',\n  '05',\n  'را',\n  'در',\n  'هند',\n  'عرضه',\n  'کرد',\n  '.'],\n ['حالا',\n  'غول',\n  'کره\\u200cای',\n  'قیمت',\n  'گوشی',\n  'را',\n  'در',\n  'هند',\n  'کاهش',\n  'داده\\u200cاست',\n  '.'],\n ['قیمت',\n  'جدید',\n  '،',\n  'هر',\n  'دو',\n  'پیکربندی',\n  'رم',\n  'و',\n  'فضای',\n  'ذخیره\\u200cسازی',\n  'را',\n  'شامل',\n  'می\\u200cشود',\n  '.'],\n ['سامسونگ',\n  'گلکسی',\n  'A',\n  '05',\n  'در',\n  'پیکربندی',\n  '۴',\n  'گیگابایت',\n  'رم',\n  'و',\n  '۶۴',\n  'گیگابایت',\n  'فضای',\n  'ذخیره\\u200cسازی',\n  'و',\n  '۶',\n  'گیگابایت',\n  'رم',\n  'با',\n  '۱۲۸',\n  'گیگابایت',\n  'فضای',\n  'ذخیره\\u200cسازی',\n  'عرضه',\n  'شده\\u200cاست',\n  '.'],\n ['کانفیگ\\u200cهای',\n  'مورد',\n  'بحث',\n  'گوشی',\n  'سامسونگ',\n  'در',\n  'زمان',\n  'عرضه',\n  'به',\n  'ترتیب',\n  '۱۲۰',\n  'و',\n  '۱۵۷',\n  'دلار',\n  'قیمت',\n  'داشتند',\n  '.'],\n ['اکنون',\n  '،',\n  'مدل',\n  'پایه',\n  'با',\n  'قیمت',\n  '۱۰۴',\n  'دلار',\n  'به',\n  'فروش',\n  'می\\u200cرسد',\n  'و',\n  'قیمت',\n  'گوشی',\n  'در',\n  'مدل',\n  '۱۲۸',\n  'گیگابایتی',\n  'به',\n  '۱۳۳',\n  'دلار',\n  'کاهش',\n  'یافته\\u200cاست',\n  '.'],\n ['علاقه',\n  'مندان',\n  'در',\n  'هند',\n  'می\\u200cتوانند',\n  'سامسونگ',\n  'گلکسی',\n  'A',\n  '05',\n  'را',\n  'از',\n  'وب',\n  'سایت',\n  'رسمی',\n  'سامسونگ',\n  'و',\n  'وب',\n  'سایت',\n  'Croma',\n  'خریداری',\n  'کنند',\n  '.'],\n ['این',\n  'گوشی',\n  'در',\n  'رنگ\\u200cهای',\n  'سبز',\n  'روشن',\n  '،',\n  'مشکی',\n  'و',\n  'نقره\\u200cای',\n  'عرضه',\n  'می\\u200cشود',\n  '.'],\n ['گلکسی',\n  'A',\n  '05',\n  'دارای',\n  'صفحه',\n  'نمایش',\n  '۶',\n  '٫',\n  '۷',\n  'اینچی',\n  'با',\n  'وضوح',\n  '+HD',\n  'و',\n  'ناچ',\n  'Infinity-U',\n  'است',\n  'که',\n  'یک',\n  'دوربین',\n  'سلفی',\n  '۸',\n  'مگاپیکسلی',\n  'را',\n  'در',\n  'خود',\n  'جای',\n  'داده',\n  '.'],\n ['در',\n  'پشت',\n  'گوشی',\n  '،',\n  'دوربین',\n  'اصلی',\n  '۵۰',\n  'مگاپیکسلی',\n  'با',\n  'یک',\n  'حسگر',\n  'عمق',\n  'سنج',\n  '۲',\n  'مگاپیکسلی',\n  'قرار',\n  'گرفته\\u200cاست',\n  '.'],\n ['این',\n  'گوشی',\n  'هوشمند',\n  'به',\n  'پردازنده\\u200cی',\n  'هلیو',\n  'G',\n  '85',\n  'و',\n  'اسلات',\n  'کارت',\n  'microSD',\n  'مجهز',\n  'است',\n  '.'],\n ['باتری',\n  'گلکسی',\n  'A',\n  '05',\n  'سامسونگ',\n  'دارای',\n  'ظرفیت',\n  '۵',\n  '٬',\n  '۰۰۰',\n  'میلی',\n  'آمپر',\n  'ساعتی',\n  'است',\n  'و',\n  'از',\n  'شارژ',\n  'سریع',\n  '۲۵',\n  'واتی',\n  'پشتیبانی',\n  'می\\u200cکند',\n  '.'],\n ['این',\n  'گوشی',\n  'با',\n  'OneUI',\n  '5.1',\n  'و',\n  'سیستم',\n  'عامل',\n  'اندروید',\n  '۱۳',\n  'عرضه',\n  'شده\\u200cاست',\n  '.'],\n ['میزو',\n  'از',\n  'گوشی',\n  'پرچمدار',\n  'جدیدش',\n  'با',\n  'بهترین',\n  'تراشه\\u200cی',\n  'کوالکام',\n  'و',\n  'نمایشگر',\n  'باکیفیت',\n  'رونمایی',\n  'کرد',\n  '.'],\n ['اسپیکر',\n  'جدید',\n  'شیائومی',\n  'قیمت',\n  'بسیار',\n  'مناسبی',\n  'دارد',\n  'و',\n  'برای',\n  'مدت',\n  'طولانی',\n  'موسیقی',\n  'پخش',\n  'می\\u200cکند',\n  '.'],\n ['با',\n  'قابلیت',\n  'جدیدی',\n  'که',\n  'گوگل',\n  'ایجاد',\n  'کرده\\u200cاست',\n  '،',\n  'تماس\\u200cهای',\n  'تلفنی',\n  'به',\n  'کاری',\n  'سرگرم\\u200cکننده',\n  'تبدیل',\n  'خواهند_شد',\n  '.'],\n ['سری',\n  'پیکسل',\n  '۸',\n  'با',\n  'کنار',\n  'زدن',\n  'رقبای',\n  'قدرتمندش',\n  '،',\n  'در',\n  'MWC',\n  '2024',\n  'به',\n  'عنوان',\n  'بهترین',\n  'گوشی',\n  '۲۰۲۳',\n  'انتخاب',\n  'شد',\n  '.']]"
     },
     "execution_count": 5,
     "metadata": {},
     "output_type": "execute_result"
    }
   ],
   "source": [
    "tokens = [[word_tokenize(sent) for sent in sents] for sents in contents_sentences]\n",
    "tokens[0]"
   ],
   "metadata": {
    "collapsed": false,
    "ExecuteTime": {
     "end_time": "2024-04-01T23:13:20.026473300Z",
     "start_time": "2024-04-01T23:13:19.062107400Z"
    }
   },
   "id": "eae0983082b43f50"
  },
  {
   "cell_type": "markdown",
   "source": [
    "### Frequency Analysis"
   ],
   "metadata": {
    "collapsed": false
   },
   "id": "975b417019ebb9d9"
  },
  {
   "cell_type": "code",
   "execution_count": 6,
   "outputs": [
    {
     "data": {
      "text/plain": "         all_tokens\n0        (., 11635)\n1         (و, 8917)\n2        (به, 8574)\n3         (،, 7744)\n4        (در, 7550)\n5        (از, 6506)\n6        (را, 4873)\n7        (که, 4864)\n8        (با, 4597)\n9       (این, 3635)\n10     (برای, 2565)\n11     (گوشی, 2336)\n12      (است, 2323)\n13     (دارد, 1608)\n14   (می‌کند, 1260)\n15      (خود, 1212)\n16  (شیائومی, 1115)\n17     (جدید, 1048)\n18      (کرد, 1027)\n19       (آن, 1006)",
      "text/html": "<div>\n<style scoped>\n    .dataframe tbody tr th:only-of-type {\n        vertical-align: middle;\n    }\n\n    .dataframe tbody tr th {\n        vertical-align: top;\n    }\n\n    .dataframe thead th {\n        text-align: right;\n    }\n</style>\n<table border=\"1\" class=\"dataframe\">\n  <thead>\n    <tr style=\"text-align: right;\">\n      <th></th>\n      <th>all_tokens</th>\n    </tr>\n  </thead>\n  <tbody>\n    <tr>\n      <th>0</th>\n      <td>(., 11635)</td>\n    </tr>\n    <tr>\n      <th>1</th>\n      <td>(و, 8917)</td>\n    </tr>\n    <tr>\n      <th>2</th>\n      <td>(به, 8574)</td>\n    </tr>\n    <tr>\n      <th>3</th>\n      <td>(،, 7744)</td>\n    </tr>\n    <tr>\n      <th>4</th>\n      <td>(در, 7550)</td>\n    </tr>\n    <tr>\n      <th>5</th>\n      <td>(از, 6506)</td>\n    </tr>\n    <tr>\n      <th>6</th>\n      <td>(را, 4873)</td>\n    </tr>\n    <tr>\n      <th>7</th>\n      <td>(که, 4864)</td>\n    </tr>\n    <tr>\n      <th>8</th>\n      <td>(با, 4597)</td>\n    </tr>\n    <tr>\n      <th>9</th>\n      <td>(این, 3635)</td>\n    </tr>\n    <tr>\n      <th>10</th>\n      <td>(برای, 2565)</td>\n    </tr>\n    <tr>\n      <th>11</th>\n      <td>(گوشی, 2336)</td>\n    </tr>\n    <tr>\n      <th>12</th>\n      <td>(است, 2323)</td>\n    </tr>\n    <tr>\n      <th>13</th>\n      <td>(دارد, 1608)</td>\n    </tr>\n    <tr>\n      <th>14</th>\n      <td>(می‌کند, 1260)</td>\n    </tr>\n    <tr>\n      <th>15</th>\n      <td>(خود, 1212)</td>\n    </tr>\n    <tr>\n      <th>16</th>\n      <td>(شیائومی, 1115)</td>\n    </tr>\n    <tr>\n      <th>17</th>\n      <td>(جدید, 1048)</td>\n    </tr>\n    <tr>\n      <th>18</th>\n      <td>(کرد, 1027)</td>\n    </tr>\n    <tr>\n      <th>19</th>\n      <td>(آن, 1006)</td>\n    </tr>\n  </tbody>\n</table>\n</div>"
     },
     "execution_count": 6,
     "metadata": {},
     "output_type": "execute_result"
    }
   ],
   "source": [
    "from nltk import FreqDist\n",
    "import itertools\n",
    "import pandas as pd\n",
    "\n",
    "all_tokens = list(itertools.chain(*itertools.chain(*tokens)))\n",
    "\n",
    "tokens_df = {}\n",
    "\n",
    "tokens_df['all_tokens'] = FreqDist(eval(\"all_tokens\")).most_common(25)\n",
    "\n",
    "freq_analysis = pd.DataFrame(tokens_df)   \n",
    "freq_analysis.head(20)"
   ],
   "metadata": {
    "collapsed": false,
    "ExecuteTime": {
     "end_time": "2024-04-01T23:13:22.520875600Z",
     "start_time": "2024-04-01T23:13:21.094727700Z"
    }
   },
   "id": "9608aaddacab763b"
  },
  {
   "cell_type": "code",
   "execution_count": 7,
   "outputs": [
    {
     "name": "stdout",
     "output_type": "stream",
     "text": [
      "Number of words  291002          \n",
      "Number of unique words 16243           \n",
      "Average word length 4.057164555570065\n",
      "Longest word     RECEIVE_SENSITIVE_NOTIFICATIONS\n"
     ]
    }
   ],
   "source": [
    "import numpy as np\n",
    "\n",
    "print ('%-16s' % 'Number of words', '%-16s' % len(all_tokens))\n",
    "print ('%-16s' % 'Number of unique words', '%-16s' % len(set(all_tokens)))\n",
    "avg=np.sum([len(word) for word in all_tokens])/len(all_tokens)\n",
    "print ('%-16s' % 'Average word length', '%-16s' % avg)\n",
    "print ('%-16s' % 'Longest word', '%-16s' % all_tokens[np.argmax([len(word) for word in all_tokens])])"
   ],
   "metadata": {
    "collapsed": false,
    "ExecuteTime": {
     "end_time": "2024-04-01T23:13:23.907610900Z",
     "start_time": "2024-04-01T23:13:23.774407400Z"
    }
   },
   "id": "4a585900434d0b38"
  },
  {
   "cell_type": "markdown",
   "source": [
    "# Task : Keyphrase Extraction\n",
    "\n",
    "## <font color='red'>Wrong Approaches:</font>\n",
    "In the way of determining the correct approach, I tested many other approaches which are brought as expected. I used some libraries and their different keyphrase extraction algorithms but the results were not quite satisfying. Here, is the results for the algorithms of perke library:\n",
    " \n",
    "### TextRank Algorithm"
   ],
   "metadata": {
    "collapsed": false
   },
   "id": "220a2e8ee197ad88"
  },
  {
   "cell_type": "code",
   "execution_count": 5,
   "outputs": [
    {
     "name": "stdout",
     "output_type": "stream",
     "text": [
      "قیمت گوشی\n",
      "گوشی گلکسی\n",
      "گوشی سامسونگ\n",
      "بهترین گوشی\n",
      "به کاری سرگرم‌کننده\n",
      "قیمت جدید\n",
      "سامسونگ گلکسی\n",
      "عرضه به\n",
      "گوشی\n",
      "سامسونگ دارای\n",
      "\n",
      "\n",
      "کاربری Google Contacts\n",
      "گوشی هوشمند رول شدنی\n",
      "برنامه‌ی Google Contacts\n",
      "شدن ویژگی‌های جدید\n",
      "نزدیک شاهد تغییرات\n",
      "تلویزیون‌های سری QNED\n",
      "Google Contacts\n",
      "شرایط تغییر\n",
      "جدید شیائومی\n",
      "کاربری نوار\n",
      "\n",
      "\n",
      "شیائومی مدل جدیدی\n",
      "گوشی سامسونگ مدل گلکسی\n",
      "گوشی جدیدی\n",
      "به‌روزرسانی جدید\n",
      "جدید شیائومی\n",
      "به‌روزرسانی مشکل دوربین\n",
      "نمایش سری گلکسی\n",
      "تلویزیون‌های سری QNED\n",
      "مدت طولانی موسیقی\n",
      "بازار کره‌ی جنوبی\n",
      "\n",
      "\n",
      "هدست واقعیت مجازی استفاده\n",
      "هدست‌های واقعیت ترکیبی استفاده\n",
      "دستگاه واقعیت مجازی رانندگی\n",
      "هدست‌های واقعیت ترکیبی هنگام رانندگی\n",
      "واقعیت ترکیبی ویژن پرو را\n",
      "هدست واقعیت مجازی\n",
      "مدت واقعیت ترکیبی را\n",
      "رفتاری واقعیت مجازی\n",
      "تعامل انسانی مجازی دانشگاه\n",
      "هدست واقعیت ترکیبی\n"
     ]
    }
   ],
   "source": [
    "from perke.unsupervised.graph_based import TextRank\n",
    "\n",
    "# refine all\n",
    "for item in data[:4]:\n",
    "    text = item['content']\n",
    "    #text = \" \".join([w for w in text.split() if w not in stop_words])\n",
    "    valid_pos_tags = {'NOUN', 'ADJ'}\n",
    "    # 1. Create a TextRank extractor.\n",
    "    extractor = TextRank(valid_pos_tags=valid_pos_tags)\n",
    "\n",
    "# 2. Load the text.\n",
    "    extractor.load_text(input=text)\n",
    "\n",
    "# 3. Build the graph representation of the text and weight the\n",
    "#    words. Keyphrase candidates are composed of the 33 percent\n",
    "#    highest weighted words.\n",
    "    extractor.weight_candidates(window_size=2, top_t_percent=0.33)\n",
    "\n",
    "# 4. Get the 10 highest weighted candidates as keyphrases.\n",
    "    keyphrases = extractor.get_n_best(n=10)\n",
    "    \n",
    "    for word, score in keyphrases:\n",
    "        print(word)\n",
    "    \n",
    "    print('\\n\\n')"
   ],
   "metadata": {
    "collapsed": false,
    "ExecuteTime": {
     "end_time": "2024-04-02T00:05:37.678662200Z",
     "start_time": "2024-04-02T00:05:30.543484Z"
    }
   },
   "id": "6e06b2ba5a97d07d"
  },
  {
   "cell_type": "markdown",
   "source": [
    "### TopicRank Algorithm"
   ],
   "metadata": {
    "collapsed": false
   },
   "id": "e1d7cc5a04cf9745"
  },
  {
   "cell_type": "code",
   "execution_count": 7,
   "outputs": [
    {
     "name": "stdout",
     "output_type": "stream",
     "text": [
      "گوشی\n",
      "دلار قیمت\n",
      "مگاپیکسلی\n",
      "قیمت\n",
      "مدل پایه\n",
      "هند عرضه\n",
      "دوربین سلفی\n",
      "هند کاهش\n",
      "فروش\n",
      "گیگابایتی\n",
      "\n",
      "\n",
      "منوی همبرگری حذف\n",
      "ارسال پیامک نمایش\n",
      "رابط کاربری Google Contacts\n",
      "گوگل\n",
      "برنامه مجهز\n",
      "لگی کار\n",
      "نشان\n",
      "معرفی\n",
      "موسوم\n",
      "Phantom Ultimate\n",
      "\n",
      "\n",
      "دوربین\n",
      "ویژگی جدیدی\n",
      "خانواده منتشر\n",
      "سامسونگ\n",
      "انتشار\n",
      "رفع\n",
      "دسترس کاربران اروپایی قرار\n",
      "کاربرانی\n",
      "تمایل\n",
      "مراجعه\n",
      "\n",
      "\n",
      "روانشناسی واقعیت مجازی\n",
      "بعدی معمولی استفاده\n",
      "واقعیت ترکیبی ویژن پرو\n",
      "هدست ویژن پرو\n",
      "هدست\n",
      "دستگاه مجهز\n",
      "جرمی بیلنسون\n",
      "نشان\n",
      "چشم\n",
      "واقعیت افزوده\n"
     ]
    }
   ],
   "source": [
    "from perke.unsupervised.graph_based import TopicRank\n",
    "\n",
    "# refine all\n",
    "for item in data[:4]:\n",
    "    text = item['content']\n",
    "    #text = \" \".join([w for w in text.split() if w not in stop_words])\n",
    "\n",
    "    # Define the set of valid part of speech tags to occur in the model.\n",
    "    valid_pos_tags = {'NOUN', 'ADJ'}\n",
    "\n",
    "    # 1. Create a TopicRank extractor.\n",
    "    extractor = TopicRank(valid_pos_tags=valid_pos_tags)\n",
    "\n",
    "# 2. Load the text.\n",
    "    extractor.load_text(input=text, word_normalization_method=None)\n",
    "\n",
    "# 3. Select the longest sequences of nouns and adjectives, that do\n",
    "#    not contain punctuation marks or stopwords as candidates.\n",
    "    extractor.select_candidates()\n",
    "\n",
    "# 4. Build topics by grouping candidates with HAC (average linkage,\n",
    "#    jaccard distance, threshold of 1/4 of shared normalized words).\n",
    "#    Weight the topics using random walk, and select the first\n",
    "#    occurring candidate from each topic.\n",
    "    extractor.weight_candidates(\n",
    "        threshold=0.75, metric='jaccard', linkage_method='average'\n",
    "    )\n",
    "\n",
    "# 4. Get the 10 highest weighted candidates as keyphrases.\n",
    "    keyphrases = extractor.get_n_best(n=10)\n",
    "    \n",
    "    for word, score in keyphrases:\n",
    "        print(word)\n",
    "    \n",
    "    print('\\n\\n')"
   ],
   "metadata": {
    "collapsed": false,
    "ExecuteTime": {
     "end_time": "2024-04-02T00:06:18.559366Z",
     "start_time": "2024-04-02T00:06:11.621207800Z"
    }
   },
   "id": "6bbb5f6d705da8d5"
  },
  {
   "cell_type": "markdown",
   "source": [
    "### Singlerank"
   ],
   "metadata": {
    "collapsed": false
   },
   "id": "89b302c60f312ada"
  },
  {
   "cell_type": "code",
   "execution_count": 8,
   "outputs": [
    {
     "name": "stdout",
     "output_type": "stream",
     "text": [
      "گوشی گلکسی A\n",
      "کانفیگ‌های مورد بحث گوشی سامسونگ\n",
      "غول کره‌ای قیمت گوشی\n",
      "گوشی پرچمدار جدیدش\n",
      "سامسونگ گلکسی A\n",
      "قیمت گوشی\n",
      "عنوان بهترین گوشی\n",
      "گیگابایت فضای ذخیره‌سازی عرضه\n",
      "اسپیکر جدید شیائومی قیمت\n",
      "باتری گلکسی A\n",
      "\n",
      "\n",
      "رابط کاربری Google Contacts\n",
      "رابط کاربری بخش سربرگ صفحه‌ی مخاطبین\n",
      "اپلیکیشن Google Contacts چیزی\n",
      "برنامه‌ی Google Contacts\n",
      "Google Contacts جزو اپلیکیشن‌های\n",
      "نرم‌افزار Google Contacts\n",
      "اضافه شدن ویژگی‌های جدید\n",
      "تکنو گوشی هوشمند رول شدنی\n",
      "رابط کاربری نوار کناری\n",
      "آینده‌ی نزدیک شاهد تغییرات کوچکی\n",
      "\n",
      "\n",
      "جدید بهترین گوشی سامسونگ حجمی معادل\n",
      "گوشی سامسونگ مدل گلکسی S\n",
      "اسپیکر جدید شیائومی قیمت\n",
      "صفحه نمایش سری گلکسی S\n",
      "شیائومی مدل جدیدی\n",
      "خرید گوشی جدیدی\n",
      "به‌روزرسانی جدید\n",
      "سری گلکسی S\n",
      "قابلیت جدیدی\n",
      "پیش‌فروش تلویزیون‌های سری QNED ال‌جی\n",
      "\n",
      "\n",
      "هدست واقعیت مجازی استفاده\n",
      "دستگاه‌های واقعیت افزوده استفاده\n",
      "هدست‌های واقعیت ترکیبی استفاده\n",
      "دستگاه واقعیت مجازی رانندگی\n",
      "هدست واقعیت مجازی\n",
      "تاثیر رفتاری واقعیت مجازی\n",
      "واقعیت ترکیبی ویژن پرو\n",
      "هدست واقعیت ترکیبی ممکن\n",
      "گرافیک واقعیت مجازی\n",
      "روانشناسی واقعیت مجازی\n"
     ]
    }
   ],
   "source": [
    "from perke.unsupervised.graph_based import SingleRank\n",
    "\n",
    "# refine all\n",
    "for item in data[:4]:\n",
    "    text = item['content']\n",
    "    #text = \" \".join([w for w in text.split() if w not in stop_words])\n",
    "\n",
    "    # Define the set of valid part of speech tags to occur in the model.\n",
    "    valid_pos_tags = {'NOUN', 'NOUN,EZ', 'ADJ', 'ADJ,EZ'}\n",
    "\n",
    "    # 1. Create a TopicRank extractor.\n",
    "    extractor = SingleRank(valid_pos_tags=valid_pos_tags)\n",
    "\n",
    "# 2. Load the text.\n",
    "    extractor.load_text(input=text, word_normalization_method='lemmatization')\n",
    "\n",
    "# 3. Select the longest sequences of nouns and adjectives as\n",
    "#    candidates.\n",
    "    extractor.select_candidates()\n",
    "\n",
    "# 4. Weight the candidates using the sum of their words weights that\n",
    "#    are computed using random walk. In the graph, nodes are certain\n",
    "#    parts of speech (nouns and adjectives) that are connected if\n",
    "#    they co-occur in a window of 10 words.\n",
    "    extractor.weight_candidates(window=10)\n",
    "\n",
    "# 4. Get the 10 highest weighted candidates as keyphrases.\n",
    "    keyphrases = extractor.get_n_best(n=10)\n",
    "    \n",
    "    for word, score in keyphrases:\n",
    "        print(word)\n",
    "    \n",
    "    print('\\n\\n')"
   ],
   "metadata": {
    "collapsed": false,
    "ExecuteTime": {
     "end_time": "2024-04-02T00:07:11.297992500Z",
     "start_time": "2024-04-02T00:07:03.629151900Z"
    }
   },
   "id": "9a254cb0d3a048e2"
  },
  {
   "cell_type": "markdown",
   "source": [
    "### PositionRank Algorithm"
   ],
   "metadata": {
    "collapsed": false
   },
   "id": "9dba6bcd78a9f0e1"
  },
  {
   "cell_type": "code",
   "execution_count": 9,
   "outputs": [
    {
     "name": "stdout",
     "output_type": "stream",
     "text": [
      "گوشی گلکسی\n",
      "سامسونگ\n",
      "گوشی پرچمدار\n",
      "گوشی\n",
      "این گوشی\n",
      "فضای ذخیره‌سازی\n",
      "گلکسی\n",
      "A\n",
      "عرضه\n",
      "قیمت\n",
      "\n",
      "\n",
      "Google\n",
      "Contacts\n",
      "جزو اپلیکیشن‌های\n",
      "رابط کاربری\n",
      "شاهد تغییرات\n",
      "گوگل\n",
      "شدن ویژگی‌های\n",
      "منوی همبرگری\n",
      "تغییرات\n",
      "اسپیکر جدید\n",
      "\n",
      "\n",
      "گوشی سامسونگ\n",
      "سامسونگ\n",
      "صفحه نمایش سری\n",
      "رفع مشکلات\n",
      "به‌روزرسانی امنیتی مارس\n",
      "رفع\n",
      "گلکسی\n",
      "S\n",
      "دوربین\n",
      "سری\n",
      "\n",
      "\n",
      "واقعیت ترکیبی ویژن\n",
      "دستگاه واقعیت مجازی\n",
      "هدست واقعیت\n",
      "دستگاه واقعیت\n",
      "تاثیر رفتاری واقعیت\n",
      "هدست‌های واقعیت\n",
      "دستگاه‌های واقعیت\n",
      "روانشناسی واقعیت\n",
      "گرافیک واقعیت\n",
      "مدت واقعیت\n"
     ]
    }
   ],
   "source": [
    "from perke.unsupervised.graph_based import PositionRank\n",
    "\n",
    "# refine all\n",
    "for item in data[:4]:\n",
    "    text = item['content']\n",
    "    #text = \" \".join([w for w in text.split() if w not in stop_words])\n",
    "\n",
    "    # Define the set of valid part of speech tags to occur in the model.\n",
    "    valid_pos_tags = {'NOUN', 'NOUN,EZ', 'ADJ', 'ADJ,EZ'}\n",
    "\n",
    "# Define the grammar for selecting the keyphrase candidates\n",
    "    grammar = r\"\"\"\n",
    "        NP:\n",
    "            {<NOUN>}<VERB>\n",
    "        NP:\n",
    "            {<DET(,EZ)?|NOUN(,EZ)?|NUM(,EZ)?|ADJ(,EZ)|PRON><DET(,EZ)|NOUN(,EZ)|NUM(,EZ)|ADJ(,EZ)|PRON>*}\n",
    "            <NOUN>}{<.*(,EZ)?>\n",
    "    \"\"\"\n",
    "\n",
    "# 1. Create a PositionRank extractor.\n",
    "    extractor = PositionRank(valid_pos_tags=valid_pos_tags)\n",
    "\n",
    "# 2. Load the text.\n",
    "    extractor.load_text(input=text, word_normalization_method=None, universal_pos_tags=False)\n",
    "\n",
    "# 3. Select the noun phrases up to 3 words as keyphrase candidates.\n",
    "    extractor.select_candidates(grammar=grammar, maximum_word_number=3)\n",
    "\n",
    "# 4. Weight the candidates using the sum of their word's weights\n",
    "#    that are computed using random walk biased with the position of\n",
    "#    the words in the text. In the graph, nodes are words (nouns\n",
    "#    and adjectives only) that are connected if they co-occur in a\n",
    "#    window of 10 words.\n",
    "    extractor.weight_candidates(window_size=10)\n",
    "\n",
    "# 4. Get the 10 highest weighted candidates as keyphrases.\n",
    "    keyphrases = extractor.get_n_best(n=10)\n",
    "    \n",
    "    for word, score in keyphrases:\n",
    "        print(word)\n",
    "    \n",
    "    print('\\n\\n')"
   ],
   "metadata": {
    "collapsed": false,
    "ExecuteTime": {
     "end_time": "2024-04-02T00:10:02.222078300Z",
     "start_time": "2024-04-02T00:09:53.302826100Z"
    }
   },
   "id": "b9e6c9e6be32b3a3"
  },
  {
   "cell_type": "markdown",
   "source": [
    "### MultipartiteRank Algorithm"
   ],
   "metadata": {
    "collapsed": false
   },
   "id": "b23111e1672b2474"
  },
  {
   "cell_type": "code",
   "execution_count": 10,
   "outputs": [
    {
     "name": "stdout",
     "output_type": "stream",
     "text": [
      "دلار قیمت\n",
      "هند عرضه\n",
      "پیکربندی رم\n",
      "قیمت\n",
      "گیگابایت رم\n",
      "مدل پایه\n",
      "هند کاهش\n",
      "گوشی\n",
      "مگاپیکسلی\n",
      "آذر\n",
      "\n",
      "\n",
      "منوی همبرگری حذف\n",
      "لگی کار\n",
      "گوگل\n",
      "برنامه مجهز\n",
      "مشکل\n",
      "فراموش\n",
      "ویجتی\n",
      "رابط کاربری Google Contacts\n",
      "نشان\n",
      "دردسترس قرار\n",
      "\n",
      "\n",
      "دوربین\n",
      "خانواده منتشر\n",
      "سامسونگ\n",
      "گزارش سم موبایل\n",
      "فروردین\n",
      "اسفند\n",
      "دسترس کاربران اروپایی قرار\n",
      "روز آینده\n",
      "رفع\n",
      "منتشر\n",
      "\n",
      "\n",
      "روانشناسی واقعیت مجازی\n",
      "واقعیت افزوده\n",
      "هدست ویژن پرو\n",
      "اپل\n",
      "واقعیت ترکیبی ویژن پرو\n",
      "ابزارهای باورنکردنی\n",
      "انزوای اجتماعی\n",
      "دستگاه مجهز\n",
      "جرمی بیلنسون\n",
      "کاربران\n"
     ]
    }
   ],
   "source": [
    "from perke.unsupervised.graph_based import MultipartiteRank\n",
    "\n",
    "# refine all\n",
    "for item in data[:4]:\n",
    "    text = item['content']\n",
    "    #text = \" \".join([w for w in text.split() if w not in stop_words])\n",
    "\n",
    "    # Define the set of valid part of speech tags to occur in the model.\n",
    "    valid_pos_tags = {'NOUN', 'ADJ'}\n",
    "\n",
    "# 1. Create a MultipartiteRank extractor.\n",
    "    extractor = MultipartiteRank(valid_pos_tags=valid_pos_tags)\n",
    "\n",
    "# 2. Load the text.\n",
    "    extractor.load_text(input=text, word_normalization_method='lemmatization')\n",
    "\n",
    "# 3. Select the longest sequences of nouns and adjectives, that do\n",
    "#    not contain punctuation marks or stopwords as candidates.\n",
    "    extractor.select_candidates()\n",
    "\n",
    "# 4. Build the Multipartite graph and weight candidates using\n",
    "#    random walk, alpha controls the weight adjustment mechanism,\n",
    "#    see TopicRank for metric, linkage method and threshold\n",
    "#    parameters.\n",
    "    extractor.weight_candidates(\n",
    "        threshold=0.6,\n",
    "        metric='jaccard',\n",
    "        linkage_method='average',\n",
    "        alpha=10000,\n",
    "    )\n",
    "\n",
    "# 4. Get the 10 highest weighted candidates as keyphrases.\n",
    "    keyphrases = extractor.get_n_best(n=10)\n",
    "    \n",
    "    for word, score in keyphrases:\n",
    "        print(word)\n",
    "    \n",
    "    print('\\n\\n')"
   ],
   "metadata": {
    "collapsed": false,
    "ExecuteTime": {
     "end_time": "2024-04-02T00:12:04.287372600Z",
     "start_time": "2024-04-02T00:11:57.397657800Z"
    }
   },
   "id": "235745873df3fac2"
  },
  {
   "cell_type": "markdown",
   "source": [
    "As you can see, the results of them even if had some acceptable keyphrases, but had a considerable number of **False Positives** which in the context of KeyPhrase extraction is so important for us. We don't want to have any False Positives or wrong sequences of words which are mistakenly recognized as a keyphrase by the code.\n",
    "\n",
    "I also, have tried some combinations of these algorithms to get better results but didn't work well; and also tried one or two other libraries and unfortunately, they also hadn't acceptable results.\n",
    "\n",
    "But after looking at the previous ones, I noticed that the TextRank and PositionRank algorithms work better for my case. So, I decided to use the TextRank alongside the grammar rules of PositionRank and use Sentence Embeddings for them to get the similarities based on cosine similarity to get more accurate results. Here is my best approach which just uses hazm library:\n",
    "\n",
    "\n",
    "## <font color='green'>Best Approach : TextRank</font>\n",
    "In this Notebook, we intend to extract the keyphrases of the sample text using the help of hazm library and some other NLP libraries. In all keyword extraction algorithms, the raw input text must first be normalized, tokenized, and labeled, which can is done before, but for the certainty, we do it again easily using the hazm library.\n",
    "\n",
    "There are various algorithms for keyword extraction. In this Notebook, we have used the TextRank method. In the TextRank method, the input text is first broken down into sentences and words, and then a semantic graph is created. In this graph, each word or sentence plays the role of a node, and the edges between the nodes represent semantic relationships between them. The importance of each node is determined by the degree of its association with neighboring words and sentences. \n",
    "\n",
    "Let's examine further details through the code."
   ],
   "metadata": {
    "collapsed": false
   },
   "id": "66ca515f6ededa50"
  },
  {
   "cell_type": "code",
   "execution_count": 40,
   "outputs": [],
   "source": [
    "text = data[3]['content']"
   ],
   "metadata": {
    "collapsed": false,
    "ExecuteTime": {
     "end_time": "2024-04-01T21:12:42.815881700Z",
     "start_time": "2024-04-01T21:12:42.794681900Z"
    }
   },
   "id": "b480746afa12c42b"
  },
  {
   "cell_type": "markdown",
   "source": [
    "We don't normalize the input text using the hazm normalizer. Because, it corrupts the text and for example converts the English numbers which are for the English phrases to Persian numbers while they shouldn't be converted. We just break the text down into sentences using the tokenizer, and finally into words."
   ],
   "metadata": {
    "collapsed": false
   },
   "id": "40d34b4193bd4aa9"
  },
  {
   "cell_type": "code",
   "execution_count": 41,
   "outputs": [
    {
     "data": {
      "text/plain": "[['اپل',\n  'سرانجام',\n  'چندی',\n  'پیش\\u200cهدست',\n  'واقعیت',\n  'ترکیبی',\n  'ویژن',\n  'پرو',\n  'را',\n  'که',\n  'از',\n  'مدت\\u200cها',\n  'وعده',\n  'داده\\u200cبود',\n  '،',\n  'عرضه',\n  'کرد',\n  '.'],\n ['این',\n  'شرکت',\n  'دستگاه',\n  'جدیدش',\n  'را',\n  'که',\n  'قیمت',\n  'اولیه\\u200cی',\n  'آن',\n  '۳۵۰۰',\n  'دلار',\n  'است',\n  '،',\n  'به',\n  'عنوان',\n  '«',\n  'کامپیوتر',\n  'فضایی',\n  '»',\n  'و',\n  'جایگزینی',\n  'برای',\n  'لپ',\n  'تاپ\\u200cها',\n  'یا',\n  'کامپیوترهای',\n  'رومیزی',\n  'استاندارد',\n  'توصیف',\n  'می\\u200cکند',\n  '.'],\n ['تبلیغات',\n  'اپل',\n  'افرادی',\n  'را',\n  'نشان',\n  'می\\u200cدهد',\n  'که',\n  'از',\n  'هدست',\n  'ویژن',\n  'پرو',\n  'برای',\n  'ارسال',\n  'ایمیل',\n  'و',\n  'سایر',\n  'کارهای',\n  'دو',\n  'بعدی',\n  'معمولی',\n  'استفاده',\n  'می\\u200cکنند',\n  'و',\n  'این',\n  'شرکت',\n  'در',\n  'بیانیه',\n  'مطبوعاتی',\n  'ژوئن',\n  '۲۰۲۳',\n  'اعلام',\n  'کرد',\n  'ویژن',\n  'پرو',\n  'برای',\n  'استفاده',\n  'تمام',\n  'روز',\n  'طراحی',\n  'شده\\u200cاست',\n  '.'],\n ['کاربران',\n  'مشتاق',\n  'اولیه',\n  'گزارش',\n  'می\\u200cکنند',\n  'که',\n  'از',\n  'آن',\n  'ده\\u200cها',\n  'ساعت',\n  'به',\n  'طور',\n  'مداوم',\n  'استفاده',\n  'می\\u200cکنند',\n  '.'],\n ['به',\n  'نقل',\n  'از',\n  'ساینتیفیک',\n  'آمریکن',\n  '،',\n  'بسیاری',\n  'از',\n  'کارشناسان',\n  'تردید',\n  'دارند',\n  'که',\n  'هدست\\u200cهایی',\n  'همچون',\n  'ویژن',\n  'پرو',\n  'بتوانند',\n  'یا',\n  'باید',\n  'جایگزین',\n  'مانیتورهای',\n  'فیزیکی',\n  '،',\n  'صفحه',\n  'کلید',\n  'و',\n  'موس',\n  'شود',\n  '.'],\n ['برخی',\n  'نگران',\n  'هستند',\n  'که',\n  'استفاده\\u200cی',\n  'طولانی',\n  'مد',\n  'ت',\n  'از',\n  'چنین',\n  'دستگاهی',\n  'بتواند',\n  'به',\n  'بیماری',\n  'حرکت',\n  '،',\n  'انواع',\n  'جدیدی',\n  'از',\n  'انزوای',\n  'اجتماعی',\n  'یا',\n  'سایر',\n  'پیامدهای',\n  'ناخواسته',\n  'منجر',\n  'شود',\n  '.'],\n ['جرمی',\n  'بيلنسون',\n  '،',\n  'مدیر',\n  'مؤسس',\n  'آزمایشگاه',\n  'تعامل',\n  'انسانی',\n  'مجازی',\n  'دانشگاه',\n  'استنفورد',\n  'که',\n  'روانشناسی',\n  'واقعیت',\n  'مجازی',\n  'و',\n  'واقعیت',\n  'افزوده',\n  'را',\n  'مطالعه',\n  'می\\u200cکند',\n  '،',\n  'می\\u200cگوید',\n  ':',\n  '«',\n  'واقعیت',\n  'مجازی',\n  'و',\n  'واقعیت',\n  'افزوده',\n  'ابزارهای',\n  'باورنکردنی',\n  'برای',\n  'ایجاد',\n  'تجارب',\n  'فراگیر',\n  'و',\n  'منحصربه',\n  'فرد',\n  'هستند',\n  '.'],\n ['اما',\n  'این',\n  'بدان',\n  'معنا',\n  'نیست',\n  'که',\n  'چنین',\n  'هدستی',\n  'همیشه',\n  'ابزار',\n  'مفیدی',\n  'است',\n  '.'],\n ['ما',\n  'از',\n  'آن',\n  'برای',\n  'کارهای',\n  'روزمره',\n  'استفاده',\n  'نمی\\u200cکنیم',\n  '.'],\n ['برای',\n  'خواندن',\n  'ایمیل',\n  'یا',\n  'وارد',\n  'کردن',\n  'اعداد',\n  'در',\n  'صفحه',\n  'گسترده',\n  'نیازی',\n  'به',\n  'استفاده',\n  'از',\n  'هدست',\n  'ندارید',\n  '.',\n  '»',\n  'استفاده',\n  'طولانی',\n  'مد',\n  'ت',\n  'از',\n  'هدست',\n  'واقعیت',\n  'ترکیبی',\n  'ممکن',\n  'است',\n  'به',\n  'بیماری',\n  'حرکت',\n  'و',\n  'انزوای',\n  'اجتماعی',\n  'منجر',\n  'شود',\n  'عینک',\n  '۶۵۰',\n  'گرمی',\n  'اپل',\n  'از',\n  'حسگرهایی',\n  'ازجمله',\n  'اسکنر',\n  'لیدار',\n  'و',\n  'آرایه',\n  'دوربین',\n  'استفاده',\n  'می\\u200cکند',\n  'تا',\n  'تجربه',\n  '«',\n  'واقعیت',\n  'ترکیبی',\n  '»',\n  'را',\n  'به',\n  'کاربران',\n  'خود',\n  'هدیه',\n  'دهد',\n  '.'],\n ['دوربین\\u200cهای',\n  'رو',\n  'به',\n  'بیرون',\n  '،',\n  'دید',\n  'آنی',\n  'از',\n  'محیط',\n  'پیرامون',\n  'کاربران',\n  'ارائه',\n  'می\\u200cدهند',\n  '،',\n  'درحالی',\n  'که',\n  'دو',\n  'صفحه',\n  'نمایش',\n  'کوچک',\n  'که',\n  'مستقیما',\n  'جلوی',\n  'چشم',\n  'آن\\u200cها',\n  'قرار',\n  'دارند',\n  '،',\n  'به',\n  'طور',\n  'همزمان',\n  'قلمرو',\n  'دیجیتال',\n  'تعاملی',\n  'را',\n  'نمایش',\n  'می\\u200cدهند',\n  '.'],\n ['هدست',\n  'متا',\n  'کوئست',\n  '۳',\n  'نیز',\n  'که',\n  'اکتبر',\n  '۲۰۲۳',\n  'منتشر',\n  'شد',\n  '،',\n  'از',\n  'سبک',\n  'فناوری',\n  'ویديویی',\n  'مشابه',\n  'Pass-Through',\n  'استفاده',\n  'می\\u200cکند',\n  '.'],\n ['واقعیت',\n  'ترکیبی',\n  'نه',\n  'واقعیت',\n  'مجازی',\n  'مرسوم',\n  'است',\n  'که',\n  'به',\n  'طور',\n  'کلی',\n  'جلوی',\n  'دنیای',\n  'واقعی',\n  'را',\n  'بگیرد',\n  'و',\n  'نه',\n  'واقعیت',\n  'افزوده\\u200cاست',\n  'که',\n  'پوشش',\n  'دیجیتالی',\n  'روی',\n  'لنزهای',\n  'شفاف',\n  'ارائه',\n  'دهد',\n  '.'],\n ['درعوض',\n  '،',\n  'دستگاه',\n  'مجهز',\n  'به',\n  'فناوری',\n  'Pass-Through',\n  'نمایشی',\n  'دیجیتالی',\n  'از',\n  'محیط',\n  'فرد',\n  '(',\n  'مثلا',\n  'دست\\u200cها',\n  'و',\n  'اجسام',\n  'نزدیک',\n  'او',\n  ')',\n  'را',\n  'به',\n  'فضای',\n  'کاملا',\n  'مجازی',\n  'منتقل',\n  'می\\u200cکند',\n  '؛',\n  'بدان',\n  'معنا',\n  'که',\n  'دستگاه',\n  '،',\n  'واسطه\\u200cی',\n  'کل',\n  'تجربه\\u200cهای',\n  'کاربران',\n  'است',\n  '.'],\n ['لیزا',\n  'مِسری',\n  '،',\n  'انسان\\u200cشناس',\n  'اجتماعی',\n  'فرهنگی',\n  'از',\n  'دانشگاه',\n  'ییل',\n  'می\\u200cگوید',\n  ':',\n  '«',\n  'این',\n  'رویای',\n  'شرکت\\u200cهای',\n  'فناوری',\n  'است',\n  '،',\n  'زیرا',\n  'هرگز',\n  'نیازی',\n  'نیست',\n  'آن',\n  'را',\n  'کنار',\n  'بگذارید',\n  '.'],\n ['آن\\u200cها',\n  'همیشه',\n  'می\\u200cتوانند',\n  'توجه',\n  'شما',\n  'را',\n  'جلب',\n  'کنند',\n  '.'],\n ['آن\\u200cها',\n  'همیشه',\n  'می\\u200cدانند',\n  'شما',\n  'به',\n  'کجا',\n  'نگاه',\n  'می\\u200cکنید',\n  'و',\n  'چه',\n  'کاری',\n  'انجام',\n  'می\\u200cدهید',\n  '.',\n  '»',\n  'به',\n  'نظر',\n  'بيلنسون',\n  '،',\n  'ویژون',\n  'پرو',\n  'و',\n  'کوئست',\n  '۳',\n  'پیشرفت\\u200cهای',\n  'تکنولوژیکی',\n  'هیجان',\n  'انگیزی',\n  'هستند',\n  'که',\n  'گرافیک',\n  'واقعیت',\n  'مجازی',\n  'و',\n  'میدان',\n  'دید',\n  'محدود',\n  'واقعیت',\n  'افزوده',\n  'را',\n  'بهبود',\n  'می\\u200cبخشند',\n  '.'],\n ['با',\n  'این',\n  'حال',\n  '،',\n  'فناوری',\n  'Pass-Through',\n  'خطرات',\n  'جدیدی',\n  'نیز',\n  'به',\n  'همراه',\n  'دارد',\n  '.'],\n ['در',\n  'مطالعه\\u200cای',\n  'که',\n  'اوایل',\n  'ماه',\n  'جاری',\n  'متشر',\n  'شد',\n  '،',\n  'بيلنسون',\n  'و',\n  'همکارانش',\n  'برخی',\n  'از',\n  'اثرات',\n  'کوتاه',\n  'مدت',\n  'واقعیت',\n  'ترکیبی',\n  'را',\n  'ارزیابی',\n  'کردند',\n  '.'],\n ['آن\\u200cها',\n  'دریافتند',\n  'که',\n  'استفاده',\n  'از',\n  'این',\n  'هدست\\u200cها',\n  'ادراک',\n  'بصری',\n  'کاربر',\n  'را',\n  'محدود',\n  'می\\u200cکند',\n  'و',\n  'می\\u200cتواند',\n  'رفتار',\n  'اجتماعی',\n  'و',\n  'عملکرد',\n  'حرکتی',\n  'او',\n  'را',\n  'نیز',\n  'تغییر',\n  'دهد',\n  '.'],\n ['علاوه',\n  'بر\\u200cاین',\n  '،',\n  'فناوری',\n  'Pass-Through',\n  'ویژگی\\u200cهایی',\n  'دارد',\n  'که',\n  'موجب',\n  'تاخیر',\n  'بصری',\n  'و',\n  'سایر',\n  'اختلالات',\n  'بینایی',\n  'می\\u200cشود',\n  '.'],\n ['اشباع',\n  'رنگ',\n  'به',\n  'طور',\n  'مکرر',\n  'تغییر',\n  'می\\u200cکند',\n  '،',\n  'نور',\n  'کم\\u200cمی\\u200cشود',\n  'و',\n  'برخی',\n  'از',\n  'اشیاء',\n  'خیلی',\n  'نزدیک',\n  'یا',\n  'خیلی',\n  'تار',\n  'به',\n  'نظر',\n  'می\\u200cرسند',\n  '.'],\n ['اگرچه',\n  '،',\n  'ویژن',\n  'پرو',\n  'ویژگی\\u200cهای',\n  'چشمگیری',\n  'دارد',\n  '،',\n  'وضوح',\n  'تصویر',\n  'آن',\n  'هنوز',\n  'پایین\\u200cتر',\n  'از',\n  'چیزی',\n  'است',\n  'که',\n  'چشم',\n  'انسان',\n  'به',\n  'ادراک',\n  'آن',\n  'عادت',\n  'دارد',\n  '.'],\n ['تیم',\n  'پژوهشی',\n  'توصیه',\n  'می\\u200cکند',\n  'که',\n  'در',\n  'طول',\n  'روز',\n  'ساعت\\u200cهای',\n  'طولانی',\n  'از',\n  'این',\n  'عینک',\n  'استفاده',\n  'نکنید',\n  '.'],\n ['نویسندگان',\n  'مقاله',\n  'به',\n  'شرکت\\u200cهایی',\n  'که',\n  'برای',\n  'استفاده\\u200cی',\n  'روزانه',\n  'از',\n  'این',\n  'هدست\\u200cها',\n  'لابی\\u200cگری',\n  'می\\u200cکنند',\n  '،',\n  'توصیه',\n  'می\\u200cکنند',\n  'که',\n  'احتیاط',\n  'کنند',\n  '.'],\n ['مطالعات',\n  'طولانی',\n  'مدتی',\n  'درزمینه\\u200cی',\n  'استفاده',\n  'از',\n  'واقعیت',\n  'مجازی',\n  'یا',\n  'واقعیت',\n  'افزوده',\n  'در',\n  'دست',\n  'نیست',\n  '.'],\n ['بيلنسون',\n  'درحال',\n  'نظارت',\n  'بر\\u200cشرکت',\n  'کنندگانی',\n  'است',\n  'که',\n  'به',\n  'طور',\n  'منظم',\n  'از',\n  'هدست\\u200cهای',\n  'واقعیت',\n  'ترکیبی',\n  'استفاده',\n  'می\\u200cکنند',\n  '،',\n  'اما',\n  'نتایج',\n  'این',\n  'مطالعه',\n  'چند',\n  'ماه',\n  'بعد',\n  'کامل',\n  'و',\n  'منتشر',\n  'خواهد_شد',\n  '.'],\n ['رابیندرا',\n  'راتان',\n  '،',\n  'دانشیار',\n  'رسانه',\n  'و',\n  'اطلاعات',\n  'در',\n  'دانشگاه',\n  'ایالتی',\n  'میشیگان',\n  'و',\n  'یکی',\n  'از',\n  'نویسندگان',\n  'مقاله\\u200cای',\n  'که',\n  'اخیرا',\n  'منتشر',\n  'شد',\n  '،',\n  'می\\u200cگوید',\n  'نمی\\u200cدانیم',\n  'قدم',\n  'زدن',\n  'در',\n  'شرایط',\n  'کاهش',\n  'دید',\n  'محیطی',\n  'یا',\n  'انحرافات',\n  'بصری',\n  'چه',\n  'پیامدهایی',\n  'دارد',\n  '.'],\n ['این',\n  'امر',\n  'می\\u200cتواند',\n  'اثراتی',\n  'روی',\n  'حرکت',\n  'چشم\\u200cهای',\n  'شما',\n  'در',\n  'فضا',\n  'داشته\\u200cباشد',\n  'و',\n  'ممکن',\n  'است',\n  'بینایی\\u200cتان',\n  'را',\n  'بدتر',\n  'کند',\n  '.'],\n ['هنگام',\n  'استفاده',\n  'از',\n  'دستگاه',\n  'واقعیت',\n  'مجازی',\n  'رانندگی',\n  'نکنید',\n  'راتان',\n  'می\\u200cگوید',\n  'پژوهش\\u200cهای',\n  'گذشته',\n  'روی',\n  'عینک\\u200cهای',\n  'منشوری',\n  '(',\n  'عینک\\u200cهای',\n  'دارای',\n  'روکش\\u200cهای',\n  'خاص',\n  'که',\n  'موجب',\n  'جا',\n  'به',\n  'جایی',\n  'و',\n  'تحریفات',\n  'بینایی',\n  'می\\u200cشوند',\n  ')',\n  '،',\n  'نشان',\n  'می\\u200cدهد',\n  'افراد',\n  'می\\u200cتوانند',\n  'با',\n  'اختللات',\n  'بصری',\n  'قابل',\n  'توجه',\n  'سازگار',\n  'شوند',\n  '.'],\n ['اما',\n  'بازگشت',\n  'حالت',\n  'طبیعی',\n  'دید',\n  'تغییریافته',\n  'مستلزم',\n  'دوره',\n  'سازگاری',\n  'است',\n  'که',\n  'می\\u200cتواند',\n  'ساعت\\u200cها',\n  'یا',\n  'حتی',\n  'روزها',\n  'طول',\n  'بکشد',\n  '.'],\n ['بازگشت',\n  'به',\n  'بینایی',\n  'عادی',\n  '(',\n  'مثلا',\n  'با',\n  'برداشتن',\n  'هدست',\n  ')',\n  'معمولا',\n  'سریع\\u200cتر',\n  'و',\n  'درحد',\n  'چند',\n  'دقیقه',\n  'طول',\n  'می\\u200cکشد',\n  '.'],\n ['با',\n  'این',\n  'حال',\n  '،',\n  'شکاف',\n  'بین',\n  'ذهن',\n  'و',\n  'بدن',\n  'می\\u200cتواند',\n  'وظایف',\n  'حرکتی',\n  'اساسی',\n  'مانند',\n  'فشردن',\n  'دکمه\\u200cهای',\n  'آسانسور',\n  'و',\n  'راه',\n  'رفتن',\n  'در',\n  'مکان',\n  'شلوغ',\n  'را',\n  'بسیار',\n  'چالش',\n  'برانگیزتر',\n  'کند',\n  '.'],\n ['آن\\u200cها',\n  'همچنین',\n  'می\\u200cتوانند',\n  'به',\n  'نگرانی\\u200cهای',\n  'ایمنی',\n  'جدی',\n  'منجر',\n  'شوند',\n  '.'],\n ['وقتی',\n  'پژوهشگران',\n  'درحال',\n  'استفاده',\n  'از',\n  'هدست',\n  'دوچرخه',\n  'سواری',\n  'می\\u200cکردند',\n  '،',\n  'این',\n  'کار',\n  'برایشان',\n  'دشوارتر',\n  'شد',\n  '.'],\n ['بیلنسون',\n  'خاطرنشان',\n  'می\\u200cکند',\n  'که',\n  'در',\n  'بدترین',\n  'سناریو',\n  '،',\n  'اگر',\n  'فردی',\n  'درحالی',\n  'که',\n  'هدست',\n  'استفاده',\n  'کرده',\n  '،',\n  'درحال',\n  'دوچرخه',\n  'سواری',\n  'باشد',\n  'و',\n  'باتری',\n  'آن',\n  'تمام',\n  'شود',\n  '،',\n  'دید',\n  'او',\n  'ناگهان',\n  'کاملا',\n  'تیره',\n  'وتار',\n  'می\\u200cشود',\n  '.'],\n ['همچنین',\n  '،',\n  'پیمایش',\n  'با',\n  'دستگاه',\n  'متصل',\n  'به',\n  'اینترنت',\n  'که',\n  'به',\n  'صورت',\n  'شما',\n  'متصل',\n  'است',\n  'می\\u200cتواند',\n  'موجب',\n  'پرت',\n  'شدن',\n  'حواس',\n  'شود',\n  '.'],\n ['درحال',\n  'حاضر',\n  'مردم',\n  'درحال',\n  'استفاده',\n  'از',\n  'هدست\\u200cهای',\n  'واقعیت',\n  'ترکیبی',\n  'هنگام',\n  'رانندگی',\n  'هستند',\n  '.'],\n ['تنها',\n  'چهار',\n  'روز',\n  'پس',\n  'از',\n  'انتشار',\n  'ویژن',\n  'پرو',\n  '،',\n  'سازمان',\n  'ایمنی',\n  'ترافیک',\n  'بزرگراه\\u200cهای',\n  'ملی',\n  'آمریکا',\n  'در',\n  'بیانیه\\u200cای',\n  'از',\n  'مردم',\n  'خواست',\n  'هنگام',\n  'استفاده',\n  'از',\n  'دستگاه',\n  'واقعیت',\n  'مجازی',\n  'رانندگی',\n  'نکنند',\n  '.'],\n ['وزیر',\n  'حمل',\n  'و',\n  'نقل',\n  'نیز',\n  'با',\n  'انتشار',\n  'پستی',\n  'در',\n  'رسانه\\u200cهای',\n  'اجتماعی',\n  'خاطرنشان',\n  'کرد',\n  'که',\n  'همه\\u200cی',\n  'خودروهای',\n  'دردسترس',\n  'مصرف\\u200cکنندگان',\n  '،',\n  'حتی',\n  'خودروهای',\n  'دارای',\n  'سیستم\\u200cهای',\n  'پیشرفته\\u200cی',\n  'کمک',\n  'راننده',\n  'هنوز',\n  'به',\n  'مشارکت',\n  'رانندگان',\n  'انسانی',\n  'نیاز',\n  'دارند',\n  '.'],\n ['هدست\\u200cهای',\n  'واقعیت',\n  'افزوده',\n  '،',\n  'واقعیت',\n  'مجازی',\n  'و',\n  'واقعیت',\n  'ترکیبی',\n  'همچنین',\n  'اغلب',\n  'موجب',\n  '«',\n  'بیماری',\n  'شبیه',\n  'ساز',\n  '»',\n  'می\\u200cشوند',\n  'که',\n  'شامل',\n  'مجموعه\\u200cای',\n  'از',\n  'علائم',\n  'آزاردهنده',\n  'مانند',\n  'تهوع',\n  '،',\n  'سردرد',\n  '،',\n  'سرگیجه',\n  'و',\n  'خستگی',\n  'چشم',\n  'است',\n  '.'],\n ['بیلنسون',\n  'و',\n  'همکارانش',\n  'در',\n  'بیشتر',\n  'جلسات',\n  'با',\n  'دستگاه',\n  'خود',\n  '،',\n  'حتی',\n  'اگر',\n  'تست\\u200cها',\n  'کمتر',\n  'از',\n  'یک',\n  'ساعت',\n  'طول',\n  'می\\u200cکشید',\n  '،',\n  'با',\n  'بیماری',\n  'شبیه',\n  'ساز',\n  'مواجه',\n  'شدند',\n  '.'],\n ['حتی',\n  'سطوح',\n  'پایین',\n  'بیماری',\n  'شبیه',\n  'ساز',\n  'می\\u200cتواند',\n  'بر\\u200cکیفیت',\n  'زندگی',\n  '،',\n  'سطح',\n  'فعالیت',\n  'و',\n  'بهره',\n  'وری',\n  'افراد',\n  'تاثیر',\n  'بگذارد',\n  '.'],\n ['در',\n  'آزمایشی',\n  'در',\n  'سال',\n  '۲۰۱۴',\n  'فرانک',\n  'اشتینیکه',\n  '،',\n  'استاد',\n  'تعامل',\n  'انسان',\n  'و',\n  'کامپیوتر',\n  'در',\n  'دانشگاه',\n  'هامبورگ',\n  'آلمان',\n  '۲۴',\n  'ساعت',\n  'را',\n  'به',\n  'طور',\n  'متناوب',\n  'بین',\n  'دو',\n  'ساعت',\n  'استفاده',\n  'از',\n  'واقعیت',\n  'مجازی',\n  'و',\n  '۱۰',\n  'دقیقه',\n  'وقفه',\n  'سپری',\n  'کرد',\n  '.'],\n ['در',\n  'طول',\n  'مطالعه',\n  '،',\n  'اشتینیکه',\n  'مطمئن',\n  'نبود',\n  'چه',\n  'چیزی',\n  'واقعی',\n  'است',\n  'و',\n  'چه',\n  'چیزی',\n  'واقعی',\n  'نیست',\n  '.'],\n ['مطالعه\\u200cای',\n  'از',\n  'سال',\n  '۲۰۰۹',\n  'نشان',\n  'داد',\n  'استفاده',\n  'از',\n  'واقعیت',\n  'مجازی',\n  'می\\u200cتواند',\n  'موجب',\n  'تشکیل',\n  'خاطرات',\n  'غیرواقعی',\n  'در',\n  'کودکان',\n  'شود',\n  '.'],\n ['این',\n  'در',\n  'شرایطی',\n  'است',\n  'که',\n  'وضوح',\n  'تصویر',\n  'و',\n  'کیفیت',\n  'واقعیت',\n  'مجازی',\n  '۱۵',\n  'سال',\n  'پیش\\u200cبسیار',\n  'بدتر',\n  'بود',\n  '.'],\n ['اشتینیکه',\n  'می\\u200cگوید',\n  ':',\n  '«',\n  'صفحه',\n  'نمایش',\n  'صوتی',\n  'و',\n  'تصویری',\n  'بهتر',\n  'و',\n  'بهتر',\n  'می\\u200cشود',\n  '.'],\n ['بنابراین',\n  '،',\n  'تقریبا',\n  'مطمئن',\n  'هستم',\n  'که',\n  'محتوای',\n  'مجازی',\n  'و',\n  'واقعیت',\n  'همچنان',\n  'با',\n  'هم\\u200cادغام',\n  'می\\u200cشوند',\n  '.',\n  '»',\n  'البته',\n  'او',\n  'آینده\\u200cی',\n  'محاسباتی',\n  'مثبت',\n  'تری',\n  'را',\n  'تجسم',\n  'می\\u200cکند',\n  'که',\n  'در',\n  'آن',\n  '،',\n  'این',\n  'ابزارها',\n  'به',\n  'طور',\n  'مفیدی',\n  'جایگزین',\n  'کلیدها',\n  'و',\n  'صفحات',\n  'لمسی',\n  'می\\u200cشوند',\n  '.'],\n ['افرادی',\n  'که',\n  'از',\n  'دستگاه\\u200cهای',\n  'واقعیت',\n  'افزوده',\n  'استفاده',\n  'می\\u200cکنند',\n  '،',\n  'منزوی',\n  'می\\u200cشوند',\n  'جهان\\u200cهای',\n  'دیجیتالی',\n  'فراگیر',\n  'ممکن',\n  'است',\n  'بر\\u200cنحوه\\u200cی',\n  'فکر',\n  'کردن',\n  'و',\n  'اجتماعی',\n  'شدن',\n  'کاربران',\n  'نیز',\n  'تاثیر',\n  'بگذارند',\n  'و',\n  'بتوانند',\n  'بر\\u200cنحوه',\n  'کار',\n  'یا',\n  'یادگیری',\n  'آن\\u200cها',\n  'اثر',\n  'بذارند',\n  '.'],\n ['طبق',\n  'مطالعه\\u200cای',\n  'از',\n  'سال',\n  '۲۰۱۹',\n  '،',\n  'افرادی',\n  'که',\n  'هدست',\n  'واقعیت',\n  'مجازی',\n  'استفاده',\n  'می\\u200cکنند',\n  '،',\n  'در',\n  'حضور',\n  'شخصیت',\n  'انسانی',\n  'مجازی',\n  '،',\n  'در',\n  'کارهای',\n  'شناختی',\n  'ساده',\n  'بهتر',\n  'عمل',\n  'می\\u200cکنند',\n  '،',\n  'اما',\n  'عملکرد',\n  'آن\\u200cها',\n  'در',\n  'وظایف',\n  'شناختی',\n  'پیچیده',\n  'بدتر',\n  'می\\u200cشود',\n  '.'],\n ['پژوهشگران',\n  'متوجه',\n  'شده\\u200cاند',\n  'افرادی',\n  'که',\n  'از',\n  'دستگاه\\u200cهای',\n  'واقعیت',\n  'افزوده',\n  'استفاده',\n  'می\\u200cکنند',\n  '،',\n  'در',\n  'مقایسه',\n  'با',\n  'افراد',\n  'اطرافشان',\n  'که',\n  'هدست',\n  'استفاده',\n  'نمی\\u200cکنند',\n  '،',\n  'حالت',\n  'منزوی',\n  'تری',\n  'دارند',\n  '.'],\n ['مارک',\n  'رومن',\n  'میلر',\n  '،',\n  'نویسنده\\u200cی',\n  'اصلی',\n  'مقاله',\n  'سال',\n  '۲۰۱۹',\n  'و',\n  'استادیار',\n  'مؤسسه',\n  'فناوری',\n  'ایلینوی',\n  'که',\n  'تاثیر',\n  'رفتاری',\n  'واقعیت',\n  'مجازی',\n  'و',\n  'افزوده',\n  'را',\n  'مطالعه',\n  'می\\u200cکند',\n  '،',\n  'می\\u200cگوید',\n  ':',\n  '«',\n  'استفاده',\n  'از',\n  'هدست',\n  'واقعیت',\n  'مجازی',\n  'یا',\n  'واقعیت',\n  'ترکیبی',\n  'ذاتا',\n  'منزوی\\u200cکننده',\n  'است',\n  '.',\n  '»',\n  'میلر',\n  'می\\u200cافزاید',\n  'وقتی',\n  'کارگران',\n  'از',\n  'هدست',\n  'استفاده',\n  'می\\u200cکنند',\n  '،',\n  'همکاری',\n  'حضوری',\n  'چالش',\n  'برانگیزتر',\n  'می\\u200cشود',\n  '؛',\n  'زیرا',\n  'غیرممکن',\n  'است',\n  'چیزی',\n  'را',\n  'که',\n  'به',\n  'آن',\n  'نگاه',\n  'می\\u200cکنید',\n  '،',\n  'به',\n  'دیگری',\n  'نشان',\n  'دهید',\n  'یا',\n  'صفحه',\n  'نمایش',\n  'را',\n  'به',\n  'اشتراک',\n  'بگذارید',\n  '،',\n  'مگر',\n  'اینکه',\n  'لایه\\u200cهای',\n  'اضافی',\n  'نرم\\u200cافزار',\n  'به',\n  'عنوان',\n  'واسطه',\n  'عمل',\n  'کنند',\n  '.']]"
     },
     "execution_count": 41,
     "metadata": {},
     "output_type": "execute_result"
    }
   ],
   "source": [
    "from hazm import *\n",
    "\n",
    "tokenize_text = [word_tokenize(txt) for txt in sent_tokenize(text)]\n",
    "tokenize_text"
   ],
   "metadata": {
    "collapsed": false,
    "ExecuteTime": {
     "end_time": "2024-04-01T21:12:44.873226900Z",
     "start_time": "2024-04-01T21:12:44.799027100Z"
    }
   },
   "id": "ba7e80fb242a44e1"
  },
  {
   "cell_type": "markdown",
   "source": [
    "After loading the POS model of the hazm library which I have downloaded and put it next to the notebook, I tag each of the words using the POSTagger module.\n",
    "\n",
    "<font color='red'>Note that because of using POS Tagger, we no longer need to remove any stop words, lemmatize the words or perform stemming on them. Cause using the POS tags, we already know the verbs or preposition, adverbs, etc. Also, we know the semantic relation of words in a sentence by that. So, in our specific task, there is no need to lemmatize the words or... .</font>"
   ],
   "metadata": {
    "collapsed": false
   },
   "id": "e56eacc52e0ece45"
  },
  {
   "cell_type": "code",
   "execution_count": 42,
   "outputs": [
    {
     "data": {
      "text/plain": "[[('اپل', 'NOUN'),\n  ('سرانجام', 'ADV'),\n  ('چندی', 'NOUN'),\n  ('پیش\\u200cهدست', 'ADV'),\n  ('واقعیت', 'NOUN,EZ'),\n  ('ترکیبی', 'ADJ,EZ'),\n  ('ویژن', 'NOUN,EZ'),\n  ('پرو', 'NOUN'),\n  ('را', 'ADP'),\n  ('که', 'SCONJ'),\n  ('از', 'ADP'),\n  ('مدت\\u200cها', 'NOUN'),\n  ('وعده', 'NOUN'),\n  ('داده\\u200cبود', 'VERB'),\n  ('،', 'PUNCT'),\n  ('عرضه', 'NOUN'),\n  ('کرد', 'VERB'),\n  ('.', 'PUNCT')],\n [('این', 'DET'),\n  ('شرکت', 'NOUN'),\n  ('دستگاه', 'NOUN,EZ'),\n  ('جدیدش', 'ADJ'),\n  ('را', 'ADP'),\n  ('که', 'SCONJ'),\n  ('قیمت', 'NOUN,EZ'),\n  ('اولیه\\u200cی', 'ADJ,EZ'),\n  ('آن', 'PRON'),\n  ('۳۵۰۰', 'NUM'),\n  ('دلار', 'NOUN'),\n  ('است', 'VERB'),\n  ('،', 'PUNCT'),\n  ('به', 'ADP'),\n  ('عنوان', 'NOUN,EZ'),\n  ('«', 'PUNCT'),\n  ('کامپیوتر', 'NOUN,EZ'),\n  ('فضایی', 'ADJ'),\n  ('»', 'PUNCT'),\n  ('و', 'CCONJ'),\n  ('جایگزینی', 'NOUN'),\n  ('برای', 'ADP,EZ'),\n  ('لپ', 'NOUN'),\n  ('تاپ\\u200cها', 'NOUN'),\n  ('یا', 'CCONJ'),\n  ('کامپیوترهای', 'NOUN,EZ'),\n  ('رومیزی', 'NOUN,EZ'),\n  ('استاندارد', 'ADJ'),\n  ('توصیف', 'NOUN'),\n  ('می\\u200cکند', 'VERB'),\n  ('.', 'PUNCT')],\n [('تبلیغات', 'NOUN,EZ'),\n  ('اپل', 'NOUN'),\n  ('افرادی', 'NOUN'),\n  ('را', 'ADP'),\n  ('نشان', 'NOUN'),\n  ('می\\u200cدهد', 'VERB'),\n  ('که', 'SCONJ'),\n  ('از', 'ADP'),\n  ('هدست', 'NOUN,EZ'),\n  ('ویژن', 'NOUN,EZ'),\n  ('پرو', 'NOUN'),\n  ('برای', 'ADP,EZ'),\n  ('ارسال', 'NOUN,EZ'),\n  ('ایمیل', 'NOUN'),\n  ('و', 'CCONJ'),\n  ('سایر', 'NOUN,EZ'),\n  ('کارهای', 'NOUN,EZ'),\n  ('دو', 'NUM'),\n  ('بعدی', 'ADJ,EZ'),\n  ('معمولی', 'ADJ'),\n  ('استفاده', 'NOUN'),\n  ('می\\u200cکنند', 'VERB'),\n  ('و', 'CCONJ'),\n  ('این', 'DET'),\n  ('شرکت', 'NOUN'),\n  ('در', 'ADP'),\n  ('بیانیه', 'NOUN,EZ'),\n  ('مطبوعاتی', 'ADJ,EZ'),\n  ('ژوئن', 'NOUN,EZ'),\n  ('۲۰۲۳', 'NUM'),\n  ('اعلام', 'NOUN'),\n  ('کرد', 'VERB'),\n  ('ویژن', 'NOUN,EZ'),\n  ('پرو', 'NOUN'),\n  ('برای', 'ADP,EZ'),\n  ('استفاده', 'NOUN,EZ'),\n  ('تمام', 'DET,EZ'),\n  ('روز', 'NOUN,EZ'),\n  ('طراحی', 'NOUN'),\n  ('شده\\u200cاست', 'VERB'),\n  ('.', 'PUNCT')],\n [('کاربران', 'NOUN,EZ'),\n  ('مشتاق', 'ADJ,EZ'),\n  ('اولیه', 'ADJ'),\n  ('گزارش', 'NOUN'),\n  ('می\\u200cکنند', 'VERB'),\n  ('که', 'SCONJ'),\n  ('از', 'ADP'),\n  ('آن', 'PRON'),\n  ('ده\\u200cها', 'NUM'),\n  ('ساعت', 'NOUN'),\n  ('به', 'ADP'),\n  ('طور', 'NOUN,EZ'),\n  ('مداوم', 'ADJ'),\n  ('استفاده', 'NOUN'),\n  ('می\\u200cکنند', 'VERB'),\n  ('.', 'PUNCT')],\n [('به', 'ADP'),\n  ('نقل', 'NOUN'),\n  ('از', 'ADP'),\n  ('ساینتیفیک', 'NOUN,EZ'),\n  ('آمریکن', 'NOUN'),\n  ('،', 'PUNCT'),\n  ('بسیاری', 'DET'),\n  ('از', 'ADP'),\n  ('کارشناسان', 'NOUN'),\n  ('تردید', 'NOUN'),\n  ('دارند', 'VERB'),\n  ('که', 'SCONJ'),\n  ('هدست\\u200cهایی', 'NOUN'),\n  ('همچون', 'ADV'),\n  ('ویژن', 'NOUN,EZ'),\n  ('پرو', 'NOUN'),\n  ('بتوانند', 'VERB'),\n  ('یا', 'CCONJ'),\n  ('باید', 'VERB'),\n  ('جایگزین', 'ADJ,EZ'),\n  ('مانیتورهای', 'NOUN,EZ'),\n  ('فیزیکی', 'ADJ'),\n  ('،', 'PUNCT'),\n  ('صفحه', 'NOUN,EZ'),\n  ('کلید', 'NOUN'),\n  ('و', 'CCONJ'),\n  ('موس', 'NOUN'),\n  ('شود', 'VERB'),\n  ('.', 'PUNCT')],\n [('برخی', 'PRON'),\n  ('نگران', 'ADJ'),\n  ('هستند', 'VERB'),\n  ('که', 'SCONJ'),\n  ('استفاده\\u200cی', 'NOUN,EZ'),\n  ('طولانی', 'ADJ'),\n  ('مد', 'NOUN,EZ'),\n  ('ت', 'NOUN'),\n  ('از', 'ADP'),\n  ('چنین', 'NOUN'),\n  ('دستگاهی', 'NOUN'),\n  ('بتواند', 'VERB'),\n  ('به', 'ADP'),\n  ('بیماری', 'NOUN,EZ'),\n  ('حرکت', 'NOUN'),\n  ('،', 'PUNCT'),\n  ('انواع', 'NOUN,EZ'),\n  ('جدیدی', 'ADJ'),\n  ('از', 'ADP'),\n  ('انزوای', 'NOUN,EZ'),\n  ('اجتماعی', 'ADJ'),\n  ('یا', 'CCONJ'),\n  ('سایر', 'NOUN,EZ'),\n  ('پیامدهای', 'NOUN,EZ'),\n  ('ناخواسته', 'ADJ'),\n  ('منجر', 'ADJ'),\n  ('شود', 'VERB'),\n  ('.', 'PUNCT')],\n [('جرمی', 'NOUN'),\n  ('بيلنسون', 'NOUN'),\n  ('،', 'PUNCT'),\n  ('مدیر', 'NOUN,EZ'),\n  ('مؤسس', 'NOUN,EZ'),\n  ('آزمایشگاه', 'NOUN,EZ'),\n  ('تعامل', 'NOUN,EZ'),\n  ('انسانی', 'ADJ,EZ'),\n  ('مجازی', 'ADJ,EZ'),\n  ('دانشگاه', 'NOUN,EZ'),\n  ('استنفورد', 'NOUN'),\n  ('که', 'SCONJ'),\n  ('روانشناسی', 'NOUN,EZ'),\n  ('واقعیت', 'NOUN,EZ'),\n  ('مجازی', 'ADJ'),\n  ('و', 'CCONJ'),\n  ('واقعیت', 'NOUN,EZ'),\n  ('افزوده', 'ADJ'),\n  ('را', 'ADP'),\n  ('مطالعه', 'NOUN'),\n  ('می\\u200cکند', 'VERB'),\n  ('،', 'PUNCT'),\n  ('می\\u200cگوید', 'VERB'),\n  (':', 'PUNCT'),\n  ('«', 'PUNCT'),\n  ('واقعیت', 'NOUN,EZ'),\n  ('مجازی', 'ADJ'),\n  ('و', 'CCONJ'),\n  ('واقعیت', 'NOUN'),\n  ('افزوده', 'VERB'),\n  ('ابزارهای', 'NOUN,EZ'),\n  ('باورنکردنی', 'ADJ'),\n  ('برای', 'ADP,EZ'),\n  ('ایجاد', 'NOUN,EZ'),\n  ('تجارب', 'NOUN,EZ'),\n  ('فراگیر', 'ADJ'),\n  ('و', 'CCONJ'),\n  ('منحصربه', 'ADJ,EZ'),\n  ('فرد', 'NOUN'),\n  ('هستند', 'VERB'),\n  ('.', 'PUNCT')],\n [('اما', 'CCONJ'),\n  ('این', 'PRON'),\n  ('بدان', 'ADP'),\n  ('معنا', 'NOUN'),\n  ('نیست', 'VERB'),\n  ('که', 'SCONJ'),\n  ('چنین', 'NOUN'),\n  ('هدستی', 'NOUN'),\n  ('همیشه', 'ADV'),\n  ('ابزار', 'NOUN,EZ'),\n  ('مفیدی', 'ADJ'),\n  ('است', 'VERB'),\n  ('.', 'PUNCT')],\n [('ما', 'PRON'),\n  ('از', 'ADP'),\n  ('آن', 'PRON'),\n  ('برای', 'ADP,EZ'),\n  ('کارهای', 'NOUN,EZ'),\n  ('روزمره', 'ADJ'),\n  ('استفاده', 'NOUN'),\n  ('نمی\\u200cکنیم', 'VERB'),\n  ('.', 'PUNCT')],\n [('برای', 'ADP,EZ'),\n  ('خواندن', 'NOUN,EZ'),\n  ('ایمیل', 'NOUN'),\n  ('یا', 'CCONJ'),\n  ('وارد', 'NOUN'),\n  ('کردن', 'NOUN,EZ'),\n  ('اعداد', 'NOUN'),\n  ('در', 'ADP'),\n  ('صفحه', 'NOUN,EZ'),\n  ('گسترده', 'ADJ'),\n  ('نیازی', 'NOUN'),\n  ('به', 'ADP'),\n  ('استفاده', 'NOUN'),\n  ('از', 'ADP'),\n  ('هدست', 'NOUN'),\n  ('ندارید', 'VERB'),\n  ('.', 'PUNCT'),\n  ('»', 'PUNCT'),\n  ('استفاده', 'NOUN,EZ'),\n  ('طولانی', 'ADJ'),\n  ('مد', 'NOUN,EZ'),\n  ('ت', 'NOUN'),\n  ('از', 'ADP'),\n  ('هدست', 'NOUN,EZ'),\n  ('واقعیت', 'NOUN,EZ'),\n  ('ترکیبی', 'ADJ'),\n  ('ممکن', 'ADJ'),\n  ('است', 'VERB'),\n  ('به', 'ADP'),\n  ('بیماری', 'NOUN,EZ'),\n  ('حرکت', 'NOUN'),\n  ('و', 'CCONJ'),\n  ('انزوای', 'NOUN,EZ'),\n  ('اجتماعی', 'ADJ'),\n  ('منجر', 'ADJ'),\n  ('شود', 'VERB'),\n  ('عینک', 'NOUN,EZ'),\n  ('۶۵۰', 'NUM'),\n  ('گرمی', 'NOUN,EZ'),\n  ('اپل', 'NOUN'),\n  ('از', 'ADP'),\n  ('حسگرهایی', 'NOUN'),\n  ('ازجمله', 'ADV'),\n  ('اسکنر', 'NOUN,EZ'),\n  ('لیدار', 'ADJ'),\n  ('و', 'CCONJ'),\n  ('آرایه', 'NOUN,EZ'),\n  ('دوربین', 'NOUN'),\n  ('استفاده', 'NOUN'),\n  ('می\\u200cکند', 'VERB'),\n  ('تا', 'SCONJ'),\n  ('تجربه', 'NOUN'),\n  ('«', 'PUNCT'),\n  ('واقعیت', 'NOUN,EZ'),\n  ('ترکیبی', 'ADJ'),\n  ('»', 'PUNCT'),\n  ('را', 'ADP'),\n  ('به', 'ADP'),\n  ('کاربران', 'NOUN,EZ'),\n  ('خود', 'PRON'),\n  ('هدیه', 'NOUN'),\n  ('دهد', 'VERB'),\n  ('.', 'PUNCT')],\n [('دوربین\\u200cهای', 'NOUN,EZ'),\n  ('رو', 'NOUN'),\n  ('به', 'ADP'),\n  ('بیرون', 'NOUN'),\n  ('،', 'PUNCT'),\n  ('دید', 'NOUN,EZ'),\n  ('آنی', 'ADJ'),\n  ('از', 'ADP'),\n  ('محیط', 'NOUN'),\n  ('پیرامون', 'ADP,EZ'),\n  ('کاربران', 'NOUN'),\n  ('ارائه', 'NOUN'),\n  ('می\\u200cدهند', 'VERB'),\n  ('،', 'PUNCT'),\n  ('درحالی', 'ADJ'),\n  ('که', 'SCONJ'),\n  ('دو', 'NUM'),\n  ('صفحه', 'NOUN,EZ'),\n  ('نمایش', 'NOUN,EZ'),\n  ('کوچک', 'ADJ'),\n  ('که', 'SCONJ'),\n  ('مستقیما', 'ADV'),\n  ('جلوی', 'ADP,EZ'),\n  ('چشم', 'NOUN,EZ'),\n  ('آن\\u200cها', 'PRON'),\n  ('قرار', 'NOUN'),\n  ('دارند', 'VERB'),\n  ('،', 'PUNCT'),\n  ('به', 'ADP'),\n  ('طور', 'NOUN,EZ'),\n  ('همزمان', 'ADJ'),\n  ('قلمرو', 'NOUN,EZ'),\n  ('دیجیتال', 'ADJ,EZ'),\n  ('تعاملی', 'ADJ'),\n  ('را', 'ADP'),\n  ('نمایش', 'NOUN'),\n  ('می\\u200cدهند', 'VERB'),\n  ('.', 'PUNCT')],\n [('هدست', 'NOUN,EZ'),\n  ('متا', 'NOUN'),\n  ('کوئست', 'NOUN'),\n  ('۳', 'NUM'),\n  ('نیز', 'CCONJ'),\n  ('که', 'SCONJ'),\n  ('اکتبر', 'NOUN,EZ'),\n  ('۲۰۲۳', 'NUM'),\n  ('منتشر', 'ADJ'),\n  ('شد', 'VERB'),\n  ('،', 'PUNCT'),\n  ('از', 'ADP'),\n  ('سبک', 'NOUN,EZ'),\n  ('فناوری', 'NOUN,EZ'),\n  ('ویديویی', 'ADJ,EZ'),\n  ('مشابه', 'ADJ,EZ'),\n  ('Pass-Through', 'NOUN'),\n  ('استفاده', 'NOUN'),\n  ('می\\u200cکند', 'VERB'),\n  ('.', 'PUNCT')],\n [('واقعیت', 'NOUN,EZ'),\n  ('ترکیبی', 'ADJ'),\n  ('نه', 'ADV'),\n  ('واقعیت', 'NOUN,EZ'),\n  ('مجازی', 'ADJ'),\n  ('مرسوم', 'ADJ'),\n  ('است', 'VERB'),\n  ('که', 'SCONJ'),\n  ('به', 'ADP'),\n  ('طور', 'NOUN,EZ'),\n  ('کلی', 'ADJ'),\n  ('جلوی', 'ADP,EZ'),\n  ('دنیای', 'NOUN,EZ'),\n  ('واقعی', 'ADJ'),\n  ('را', 'ADP'),\n  ('بگیرد', 'VERB'),\n  ('و', 'CCONJ'),\n  ('نه', 'ADV'),\n  ('واقعیت', 'NOUN'),\n  ('افزوده\\u200cاست', 'VERB'),\n  ('که', 'SCONJ'),\n  ('پوشش', 'NOUN,EZ'),\n  ('دیجیتالی', 'ADJ'),\n  ('روی', 'ADP,EZ'),\n  ('لنزهای', 'NOUN,EZ'),\n  ('شفاف', 'ADJ'),\n  ('ارائه', 'NOUN'),\n  ('دهد', 'VERB'),\n  ('.', 'PUNCT')],\n [('درعوض', 'ADV'),\n  ('،', 'PUNCT'),\n  ('دستگاه', 'NOUN,EZ'),\n  ('مجهز', 'ADJ'),\n  ('به', 'ADP'),\n  ('فناوری', 'NOUN,EZ'),\n  ('Pass-Through', 'NOUN'),\n  ('نمایشی', 'ADJ,EZ'),\n  ('دیجیتالی', 'ADJ'),\n  ('از', 'ADP'),\n  ('محیط', 'NOUN,EZ'),\n  ('فرد', 'NOUN'),\n  ('(', 'PUNCT'),\n  ('مثلا', 'ADV'),\n  ('دست\\u200cها', 'NOUN'),\n  ('و', 'CCONJ'),\n  ('اجسام', 'NOUN,EZ'),\n  ('نزدیک', 'ADJ,EZ'),\n  ('او', 'PRON'),\n  (')', 'PUNCT'),\n  ('را', 'ADP'),\n  ('به', 'ADP'),\n  ('فضای', 'NOUN,EZ'),\n  ('کاملا', 'ADV'),\n  ('مجازی', 'ADJ'),\n  ('منتقل', 'ADJ'),\n  ('می\\u200cکند', 'VERB'),\n  ('؛', 'PUNCT'),\n  ('بدان', 'ADP'),\n  ('معنا', 'NOUN'),\n  ('که', 'SCONJ'),\n  ('دستگاه', 'NOUN'),\n  ('،', 'PUNCT'),\n  ('واسطه\\u200cی', 'NOUN,EZ'),\n  ('کل', 'NOUN,EZ'),\n  ('تجربه\\u200cهای', 'NOUN,EZ'),\n  ('کاربران', 'NOUN'),\n  ('است', 'VERB'),\n  ('.', 'PUNCT')],\n [('لیزا', 'NOUN'),\n  ('مِسری', 'NOUN'),\n  ('،', 'PUNCT'),\n  ('انسان\\u200cشناس', 'NOUN,EZ'),\n  ('اجتماعی', 'ADJ,EZ'),\n  ('فرهنگی', 'ADJ'),\n  ('از', 'ADP'),\n  ('دانشگاه', 'NOUN,EZ'),\n  ('ییل', 'NOUN'),\n  ('می\\u200cگوید', 'VERB'),\n  (':', 'PUNCT'),\n  ('«', 'PUNCT'),\n  ('این', 'DET'),\n  ('رویای', 'NOUN,EZ'),\n  ('شرکت\\u200cهای', 'NOUN,EZ'),\n  ('فناوری', 'NOUN'),\n  ('است', 'VERB'),\n  ('،', 'PUNCT'),\n  ('زیرا', 'SCONJ'),\n  ('هرگز', 'ADV'),\n  ('نیازی', 'NOUN'),\n  ('نیست', 'VERB'),\n  ('آن', 'PRON'),\n  ('را', 'ADP'),\n  ('کنار', 'ADV'),\n  ('بگذارید', 'VERB'),\n  ('.', 'PUNCT')],\n [('آن\\u200cها', 'PRON'),\n  ('همیشه', 'ADV'),\n  ('می\\u200cتوانند', 'VERB'),\n  ('توجه', 'NOUN,EZ'),\n  ('شما', 'PRON'),\n  ('را', 'ADP'),\n  ('جلب', 'NOUN'),\n  ('کنند', 'VERB'),\n  ('.', 'PUNCT')],\n [('آن\\u200cها', 'PRON'),\n  ('همیشه', 'ADV'),\n  ('می\\u200cدانند', 'VERB'),\n  ('شما', 'PRON'),\n  ('به', 'ADP'),\n  ('کجا', 'ADV'),\n  ('نگاه', 'NOUN'),\n  ('می\\u200cکنید', 'VERB'),\n  ('و', 'CCONJ'),\n  ('چه', 'DET'),\n  ('کاری', 'NOUN'),\n  ('انجام', 'NOUN'),\n  ('می\\u200cدهید', 'VERB'),\n  ('.', 'PUNCT'),\n  ('»', 'PUNCT'),\n  ('به', 'ADP'),\n  ('نظر', 'NOUN,EZ'),\n  ('بيلنسون', 'NOUN'),\n  ('،', 'PUNCT'),\n  ('ویژون', 'NOUN,EZ'),\n  ('پرو', 'NOUN'),\n  ('و', 'CCONJ'),\n  ('کوئست', 'NOUN,EZ'),\n  ('۳', 'NUM'),\n  ('پیشرفت\\u200cهای', 'NOUN,EZ'),\n  ('تکنولوژیکی', 'ADJ,EZ'),\n  ('هیجان', 'NOUN,EZ'),\n  ('انگیزی', 'ADJ'),\n  ('هستند', 'VERB'),\n  ('که', 'SCONJ'),\n  ('گرافیک', 'NOUN,EZ'),\n  ('واقعیت', 'NOUN,EZ'),\n  ('مجازی', 'ADJ'),\n  ('و', 'CCONJ'),\n  ('میدان', 'NOUN,EZ'),\n  ('دید', 'NOUN,EZ'),\n  ('محدود', 'ADJ'),\n  ('واقعیت', 'NOUN,EZ'),\n  ('افزوده', 'ADJ'),\n  ('را', 'ADP'),\n  ('بهبود', 'NOUN'),\n  ('می\\u200cبخشند', 'VERB'),\n  ('.', 'PUNCT')],\n [('با', 'ADP'),\n  ('این', 'DET'),\n  ('حال', 'NOUN'),\n  ('،', 'PUNCT'),\n  ('فناوری', 'NOUN,EZ'),\n  ('Pass-Through', 'NOUN'),\n  ('خطرات', 'NOUN,EZ'),\n  ('جدیدی', 'ADJ'),\n  ('نیز', 'CCONJ'),\n  ('به', 'ADP'),\n  ('همراه', 'NOUN'),\n  ('دارد', 'VERB'),\n  ('.', 'PUNCT')],\n [('در', 'ADP'),\n  ('مطالعه\\u200cای', 'NOUN'),\n  ('که', 'SCONJ'),\n  ('اوایل', 'NOUN,EZ'),\n  ('ماه', 'NOUN,EZ'),\n  ('جاری', 'ADJ'),\n  ('متشر', 'ADJ'),\n  ('شد', 'VERB'),\n  ('،', 'PUNCT'),\n  ('بيلنسون', 'NOUN'),\n  ('و', 'CCONJ'),\n  ('همکارانش', 'NOUN'),\n  ('برخی', 'DET'),\n  ('از', 'ADP'),\n  ('اثرات', 'NOUN,EZ'),\n  ('کوتاه', 'ADJ'),\n  ('مدت', 'NOUN,EZ'),\n  ('واقعیت', 'NOUN,EZ'),\n  ('ترکیبی', 'ADJ'),\n  ('را', 'ADP'),\n  ('ارزیابی', 'NOUN'),\n  ('کردند', 'VERB'),\n  ('.', 'PUNCT')],\n [('آن\\u200cها', 'PRON'),\n  ('دریافتند', 'VERB'),\n  ('که', 'SCONJ'),\n  ('استفاده', 'NOUN'),\n  ('از', 'ADP'),\n  ('این', 'DET'),\n  ('هدست\\u200cها', 'NOUN'),\n  ('ادراک', 'NOUN,EZ'),\n  ('بصری', 'ADJ'),\n  ('کاربر', 'NOUN'),\n  ('را', 'ADP'),\n  ('محدود', 'ADJ'),\n  ('می\\u200cکند', 'VERB'),\n  ('و', 'CCONJ'),\n  ('می\\u200cتواند', 'VERB'),\n  ('رفتار', 'NOUN,EZ'),\n  ('اجتماعی', 'ADJ'),\n  ('و', 'CCONJ'),\n  ('عملکرد', 'NOUN,EZ'),\n  ('حرکتی', 'ADJ,EZ'),\n  ('او', 'PRON'),\n  ('را', 'ADP'),\n  ('نیز', 'CCONJ'),\n  ('تغییر', 'NOUN'),\n  ('دهد', 'VERB'),\n  ('.', 'PUNCT')],\n [('علاوه', 'NOUN,EZ'),\n  ('بر\\u200cاین', 'NOUN'),\n  ('،', 'PUNCT'),\n  ('فناوری', 'NOUN,EZ'),\n  ('Pass-Through', 'NOUN'),\n  ('ویژگی\\u200cهایی', 'NOUN'),\n  ('دارد', 'VERB'),\n  ('که', 'SCONJ'),\n  ('موجب', 'NOUN,EZ'),\n  ('تاخیر', 'NOUN,EZ'),\n  ('بصری', 'ADJ'),\n  ('و', 'CCONJ'),\n  ('سایر', 'NOUN,EZ'),\n  ('اختلالات', 'NOUN,EZ'),\n  ('بینایی', 'NOUN'),\n  ('می\\u200cشود', 'VERB'),\n  ('.', 'PUNCT')],\n [('اشباع', 'NOUN,EZ'),\n  ('رنگ', 'NOUN'),\n  ('به', 'ADP'),\n  ('طور', 'NOUN,EZ'),\n  ('مکرر', 'ADJ'),\n  ('تغییر', 'NOUN'),\n  ('می\\u200cکند', 'VERB'),\n  ('،', 'PUNCT'),\n  ('نور', 'NOUN'),\n  ('کم\\u200cمی\\u200cشود', 'VERB'),\n  ('و', 'CCONJ'),\n  ('برخی', 'DET'),\n  ('از', 'ADP'),\n  ('اشیاء', 'NOUN'),\n  ('خیلی', 'ADV'),\n  ('نزدیک', 'ADJ'),\n  ('یا', 'CCONJ'),\n  ('خیلی', 'ADV'),\n  ('تار', 'ADJ'),\n  ('به', 'ADP'),\n  ('نظر', 'NOUN'),\n  ('می\\u200cرسند', 'VERB'),\n  ('.', 'PUNCT')],\n [('اگرچه', 'SCONJ'),\n  ('،', 'PUNCT'),\n  ('ویژن', 'NOUN,EZ'),\n  ('پرو', 'NOUN'),\n  ('ویژگی\\u200cهای', 'NOUN,EZ'),\n  ('چشمگیری', 'ADJ'),\n  ('دارد', 'VERB'),\n  ('،', 'PUNCT'),\n  ('وضوح', 'ADJ,EZ'),\n  ('تصویر', 'NOUN,EZ'),\n  ('آن', 'PRON'),\n  ('هنوز', 'ADV'),\n  ('پایین\\u200cتر', 'ADJ'),\n  ('از', 'ADP'),\n  ('چیزی', 'NOUN'),\n  ('است', 'VERB'),\n  ('که', 'SCONJ'),\n  ('چشم', 'NOUN,EZ'),\n  ('انسان', 'NOUN'),\n  ('به', 'ADP'),\n  ('ادراک', 'NOUN,EZ'),\n  ('آن', 'PRON'),\n  ('عادت', 'NOUN'),\n  ('دارد', 'VERB'),\n  ('.', 'PUNCT')],\n [('تیم', 'NOUN,EZ'),\n  ('پژوهشی', 'ADJ'),\n  ('توصیه', 'NOUN'),\n  ('می\\u200cکند', 'VERB'),\n  ('که', 'SCONJ'),\n  ('در', 'ADP'),\n  ('طول', 'NOUN,EZ'),\n  ('روز', 'NOUN'),\n  ('ساعت\\u200cهای', 'NOUN,EZ'),\n  ('طولانی', 'ADJ'),\n  ('از', 'ADP'),\n  ('این', 'DET'),\n  ('عینک', 'NOUN'),\n  ('استفاده', 'NOUN'),\n  ('نکنید', 'VERB'),\n  ('.', 'PUNCT')],\n [('نویسندگان', 'NOUN,EZ'),\n  ('مقاله', 'NOUN'),\n  ('به', 'ADP'),\n  ('شرکت\\u200cهایی', 'NOUN'),\n  ('که', 'SCONJ'),\n  ('برای', 'ADP,EZ'),\n  ('استفاده\\u200cی', 'NOUN,EZ'),\n  ('روزانه', 'ADV'),\n  ('از', 'ADP'),\n  ('این', 'DET'),\n  ('هدست\\u200cها', 'NOUN'),\n  ('لابی\\u200cگری', 'NOUN'),\n  ('می\\u200cکنند', 'VERB'),\n  ('،', 'PUNCT'),\n  ('توصیه', 'NOUN'),\n  ('می\\u200cکنند', 'VERB'),\n  ('که', 'SCONJ'),\n  ('احتیاط', 'NOUN'),\n  ('کنند', 'VERB'),\n  ('.', 'PUNCT')],\n [('مطالعات', 'NOUN,EZ'),\n  ('طولانی', 'ADJ'),\n  ('مدتی', 'NOUN'),\n  ('درزمینه\\u200cی', 'NOUN,EZ'),\n  ('استفاده', 'NOUN'),\n  ('از', 'ADP'),\n  ('واقعیت', 'NOUN,EZ'),\n  ('مجازی', 'ADJ'),\n  ('یا', 'CCONJ'),\n  ('واقعیت', 'NOUN'),\n  ('افزوده', 'VERB'),\n  ('در', 'ADP'),\n  ('دست', 'NOUN'),\n  ('نیست', 'VERB'),\n  ('.', 'PUNCT')],\n [('بيلنسون', 'NOUN'),\n  ('درحال', 'CCONJ'),\n  ('نظارت', 'NOUN,EZ'),\n  ('بر\\u200cشرکت', 'NOUN,EZ'),\n  ('کنندگانی', 'NOUN'),\n  ('است', 'VERB'),\n  ('که', 'SCONJ'),\n  ('به', 'ADP'),\n  ('طور', 'NOUN,EZ'),\n  ('منظم', 'ADJ'),\n  ('از', 'ADP'),\n  ('هدست\\u200cهای', 'NOUN,EZ'),\n  ('واقعیت', 'NOUN,EZ'),\n  ('ترکیبی', 'ADJ'),\n  ('استفاده', 'NOUN'),\n  ('می\\u200cکنند', 'VERB'),\n  ('،', 'PUNCT'),\n  ('اما', 'CCONJ'),\n  ('نتایج', 'NOUN,EZ'),\n  ('این', 'DET'),\n  ('مطالعه', 'NOUN'),\n  ('چند', 'DET'),\n  ('ماه', 'NOUN'),\n  ('بعد', 'ADV'),\n  ('کامل', 'ADJ'),\n  ('و', 'CCONJ'),\n  ('منتشر', 'ADJ'),\n  ('خواهد_شد', 'VERB'),\n  ('.', 'PUNCT')],\n [('رابیندرا', 'NOUN'),\n  ('راتان', 'NOUN'),\n  ('،', 'PUNCT'),\n  ('دانشیار', 'NOUN,EZ'),\n  ('رسانه', 'NOUN'),\n  ('و', 'CCONJ'),\n  ('اطلاعات', 'NOUN'),\n  ('در', 'ADP'),\n  ('دانشگاه', 'NOUN,EZ'),\n  ('ایالتی', 'ADJ,EZ'),\n  ('میشیگان', 'NOUN'),\n  ('و', 'CCONJ'),\n  ('یکی', 'NUM'),\n  ('از', 'ADP'),\n  ('نویسندگان', 'NOUN,EZ'),\n  ('مقاله\\u200cای', 'NOUN'),\n  ('که', 'SCONJ'),\n  ('اخیرا', 'ADV'),\n  ('منتشر', 'ADJ'),\n  ('شد', 'VERB'),\n  ('،', 'PUNCT'),\n  ('می\\u200cگوید', 'VERB'),\n  ('نمی\\u200cدانیم', 'VERB'),\n  ('قدم', 'NOUN'),\n  ('زدن', 'NOUN'),\n  ('در', 'ADP'),\n  ('شرایط', 'NOUN,EZ'),\n  ('کاهش', 'NOUN,EZ'),\n  ('دید', 'NOUN,EZ'),\n  ('محیطی', 'ADJ'),\n  ('یا', 'CCONJ'),\n  ('انحرافات', 'NOUN,EZ'),\n  ('بصری', 'ADJ'),\n  ('چه', 'DET'),\n  ('پیامدهایی', 'NOUN'),\n  ('دارد', 'VERB'),\n  ('.', 'PUNCT')],\n [('این', 'DET'),\n  ('امر', 'NOUN'),\n  ('می\\u200cتواند', 'VERB'),\n  ('اثراتی', 'NOUN'),\n  ('روی', 'ADP,EZ'),\n  ('حرکت', 'NOUN,EZ'),\n  ('چشم\\u200cهای', 'NOUN,EZ'),\n  ('شما', 'PRON'),\n  ('در', 'ADP'),\n  ('فضا', 'NOUN'),\n  ('داشته\\u200cباشد', 'VERB'),\n  ('و', 'CCONJ'),\n  ('ممکن', 'ADJ'),\n  ('است', 'VERB'),\n  ('بینایی\\u200cتان', 'NOUN'),\n  ('را', 'ADP'),\n  ('بدتر', 'ADJ'),\n  ('کند', 'VERB'),\n  ('.', 'PUNCT')],\n [('هنگام', 'NOUN,EZ'),\n  ('استفاده', 'NOUN'),\n  ('از', 'ADP'),\n  ('دستگاه', 'NOUN,EZ'),\n  ('واقعیت', 'NOUN,EZ'),\n  ('مجازی', 'ADJ,EZ'),\n  ('رانندگی', 'NOUN'),\n  ('نکنید', 'VERB'),\n  ('راتان', 'NOUN'),\n  ('می\\u200cگوید', 'VERB'),\n  ('پژوهش\\u200cهای', 'NOUN,EZ'),\n  ('گذشته', 'ADV'),\n  ('روی', 'ADP,EZ'),\n  ('عینک\\u200cهای', 'NOUN,EZ'),\n  ('منشوری', 'ADJ'),\n  ('(', 'PUNCT'),\n  ('عینک\\u200cهای', 'NOUN,EZ'),\n  ('دارای', 'ADJ,EZ'),\n  ('روکش\\u200cهای', 'NOUN,EZ'),\n  ('خاص', 'ADJ'),\n  ('که', 'SCONJ'),\n  ('موجب', 'NOUN,EZ'),\n  ('جا', 'NOUN'),\n  ('به', 'ADP'),\n  ('جایی', 'NOUN'),\n  ('و', 'CCONJ'),\n  ('تحریفات', 'NOUN'),\n  ('بینایی', 'NOUN'),\n  ('می\\u200cشوند', 'VERB'),\n  (')', 'PUNCT'),\n  ('،', 'PUNCT'),\n  ('نشان', 'NOUN'),\n  ('می\\u200cدهد', 'VERB'),\n  ('افراد', 'NOUN'),\n  ('می\\u200cتوانند', 'VERB'),\n  ('با', 'ADP'),\n  ('اختللات', 'NOUN,EZ'),\n  ('بصری', 'ADJ'),\n  ('قابل', 'ADJ,EZ'),\n  ('توجه', 'NOUN'),\n  ('سازگار', 'ADJ'),\n  ('شوند', 'VERB'),\n  ('.', 'PUNCT')],\n [('اما', 'CCONJ'),\n  ('بازگشت', 'NOUN,EZ'),\n  ('حالت', 'NOUN,EZ'),\n  ('طبیعی', 'ADJ,EZ'),\n  ('دید', 'NOUN,EZ'),\n  ('تغییریافته', 'ADJ'),\n  ('مستلزم', 'NOUN,EZ'),\n  ('دوره', 'NOUN,EZ'),\n  ('سازگاری', 'NOUN'),\n  ('است', 'VERB'),\n  ('که', 'SCONJ'),\n  ('می\\u200cتواند', 'VERB'),\n  ('ساعت\\u200cها', 'NOUN'),\n  ('یا', 'CCONJ'),\n  ('حتی', 'ADV'),\n  ('روزها', 'NOUN'),\n  ('طول', 'NOUN'),\n  ('بکشد', 'VERB'),\n  ('.', 'PUNCT')],\n [('بازگشت', 'NOUN'),\n  ('به', 'ADP'),\n  ('بینایی', 'NOUN,EZ'),\n  ('عادی', 'ADJ'),\n  ('(', 'PUNCT'),\n  ('مثلا', 'ADV'),\n  ('با', 'ADP'),\n  ('برداشتن', 'NOUN,EZ'),\n  ('هدست', 'NOUN'),\n  (')', 'PUNCT'),\n  ('معمولا', 'ADV'),\n  ('سریع\\u200cتر', 'ADJ'),\n  ('و', 'CCONJ'),\n  ('درحد', 'CCONJ'),\n  ('چند', 'DET'),\n  ('دقیقه', 'NOUN'),\n  ('طول', 'NOUN'),\n  ('می\\u200cکشد', 'VERB'),\n  ('.', 'PUNCT')],\n [('با', 'ADP'),\n  ('این', 'DET'),\n  ('حال', 'NOUN'),\n  ('،', 'PUNCT'),\n  ('شکاف', 'NOUN'),\n  ('بین', 'ADP,EZ'),\n  ('ذهن', 'NOUN'),\n  ('و', 'CCONJ'),\n  ('بدن', 'NOUN'),\n  ('می\\u200cتواند', 'VERB'),\n  ('وظایف', 'NOUN,EZ'),\n  ('حرکتی', 'ADJ,EZ'),\n  ('اساسی', 'ADJ'),\n  ('مانند', 'ADV,EZ'),\n  ('فشردن', 'NOUN,EZ'),\n  ('دکمه\\u200cهای', 'NOUN,EZ'),\n  ('آسانسور', 'NOUN'),\n  ('و', 'CCONJ'),\n  ('راه', 'NOUN'),\n  ('رفتن', 'NOUN'),\n  ('در', 'ADP'),\n  ('مکان', 'NOUN,EZ'),\n  ('شلوغ', 'ADJ'),\n  ('را', 'ADP'),\n  ('بسیار', 'ADV'),\n  ('چالش', 'NOUN'),\n  ('برانگیزتر', 'ADJ'),\n  ('کند', 'VERB'),\n  ('.', 'PUNCT')],\n [('آن\\u200cها', 'PRON'),\n  ('همچنین', 'CCONJ'),\n  ('می\\u200cتوانند', 'VERB'),\n  ('به', 'ADP'),\n  ('نگرانی\\u200cهای', 'NOUN,EZ'),\n  ('ایمنی', 'NOUN,EZ'),\n  ('جدی', 'ADJ'),\n  ('منجر', 'ADJ'),\n  ('شوند', 'VERB'),\n  ('.', 'PUNCT')],\n [('وقتی', 'SCONJ'),\n  ('پژوهشگران', 'NOUN'),\n  ('درحال', 'CCONJ'),\n  ('استفاده', 'NOUN'),\n  ('از', 'ADP'),\n  ('هدست', 'NOUN,EZ'),\n  ('دوچرخه', 'NOUN'),\n  ('سواری', 'ADJ'),\n  ('می\\u200cکردند', 'VERB'),\n  ('،', 'PUNCT'),\n  ('این', 'DET'),\n  ('کار', 'NOUN'),\n  ('برایشان', 'ADP'),\n  ('دشوارتر', 'ADJ'),\n  ('شد', 'VERB'),\n  ('.', 'PUNCT')],\n [('بیلنسون', 'NOUN'),\n  ('خاطرنشان', 'NOUN'),\n  ('می\\u200cکند', 'VERB'),\n  ('که', 'SCONJ'),\n  ('در', 'ADP'),\n  ('بدترین', 'ADJ'),\n  ('سناریو', 'NOUN'),\n  ('،', 'PUNCT'),\n  ('اگر', 'SCONJ'),\n  ('فردی', 'NOUN'),\n  ('درحالی', 'ADJ'),\n  ('که', 'SCONJ'),\n  ('هدست', 'NOUN'),\n  ('استفاده', 'NOUN'),\n  ('کرده', 'VERB'),\n  ('،', 'PUNCT'),\n  ('درحال', 'CCONJ'),\n  ('دوچرخه', 'NOUN,EZ'),\n  ('سواری', 'ADJ'),\n  ('باشد', 'VERB'),\n  ('و', 'CCONJ'),\n  ('باتری', 'NOUN,EZ'),\n  ('آن', 'PRON'),\n  ('تمام', 'ADJ'),\n  ('شود', 'VERB'),\n  ('،', 'PUNCT'),\n  ('دید', 'NOUN,EZ'),\n  ('او', 'PRON'),\n  ('ناگهان', 'ADV'),\n  ('کاملا', 'ADV'),\n  ('تیره', 'ADJ'),\n  ('وتار', 'NOUN'),\n  ('می\\u200cشود', 'VERB'),\n  ('.', 'PUNCT')],\n [('همچنین', 'CCONJ'),\n  ('،', 'PUNCT'),\n  ('پیمایش', 'NOUN'),\n  ('با', 'ADP'),\n  ('دستگاه', 'NOUN'),\n  ('متصل', 'ADJ'),\n  ('به', 'ADP'),\n  ('اینترنت', 'NOUN'),\n  ('که', 'SCONJ'),\n  ('به', 'ADP'),\n  ('صورت', 'NOUN,EZ'),\n  ('شما', 'PRON'),\n  ('متصل', 'ADJ'),\n  ('است', 'VERB'),\n  ('می\\u200cتواند', 'VERB'),\n  ('موجب', 'NOUN,EZ'),\n  ('پرت', 'NOUN'),\n  ('شدن', 'NOUN,EZ'),\n  ('حواس', 'NOUN'),\n  ('شود', 'VERB'),\n  ('.', 'PUNCT')],\n [('درحال', 'CCONJ'),\n  ('حاضر', 'ADJ'),\n  ('مردم', 'NOUN'),\n  ('درحال', 'CCONJ'),\n  ('استفاده', 'NOUN'),\n  ('از', 'ADP'),\n  ('هدست\\u200cهای', 'NOUN,EZ'),\n  ('واقعیت', 'NOUN,EZ'),\n  ('ترکیبی', 'NOUN'),\n  ('هنگام', 'NOUN,EZ'),\n  ('رانندگی', 'NOUN'),\n  ('هستند', 'VERB'),\n  ('.', 'PUNCT')],\n [('تنها', 'ADV'),\n  ('چهار', 'NUM'),\n  ('روز', 'NOUN'),\n  ('پس', 'ADP'),\n  ('از', 'ADP'),\n  ('انتشار', 'NOUN,EZ'),\n  ('ویژن', 'NOUN,EZ'),\n  ('پرو', 'NOUN'),\n  ('،', 'PUNCT'),\n  ('سازمان', 'NOUN,EZ'),\n  ('ایمنی', 'NOUN,EZ'),\n  ('ترافیک', 'NOUN,EZ'),\n  ('بزرگراه\\u200cهای', 'NOUN,EZ'),\n  ('ملی', 'ADJ,EZ'),\n  ('آمریکا', 'NOUN'),\n  ('در', 'ADP'),\n  ('بیانیه\\u200cای', 'NOUN'),\n  ('از', 'ADP'),\n  ('مردم', 'NOUN'),\n  ('خواست', 'VERB'),\n  ('هنگام', 'NOUN,EZ'),\n  ('استفاده', 'NOUN'),\n  ('از', 'ADP'),\n  ('دستگاه', 'NOUN,EZ'),\n  ('واقعیت', 'NOUN,EZ'),\n  ('مجازی', 'ADJ'),\n  ('رانندگی', 'NOUN'),\n  ('نکنند', 'VERB'),\n  ('.', 'PUNCT')],\n [('وزیر', 'NOUN,EZ'),\n  ('حمل', 'NOUN'),\n  ('و', 'CCONJ'),\n  ('نقل', 'NOUN'),\n  ('نیز', 'CCONJ'),\n  ('با', 'ADP'),\n  ('انتشار', 'NOUN,EZ'),\n  ('پستی', 'ADJ'),\n  ('در', 'ADP'),\n  ('رسانه\\u200cهای', 'NOUN,EZ'),\n  ('اجتماعی', 'ADJ'),\n  ('خاطرنشان', 'NOUN'),\n  ('کرد', 'VERB'),\n  ('که', 'SCONJ'),\n  ('همه\\u200cی', 'DET,EZ'),\n  ('خودروهای', 'NOUN,EZ'),\n  ('دردسترس', 'ADJ'),\n  ('مصرف\\u200cکنندگان', 'NOUN'),\n  ('،', 'PUNCT'),\n  ('حتی', 'ADV'),\n  ('خودروهای', 'NOUN,EZ'),\n  ('دارای', 'ADJ,EZ'),\n  ('سیستم\\u200cهای', 'NOUN,EZ'),\n  ('پیشرفته\\u200cی', 'ADJ,EZ'),\n  ('کمک', 'NOUN,EZ'),\n  ('راننده', 'NOUN'),\n  ('هنوز', 'ADV'),\n  ('به', 'ADP'),\n  ('مشارکت', 'NOUN,EZ'),\n  ('رانندگان', 'NOUN,EZ'),\n  ('انسانی', 'ADJ'),\n  ('نیاز', 'NOUN'),\n  ('دارند', 'VERB'),\n  ('.', 'PUNCT')],\n [('هدست\\u200cهای', 'NOUN,EZ'),\n  ('واقعیت', 'NOUN'),\n  ('افزوده', 'VERB'),\n  ('،', 'PUNCT'),\n  ('واقعیت', 'NOUN,EZ'),\n  ('مجازی', 'ADJ'),\n  ('و', 'CCONJ'),\n  ('واقعیت', 'NOUN,EZ'),\n  ('ترکیبی', 'ADJ'),\n  ('همچنین', 'CCONJ'),\n  ('اغلب', 'ADV'),\n  ('موجب', 'NOUN,EZ'),\n  ('«', 'PUNCT'),\n  ('بیماری', 'NOUN'),\n  ('شبیه', 'ADJ,EZ'),\n  ('ساز', 'NOUN'),\n  ('»', 'PUNCT'),\n  ('می\\u200cشوند', 'VERB'),\n  ('که', 'SCONJ'),\n  ('شامل', 'ADJ,EZ'),\n  ('مجموعه\\u200cای', 'NOUN'),\n  ('از', 'ADP'),\n  ('علائم', 'NOUN,EZ'),\n  ('آزاردهنده', 'ADJ'),\n  ('مانند', 'ADV,EZ'),\n  ('تهوع', 'NOUN'),\n  ('،', 'PUNCT'),\n  ('سردرد', 'NOUN'),\n  ('،', 'PUNCT'),\n  ('سرگیجه', 'NOUN'),\n  ('و', 'CCONJ'),\n  ('خستگی', 'NOUN,EZ'),\n  ('چشم', 'NOUN'),\n  ('است', 'VERB'),\n  ('.', 'PUNCT')],\n [('بیلنسون', 'NOUN'),\n  ('و', 'CCONJ'),\n  ('همکارانش', 'NOUN'),\n  ('در', 'ADP'),\n  ('بیشتر', 'DET,EZ'),\n  ('جلسات', 'NOUN'),\n  ('با', 'ADP'),\n  ('دستگاه', 'NOUN,EZ'),\n  ('خود', 'PRON'),\n  ('،', 'PUNCT'),\n  ('حتی', 'ADV'),\n  ('اگر', 'SCONJ'),\n  ('تست\\u200cها', 'NOUN'),\n  ('کمتر', 'ADJ'),\n  ('از', 'ADP'),\n  ('یک', 'NUM'),\n  ('ساعت', 'NOUN'),\n  ('طول', 'NOUN'),\n  ('می\\u200cکشید', 'VERB'),\n  ('،', 'PUNCT'),\n  ('با', 'ADP'),\n  ('بیماری', 'NOUN'),\n  ('شبیه', 'ADJ,EZ'),\n  ('ساز', 'NOUN'),\n  ('مواجه', 'ADJ'),\n  ('شدند', 'VERB'),\n  ('.', 'PUNCT')],\n [('حتی', 'ADV'),\n  ('سطوح', 'NOUN,EZ'),\n  ('پایین', 'ADJ,EZ'),\n  ('بیماری', 'NOUN'),\n  ('شبیه', 'ADJ,EZ'),\n  ('ساز', 'NOUN'),\n  ('می\\u200cتواند', 'VERB'),\n  ('بر\\u200cکیفیت', 'NOUN,EZ'),\n  ('زندگی', 'NOUN'),\n  ('،', 'PUNCT'),\n  ('سطح', 'NOUN,EZ'),\n  ('فعالیت', 'NOUN'),\n  ('و', 'CCONJ'),\n  ('بهره', 'NOUN,EZ'),\n  ('وری', 'ADJ,EZ'),\n  ('افراد', 'NOUN'),\n  ('تاثیر', 'NOUN'),\n  ('بگذارد', 'VERB'),\n  ('.', 'PUNCT')],\n [('در', 'ADP'),\n  ('آزمایشی', 'NOUN'),\n  ('در', 'ADP'),\n  ('سال', 'NOUN,EZ'),\n  ('۲۰۱۴', 'NUM'),\n  ('فرانک', 'NOUN'),\n  ('اشتینیکه', 'NOUN'),\n  ('،', 'PUNCT'),\n  ('استاد', 'NOUN,EZ'),\n  ('تعامل', 'NOUN,EZ'),\n  ('انسان', 'NOUN'),\n  ('و', 'CCONJ'),\n  ('کامپیوتر', 'NOUN'),\n  ('در', 'ADP'),\n  ('دانشگاه', 'NOUN,EZ'),\n  ('هامبورگ', 'NOUN,EZ'),\n  ('آلمان', 'NOUN'),\n  ('۲۴', 'NUM'),\n  ('ساعت', 'NOUN'),\n  ('را', 'ADP'),\n  ('به', 'ADP'),\n  ('طور', 'NOUN,EZ'),\n  ('متناوب', 'ADJ'),\n  ('بین', 'ADP,EZ'),\n  ('دو', 'NUM'),\n  ('ساعت', 'NOUN,EZ'),\n  ('استفاده', 'NOUN'),\n  ('از', 'ADP'),\n  ('واقعیت', 'NOUN,EZ'),\n  ('مجازی', 'ADJ'),\n  ('و', 'CCONJ'),\n  ('۱۰', 'NUM'),\n  ('دقیقه', 'NOUN'),\n  ('وقفه', 'NOUN'),\n  ('سپری', 'NOUN'),\n  ('کرد', 'VERB'),\n  ('.', 'PUNCT')],\n [('در', 'ADP'),\n  ('طول', 'NOUN,EZ'),\n  ('مطالعه', 'NOUN'),\n  ('،', 'PUNCT'),\n  ('اشتینیکه', 'NOUN'),\n  ('مطمئن', 'ADJ'),\n  ('نبود', 'VERB'),\n  ('چه', 'DET'),\n  ('چیزی', 'NOUN'),\n  ('واقعی', 'ADJ'),\n  ('است', 'VERB'),\n  ('و', 'CCONJ'),\n  ('چه', 'DET'),\n  ('چیزی', 'NOUN'),\n  ('واقعی', 'ADJ'),\n  ('نیست', 'VERB'),\n  ('.', 'PUNCT')],\n [('مطالعه\\u200cای', 'NOUN'),\n  ('از', 'ADP'),\n  ('سال', 'NOUN,EZ'),\n  ('۲۰۰۹', 'NUM'),\n  ('نشان', 'NOUN'),\n  ('داد', 'VERB'),\n  ('استفاده', 'NOUN'),\n  ('از', 'ADP'),\n  ('واقعیت', 'NOUN,EZ'),\n  ('مجازی', 'ADJ'),\n  ('می\\u200cتواند', 'VERB'),\n  ('موجب', 'NOUN,EZ'),\n  ('تشکیل', 'NOUN,EZ'),\n  ('خاطرات', 'NOUN,EZ'),\n  ('غیرواقعی', 'ADJ'),\n  ('در', 'ADP'),\n  ('کودکان', 'NOUN'),\n  ('شود', 'VERB'),\n  ('.', 'PUNCT')],\n [('این', 'PRON'),\n  ('در', 'ADP'),\n  ('شرایطی', 'NOUN'),\n  ('است', 'VERB'),\n  ('که', 'SCONJ'),\n  ('وضوح', 'ADJ,EZ'),\n  ('تصویر', 'NOUN'),\n  ('و', 'CCONJ'),\n  ('کیفیت', 'NOUN,EZ'),\n  ('واقعیت', 'NOUN,EZ'),\n  ('مجازی', 'ADJ'),\n  ('۱۵', 'NUM'),\n  ('سال', 'NOUN'),\n  ('پیش\\u200cبسیار', 'NOUN'),\n  ('بدتر', 'ADJ'),\n  ('بود', 'VERB'),\n  ('.', 'PUNCT')],\n [('اشتینیکه', 'CCONJ'),\n  ('می\\u200cگوید', 'VERB'),\n  (':', 'PUNCT'),\n  ('«', 'PUNCT'),\n  ('صفحه', 'NOUN,EZ'),\n  ('نمایش', 'NOUN,EZ'),\n  ('صوتی', 'ADJ'),\n  ('و', 'CCONJ'),\n  ('تصویری', 'ADJ'),\n  ('بهتر', 'ADJ'),\n  ('و', 'CCONJ'),\n  ('بهتر', 'ADJ'),\n  ('می\\u200cشود', 'VERB'),\n  ('.', 'PUNCT')],\n [('بنابراین', 'SCONJ'),\n  ('،', 'PUNCT'),\n  ('تقریبا', 'ADV'),\n  ('مطمئن', 'ADJ'),\n  ('هستم', 'VERB'),\n  ('که', 'SCONJ'),\n  ('محتوای', 'NOUN,EZ'),\n  ('مجازی', 'ADJ'),\n  ('و', 'CCONJ'),\n  ('واقعیت', 'NOUN'),\n  ('همچنان', 'ADV'),\n  ('با', 'ADP'),\n  ('هم\\u200cادغام', 'NOUN'),\n  ('می\\u200cشوند', 'VERB'),\n  ('.', 'PUNCT'),\n  ('»', 'PUNCT'),\n  ('البته', 'ADV'),\n  ('او', 'PRON'),\n  ('آینده\\u200cی', 'NOUN,EZ'),\n  ('محاسباتی', 'ADJ,EZ'),\n  ('مثبت', 'ADJ,EZ'),\n  ('تری', 'NOUN'),\n  ('را', 'ADP'),\n  ('تجسم', 'NOUN'),\n  ('می\\u200cکند', 'VERB'),\n  ('که', 'SCONJ'),\n  ('در', 'ADP'),\n  ('آن', 'PRON'),\n  ('،', 'PUNCT'),\n  ('این', 'DET'),\n  ('ابزارها', 'NOUN'),\n  ('به', 'ADP'),\n  ('طور', 'NOUN,EZ'),\n  ('مفیدی', 'ADJ'),\n  ('جایگزین', 'ADJ,EZ'),\n  ('کلیدها', 'NOUN'),\n  ('و', 'CCONJ'),\n  ('صفحات', 'NOUN,EZ'),\n  ('لمسی', 'ADJ'),\n  ('می\\u200cشوند', 'VERB'),\n  ('.', 'PUNCT')],\n [('افرادی', 'NOUN'),\n  ('که', 'SCONJ'),\n  ('از', 'ADP'),\n  ('دستگاه\\u200cهای', 'NOUN,EZ'),\n  ('واقعیت', 'NOUN,EZ'),\n  ('افزوده', 'ADJ'),\n  ('استفاده', 'NOUN'),\n  ('می\\u200cکنند', 'VERB'),\n  ('،', 'PUNCT'),\n  ('منزوی', 'ADJ'),\n  ('می\\u200cشوند', 'VERB'),\n  ('جهان\\u200cهای', 'NOUN,EZ'),\n  ('دیجیتالی', 'ADJ,EZ'),\n  ('فراگیر', 'ADJ'),\n  ('ممکن', 'ADJ'),\n  ('است', 'VERB'),\n  ('بر\\u200cنحوه\\u200cی', 'NOUN,EZ'),\n  ('فکر', 'NOUN'),\n  ('کردن', 'NOUN'),\n  ('و', 'CCONJ'),\n  ('اجتماعی', 'ADJ'),\n  ('شدن', 'NOUN,EZ'),\n  ('کاربران', 'NOUN'),\n  ('نیز', 'CCONJ'),\n  ('تاثیر', 'NOUN'),\n  ('بگذارند', 'VERB'),\n  ('و', 'CCONJ'),\n  ('بتوانند', 'VERB'),\n  ('بر\\u200cنحوه', 'NOUN,EZ'),\n  ('کار', 'NOUN'),\n  ('یا', 'CCONJ'),\n  ('یادگیری', 'NOUN,EZ'),\n  ('آن\\u200cها', 'PRON'),\n  ('اثر', 'NOUN'),\n  ('بذارند', 'VERB'),\n  ('.', 'PUNCT')],\n [('طبق', 'NOUN,EZ'),\n  ('مطالعه\\u200cای', 'NOUN'),\n  ('از', 'ADP'),\n  ('سال', 'NOUN,EZ'),\n  ('۲۰۱۹', 'NUM'),\n  ('،', 'PUNCT'),\n  ('افرادی', 'NOUN'),\n  ('که', 'SCONJ'),\n  ('هدست', 'NOUN,EZ'),\n  ('واقعیت', 'NOUN,EZ'),\n  ('مجازی', 'ADJ'),\n  ('استفاده', 'NOUN'),\n  ('می\\u200cکنند', 'VERB'),\n  ('،', 'PUNCT'),\n  ('در', 'ADP'),\n  ('حضور', 'NOUN,EZ'),\n  ('شخصیت', 'NOUN,EZ'),\n  ('انسانی', 'ADJ,EZ'),\n  ('مجازی', 'ADJ'),\n  ('،', 'PUNCT'),\n  ('در', 'ADP'),\n  ('کارهای', 'NOUN,EZ'),\n  ('شناختی', 'ADJ,EZ'),\n  ('ساده', 'ADJ'),\n  ('بهتر', 'ADV'),\n  ('عمل', 'NOUN'),\n  ('می\\u200cکنند', 'VERB'),\n  ('،', 'PUNCT'),\n  ('اما', 'CCONJ'),\n  ('عملکرد', 'NOUN,EZ'),\n  ('آن\\u200cها', 'PRON'),\n  ('در', 'ADP'),\n  ('وظایف', 'NOUN,EZ'),\n  ('شناختی', 'ADJ,EZ'),\n  ('پیچیده', 'ADJ'),\n  ('بدتر', 'ADJ'),\n  ('می\\u200cشود', 'VERB'),\n  ('.', 'PUNCT')],\n [('پژوهشگران', 'NOUN'),\n  ('متوجه', 'ADJ'),\n  ('شده\\u200cاند', 'VERB'),\n  ('افرادی', 'NOUN'),\n  ('که', 'SCONJ'),\n  ('از', 'ADP'),\n  ('دستگاه\\u200cهای', 'NOUN,EZ'),\n  ('واقعیت', 'NOUN,EZ'),\n  ('افزوده', 'ADJ'),\n  ('استفاده', 'NOUN'),\n  ('می\\u200cکنند', 'VERB'),\n  ('،', 'PUNCT'),\n  ('در', 'ADP'),\n  ('مقایسه', 'NOUN'),\n  ('با', 'ADP'),\n  ('افراد', 'NOUN,EZ'),\n  ('اطرافشان', 'NOUN'),\n  ('که', 'SCONJ'),\n  ('هدست', 'NOUN'),\n  ('استفاده', 'NOUN'),\n  ('نمی\\u200cکنند', 'VERB'),\n  ('،', 'PUNCT'),\n  ('حالت', 'NOUN,EZ'),\n  ('منزوی', 'ADJ'),\n  ('تری', 'NOUN'),\n  ('دارند', 'VERB'),\n  ('.', 'PUNCT')],\n [('مارک', 'NOUN'),\n  ('رومن', 'NOUN'),\n  ('میلر', 'NOUN'),\n  ('،', 'PUNCT'),\n  ('نویسنده\\u200cی', 'NOUN,EZ'),\n  ('اصلی', 'ADJ,EZ'),\n  ('مقاله', 'NOUN,EZ'),\n  ('سال', 'NOUN,EZ'),\n  ('۲۰۱۹', 'NUM'),\n  ('و', 'CCONJ'),\n  ('استادیار', 'NOUN,EZ'),\n  ('مؤسسه', 'NOUN,EZ'),\n  ('فناوری', 'NOUN,EZ'),\n  ('ایلینوی', 'NOUN'),\n  ('که', 'SCONJ'),\n  ('تاثیر', 'NOUN,EZ'),\n  ('رفتاری', 'ADJ,EZ'),\n  ('واقعیت', 'NOUN,EZ'),\n  ('مجازی', 'ADJ'),\n  ('و', 'CCONJ'),\n  ('افزوده', 'ADJ'),\n  ('را', 'ADP'),\n  ('مطالعه', 'NOUN'),\n  ('می\\u200cکند', 'VERB'),\n  ('،', 'PUNCT'),\n  ('می\\u200cگوید', 'VERB'),\n  (':', 'PUNCT'),\n  ('«', 'PUNCT'),\n  ('استفاده', 'NOUN'),\n  ('از', 'ADP'),\n  ('هدست', 'NOUN,EZ'),\n  ('واقعیت', 'NOUN,EZ'),\n  ('مجازی', 'ADJ'),\n  ('یا', 'CCONJ'),\n  ('واقعیت', 'NOUN'),\n  ('ترکیبی', 'NOUN'),\n  ('ذاتا', 'ADV'),\n  ('منزوی\\u200cکننده', 'ADJ'),\n  ('است', 'VERB'),\n  ('.', 'PUNCT'),\n  ('»', 'PUNCT'),\n  ('میلر', 'NOUN'),\n  ('می\\u200cافزاید', 'VERB'),\n  ('وقتی', 'SCONJ'),\n  ('کارگران', 'NOUN'),\n  ('از', 'ADP'),\n  ('هدست', 'NOUN'),\n  ('استفاده', 'NOUN'),\n  ('می\\u200cکنند', 'VERB'),\n  ('،', 'PUNCT'),\n  ('همکاری', 'NOUN,EZ'),\n  ('حضوری', 'ADJ'),\n  ('چالش', 'NOUN,EZ'),\n  ('برانگیزتر', 'ADJ'),\n  ('می\\u200cشود', 'VERB'),\n  ('؛', 'PUNCT'),\n  ('زیرا', 'SCONJ'),\n  ('غیرممکن', 'ADJ'),\n  ('است', 'VERB'),\n  ('چیزی', 'NOUN'),\n  ('را', 'ADP'),\n  ('که', 'SCONJ'),\n  ('به', 'ADP'),\n  ('آن', 'PRON'),\n  ('نگاه', 'NOUN'),\n  ('می\\u200cکنید', 'VERB'),\n  ('،', 'PUNCT'),\n  ('به', 'ADP'),\n  ('دیگری', 'PRON'),\n  ('نشان', 'NOUN'),\n  ('دهید', 'VERB'),\n  ('یا', 'CCONJ'),\n  ('صفحه', 'NOUN,EZ'),\n  ('نمایش', 'NOUN'),\n  ('را', 'ADP'),\n  ('به', 'ADP'),\n  ('اشتراک', 'NOUN'),\n  ('بگذارید', 'VERB'),\n  ('،', 'PUNCT'),\n  ('مگر', 'ADV'),\n  ('اینکه', 'CCONJ'),\n  ('لایه\\u200cهای', 'NOUN,EZ'),\n  ('اضافی', 'ADJ,EZ'),\n  ('نرم\\u200cافزار', 'NOUN'),\n  ('به', 'ADP'),\n  ('عنوان', 'NOUN,EZ'),\n  ('واسطه', 'NOUN,EZ'),\n  ('عمل', 'NOUN'),\n  ('کنند', 'VERB'),\n  ('.', 'PUNCT')]]"
     },
     "execution_count": 42,
     "metadata": {},
     "output_type": "execute_result"
    }
   ],
   "source": [
    "model_path = 'pos_tagger.model'\n",
    "tagger = POSTagger(model = model_path, universal_tag=False)\n",
    "token_tag_list = tagger.tag_sents(tokenize_text)\n",
    "token_tag_list"
   ],
   "metadata": {
    "collapsed": false,
    "ExecuteTime": {
     "end_time": "2024-04-01T21:12:47.607058400Z",
     "start_time": "2024-04-01T21:12:47.545055700Z"
    }
   },
   "id": "57cc37ef8ceb8eef"
  },
  {
   "cell_type": "markdown",
   "source": [
    "Using some grammar rules, which is derived after much time spent on POS tags of keyphrases and looking them carefully and extracting all the best rules with the **lowest False Positives** possible, we extract the candidates of being keyphrase.    "
   ],
   "metadata": {
    "collapsed": false
   },
   "id": "d2620ad1c2e64234"
  },
  {
   "cell_type": "code",
   "execution_count": 43,
   "outputs": [
    {
     "name": "stdout",
     "output_type": "stream",
     "text": [
      "['استفاده\\u200cی' 'جهان\\u200cهای دیجیتالی' 'مدیر مؤسس آزمایشگاه تعامل'\n",
      " 'مجموعه\\u200cای' 'کامپیوتر فضایی' 'اسکنر' 'واقعیت افزوده'\n",
      " 'رسانه\\u200cهای' 'سریع\\u200cتر' 'کردن اعداد' 'قیمت' 'باتری' 'چشم انسان'\n",
      " 'اثراتی' 'ایجاد تجارب فراگیر' 'کامل' 'تصویری' 'بیماری شبیه'\n",
      " 'حضور شخصیت انسانی' 'بهبود' 'تجربه' 'ممکن' 'کاربران مشتاق'\n",
      " 'طبق مطالعه\\u200cای' 'مقاله سال' 'طول مطالعه' 'معنا' 'انواع جدیدی' 'چالش'\n",
      " 'طور کلی' 'ساعت' 'مانیتورهای فیزیکی' 'طور منظم' 'محیط' 'انجام' 'مارک'\n",
      " 'هیجان انگیزی' 'کلیدها' 'بیلنسون' 'نویسنده\\u200cی'\n",
      " 'نویسندگان مقاله\\u200cای' 'انحرافات بصری' 'ادراک بصری' 'صفحه نمایش کوچک'\n",
      " 'کامپیوترهای رومیزی' 'دستگاه' 'کردن' 'بیرون' 'هدست' '۲۰۰۹ نشان'\n",
      " 'دانشگاه هامبورگ آلمان' 'موجب پرت' 'بر\\u200cکیفیت زندگی' 'نرم\\u200cافزار'\n",
      " 'هدست\\u200cهایی' 'اجسام نزدیک' 'ابزارهای باورنکردنی' 'هدست دوچرخه'\n",
      " 'شرایطی' 'مدت\\u200cها' 'ایجاد تجارب' 'جرمی' 'نگرانی\\u200cهای ایمنی'\n",
      " 'آرایه دوربین' 'ذهن' 'طور' 'پیشرفت\\u200cهای تکنولوژیکی' 'پژوهشگران'\n",
      " 'دانشیار رسانه' 'فرهنگی' 'منتقل' 'حرکت چشم\\u200cهای' 'کارهای شناختی'\n",
      " 'بیانیه\\u200cای' 'کاری' 'جهان\\u200cهای' 'آمریکا' 'ویژن پرو' 'محدود' 'ساز'\n",
      " 'عینک\\u200cهای' 'روز طراحی' 'رابیندرا' 'اساسی' 'صورت' 'جایگزین کلیدها'\n",
      " 'مصرف\\u200cکنندگان' 'ویديویی مشابه Pass-Through' 'سطوح پایین'\n",
      " 'دانشگاه ییل' 'حالت' 'میلر' 'وضوح تصویر' 'اضافی نرم\\u200cافزار' 'اجتماعی'\n",
      " 'شدن کاربران' 'نویسندگان مقاله' 'کاربر' 'موجب تاخیر' 'میشیگان'\n",
      " 'دستگاه\\u200cهای واقعیت' 'همکارانش' 'واقعیت مجازی' 'بیانیه' 'انحرافات'\n",
      " 'منحصربه' 'سبک فناوری ویديویی مشابه' 'سبک فناوری' 'تردید' 'تاپ\\u200cها'\n",
      " 'بعدی' 'کامپیوترهای رومیزی استاندارد' 'نیاز' 'لایه\\u200cهای اضافی'\n",
      " '۱۵ سال' 'بيلنسون' 'واقعیت' 'کار' 'شرکت' 'وظایف حرکتی' 'حال' '۲۰۲۳ اعلام'\n",
      " 'هنگام رانندگی' 'اطلاعات' 'موجب تشکیل خاطرات غیرواقعی' 'محتوای'\n",
      " 'استادیار مؤسسه فناوری ایلینوی' 'هدست\\u200cهای واقعیت ترکیبی'\n",
      " 'تاثیر رفتاری' 'مد ت' 'دید' 'راه' 'اکتبر' 'عمل' 'عینک' 'بهره وری'\n",
      " 'استفاده' 'لنزهای شفاف' 'طور مداوم' 'توجه' 'وقفه'\n",
      " 'آینده\\u200cی محاسباتی مثبت تری' 'ویژگی\\u200cهای چشمگیری' 'فرد'\n",
      " 'طور مکرر' 'حالت منزوی' 'خاطرنشان' 'گرافیک واقعیت مجازی' 'صفحه' 'تجسم'\n",
      " 'گرمی اپل' 'سپری' 'پیش\\u200cبسیار' 'فرانک' 'اثر' 'ویژگی\\u200cهای' 'طول'\n",
      " 'اینترنت' 'سایر اختلالات بینایی' 'وظایف شناختی' 'تغییر' 'گرافیک واقعیت'\n",
      " 'تیره' 'موجب' 'نگاه' 'منزوی\\u200cکننده' 'روز' 'اپل'\n",
      " 'سبک فناوری ویديویی مشابه Pass-Through' 'بر\\u200cنحوه\\u200cی فکر'\n",
      " 'محتوای مجازی' 'احتیاط' 'خودروهای' 'وارد' 'محاسباتی مثبت تری' 'قرار'\n",
      " 'وتار' 'ساده' 'ژوئن' 'عرضه' 'تیم' 'اوایل ماه جاری' 'هدستی'\n",
      " 'بر\\u200cنحوه کار' 'ملی آمریکا' 'وری افراد' 'سردرد' 'انتشار' 'چیزی'\n",
      " 'مشارکت رانندگان انسانی' 'آینده\\u200cی' 'متصل' 'تار' 'کمک راننده'\n",
      " 'اشتینیکه مطمئن' 'پوشش' 'نمایش' 'طول روز' 'منتشر'\n",
      " 'نگرانی\\u200cهای ایمنی جدی' 'عملکرد حرکتی' 'مکان' '۳۵۰۰ دلار'\n",
      " 'رسانه\\u200cهای اجتماعی' 'خستگی چشم' 'تست\\u200cها' 'فضا' 'رفتن' 'دستگاهی'\n",
      " 'شرکت\\u200cهایی' 'افراد اطرافشان' 'کارهای' 'پایین\\u200cتر'\n",
      " 'فناوری Pass-Through نمایشی' 'هدست\\u200cهای واقعیت' 'ساز مواجه' 'قلمرو'\n",
      " 'قدم' 'بازگشت حالت' 'بدن' 'دنیای' 'لیزا' 'آینده\\u200cی محاسباتی مثبت'\n",
      " 'انواع' 'بینایی' 'اشتینیکه' 'صفحات' 'نقل' 'خودروهای دارای'\n",
      " 'بینایی\\u200cتان' 'لنزهای' 'دیجیتالی' 'دانشگاه'\n",
      " 'واسطه\\u200cی کل تجربه\\u200cهای کاربران' 'دستگاه\\u200cهای واقعیت افزوده'\n",
      " 'کوئست ۳' 'ساعت\\u200cهای طولانی' 'قابل توجه' 'توجه سازگار' 'هدست متا'\n",
      " 'دید تغییریافته' 'هیجان' 'ابزارهای' 'اوایل ماه' 'لپ' 'جایی' 'دست'\n",
      " 'کارگران' 'صفحه گسترده' 'سطوح' 'نویسنده\\u200cی اصلی' 'بیماری حرکت'\n",
      " 'دستگاه واقعیت' 'چالش برانگیزتر' 'بدتر' 'تاثیر' 'مطالعه\\u200cای'\n",
      " 'مطالعات' 'شبیه ساز' 'هم\\u200cادغام' 'نظارت بر\\u200cشرکت کنندگانی'\n",
      " 'انتشار پستی' 'وعده' 'اثرات' 'تهوع' 'Pass-Through' 'تحریفات' 'طور متناوب'\n",
      " 'چیزی واقعی' '۲۴ ساعت' 'ایالتی میشیگان' 'مدت واقعیت' 'تبلیغات اپل'\n",
      " 'مجازی رانندگی' 'دستگاه مجهز' 'ابزار' 'تیم پژوهشی' 'رفتار' 'یادگیری'\n",
      " 'درزمینه\\u200cی استفاده' 'ارائه' 'نزدیک' 'اشباع رنگ' 'چهار روز'\n",
      " 'انتشار ویژن پرو' 'استفاده\\u200cی طولانی' 'عینک\\u200cهای دارای'\n",
      " 'ساعت\\u200cها' 'بهتر' 'سرگیجه' 'شامل مجموعه\\u200cای' 'صفحه کلید'\n",
      " 'طور همزمان' 'انسانی مجازی دانشگاه استنفورد' 'سال' 'رانندگی'\n",
      " 'سایر پیامدهای ناخواسته' 'مدت واقعیت ترکیبی' 'اولیه' 'بیماری' 'وظایف'\n",
      " 'پیش\\u200cبسیار بدتر' 'بدترین' 'ساعت استفاده' 'متشر' 'نظر' 'دید آنی'\n",
      " 'تمام' '۲۰۱۴ فرانک' 'ویژون پرو' 'نیازی' 'مشارکت رانندگان' 'پایین بیماری'\n",
      " 'آلمان ۲۴' 'برداشتن هدست' 'کوئست' 'هدست واقعیت مجازی' 'فردی درحالی'\n",
      " 'نظر بيلنسون' 'مِسری' 'سطح فعالیت' '۱۰ دقیقه' 'گزارش' 'انسان\\u200cشناس'\n",
      " 'همکاری' 'کارهای روزمره' 'خطرات' 'منحصربه فرد' 'انزوای' 'یک ساعت'\n",
      " 'لابی\\u200cگری' 'صفحات لمسی' 'افزوده' 'بیانیه مطبوعاتی' 'مرسوم' 'هدیه'\n",
      " 'کاربران' 'دست\\u200cها' 'روانشناسی واقعیت مجازی' 'چندی' 'تعاملی' 'توصیه'\n",
      " 'کیفیت واقعیت مجازی' 'پیمایش' 'سایر پیامدهای' 'وضوح'\n",
      " 'سیستم\\u200cهای پیشرفته\\u200cی' 'انسان\\u200cشناس اجتماعی' 'دقیقه'\n",
      " 'خطرات جدیدی' 'عنوان واسطه عمل' 'بینایی عادی' 'دنیای واقعی' 'سایر کارهای'\n",
      " 'تصویر' 'فردی' 'جلب' 'راتان' 'دستگاه واقعیت مجازی رانندگی' 'موس'\n",
      " 'اسکنر لیدار' 'ساینتیفیک آمریکن' 'خواندن ایمیل' 'شرایط کاهش دید'\n",
      " 'اثرات کوتاه' 'جایگزینی' 'کارشناسان' 'استفاده طولانی' 'بازگشت حالت طبیعی'\n",
      " 'شدن حواس' 'صفحه نمایش' 'پیامدهایی' 'فضای' 'پیچیده' 'مستلزم دوره سازگاری'\n",
      " 'خودروهای دردسترس' 'ترکیبی ویژن پرو' 'نتایج' 'بازگشت' 'استاد تعامل انسان'\n",
      " 'شامل' 'دانشگاه استنفورد' 'دستگاه جدیدش' 'موجب تاخیر بصری' 'مطمئن'\n",
      " 'همکاری حضوری' 'روکش\\u200cهای خاص' 'افرادی' 'غیرممکن' 'مدتی' 'امر'\n",
      " 'میدان دید' 'ده\\u200cها ساعت' 'همراه' 'سناریو' 'جلسات' 'انزوای اجتماعی'\n",
      " 'پیشرفته\\u200cی کمک راننده' 'نور' 'تری' 'طور مفیدی' 'روکش\\u200cهای'\n",
      " 'مردم' 'حضور شخصیت' 'شرایط کاهش دید محیطی' 'علائم آزاردهنده'\n",
      " 'سطوح پایین بیماری' 'نگران' 'دلار' 'دانشگاه ایالتی' 'علاوه بر\\u200cاین'\n",
      " 'میدان دید محدود' 'صفحه نمایش صوتی' 'منزوی' 'زدن' 'رومن' 'کیفیت واقعیت'\n",
      " 'مطالعات طولانی' 'منجر' 'فشردن دکمه\\u200cهای آسانسور' 'پژوهشگران متوجه'\n",
      " 'اجسام' 'ارزیابی' 'ویژگی\\u200cهایی' 'اشتراک' 'ادراک' 'شکاف' 'معمولی'\n",
      " 'هدست ویژن پرو' 'اعلام' 'قابل' 'رفتار اجتماعی' 'آزمایشی' 'هدست\\u200cها'\n",
      " 'مانیتورهای' 'مطالعه' 'سیستم\\u200cهای' 'دوچرخه سواری'\n",
      " 'سازمان ایمنی ترافیک بزرگراه\\u200cهای ملی' 'چشم' 'نشان'\n",
      " 'دوربین\\u200cهای رو' 'درحالی' 'جایگزین' 'چنین' 'ترکیبی' 'افراد' 'بهره'\n",
      " 'فراگیر' 'هدست واقعیت ترکیبی' 'هنگام استفاده' 'واقعیت ترکیبی'\n",
      " 'سازمان ایمنی ترافیک بزرگراه\\u200cهای' 'مکان شلوغ' 'کامپیوتر' 'مجازی'\n",
      " 'دانشگاه ایالتی میشیگان' 'روانشناسی واقعیت' 'حسگرهایی'\n",
      " 'عینک\\u200cهای منشوری' 'لایه\\u200cهای' 'عنوان' 'دشوارتر'\n",
      " 'پیشرفت\\u200cهای' 'دستگاه متصل' 'تست\\u200cها کمتر' 'بهره وری افراد'\n",
      " 'هدست واقعیت' 'اشیاء' 'علائم' 'قلمرو دیجیتال' 'وزیر حمل' 'کودکان'\n",
      " 'محیط فرد' 'مقایسه' 'هدست دوچرخه سواری' 'اختللات' 'ابزار مفیدی'\n",
      " 'موجب تشکیل خاطرات' 'لایه\\u200cهای اضافی نرم\\u200cافزار' 'ارسال ایمیل'\n",
      " 'پوشش دیجیتالی' 'توصیف' 'روزها' 'قیمت اولیه\\u200cی' 'دوچرخه'\n",
      " 'اختللات بصری' 'عملکرد' 'پژوهش\\u200cهای' 'فناوری Pass-Through' 'ابزارها'\n",
      " 'ساعت\\u200cهای' 'ماه' 'دستگاه واقعیت مجازی' 'رویای شرکت\\u200cهای فناوری'\n",
      " 'موجب جا' 'عادت' 'حاضر']\n"
     ]
    }
   ],
   "source": [
    "import numpy as np\n",
    "\n",
    "grammars = [\n",
    "\"\"\"\n",
    "NP:\n",
    "        {<NUM><NOUN>}    # Number + Noun\n",
    "\n",
    "\"\"\",\n",
    "\n",
    "\"\"\"\n",
    "NP:\n",
    "        {<NOUN><NUM>}    # Noun + Number\n",
    "\n",
    "\"\"\",\n",
    "    \n",
    "\"\"\"\n",
    "NP:\n",
    "        {<NOUN,EZ>*<ADJ,EZ>*<NOUN>}    # Dependent Noun(s)(optional) + Dependent Adjective(s)(optional) + Noun\n",
    "\n",
    "\"\"\",\n",
    "    \n",
    "\"\"\"\n",
    "NP:\n",
    "        {<ADJ,EZ>*<NOUN,EZ>*<NOUN>}    # Dependent Adjective(s)(optional) + Dependent Noun(s)(optional) + Noun\n",
    "\n",
    "\"\"\",\n",
    "    \n",
    "\"\"\"\n",
    "NP:\n",
    "        {<NOUN,EZ>*<NOUN>?<ADJ>?}    # Dependent Noun(s)(optional) + Noun(optional) + Adjective(optional)\n",
    "\n",
    "\"\"\",\n",
    "    \n",
    "\"\"\"\n",
    "NP:\n",
    "        {<NOUN,EZ>*<NOUN>?<ADJ,EZ>*}    # Dependent Noun(s)(optional) + Noun(optional) + Dependent Adjective(s)(optional)\n",
    "\n",
    "\"\"\"\n",
    "]\n",
    "\n",
    "## you can also add your own grammar to be extracted from the text...\n",
    "\n",
    "def extract_candidates(tagged, grammar):\n",
    "    keyphrase_candidate = set()\n",
    "    np_parser = nltk.RegexpParser(grammar)\n",
    "    trees = np_parser.parse_sents(tagged)\n",
    "    for tree in trees:\n",
    "        for subtree in tree.subtrees(filter=lambda t: t.label() == 'NP'):  # For each nounphrase\n",
    "            # Concatenate the token with a space\n",
    "            keyphrase_candidate.add(' '.join(word for word, tag in subtree.leaves()))\n",
    "    keyphrase_candidate = {kp for kp in keyphrase_candidate if len(kp.split()) <= 5}\n",
    "    keyphrase_candidate = list(keyphrase_candidate)\n",
    "    return keyphrase_candidate\n",
    "\n",
    "all_candidates = set()\n",
    "for grammar in grammars:\n",
    "    all_candidates.update(extract_candidates(token_tag_list, grammar))\n",
    "\n",
    "\n",
    "all_candidates = np.array(list(all_candidates))\n",
    "\n",
    "\n",
    "print(np.array(list(all_candidates)))"
   ],
   "metadata": {
    "collapsed": false,
    "ExecuteTime": {
     "end_time": "2024-04-01T21:12:49.186708900Z",
     "start_time": "2024-04-01T21:12:49.137362400Z"
    }
   },
   "id": "6e7ae6fb15d11db8"
  },
  {
   "cell_type": "markdown",
   "source": [
    "We load the sent2vec model of hazm for Sentence Embeddings."
   ],
   "metadata": {
    "collapsed": false
   },
   "id": "6b60d6a21347ea59"
  },
  {
   "cell_type": "code",
   "execution_count": 10,
   "outputs": [],
   "source": [
    "sent2vec_model_path = 'sent2vec/sent2vec-naab.model'\n",
    "sent2vec_model = SentEmbedding(sent2vec_model_path)"
   ],
   "metadata": {
    "collapsed": false,
    "ExecuteTime": {
     "end_time": "2024-04-01T19:37:40.226806500Z",
     "start_time": "2024-04-01T19:37:28.586942600Z"
    }
   },
   "id": "a67fe5014de86a3d"
  },
  {
   "cell_type": "markdown",
   "source": [
    "Using the model that was loaded in the previous step, we convert each of the candidates into a corresponding vector, and then once with the combination of all candidates of a vector, we determine it as the representative vector of the text."
   ],
   "metadata": {
    "collapsed": false
   },
   "id": "f6b5a401beced709"
  },
  {
   "cell_type": "code",
   "execution_count": 44,
   "outputs": [
    {
     "data": {
      "text/plain": "[array([-2.66034249e-02, -1.43336440e-02, -5.12810331e-03,  2.10486110e-02,\n        -1.17218597e-02,  1.09310756e-02,  1.71195008e-02,  9.27506387e-03,\n        -5.74194528e-02,  4.22935374e-03,  4.49481681e-02, -1.97610725e-02,\n        -6.79992214e-02, -1.22407014e-02, -1.48204202e-02,  1.11608468e-02,\n        -1.49800219e-02, -1.07619315e-02,  1.01512494e-02,  5.04312525e-03,\n        -2.42020935e-03,  2.56322194e-02,  1.25513356e-02, -2.65026968e-02,\n        -3.48951519e-02,  3.09036449e-02, -2.22961642e-02,  9.61451884e-03,\n         9.44961607e-03, -4.02526557e-03,  7.14873150e-03, -3.36340442e-02,\n         9.39282589e-03,  6.67267814e-02,  1.43507468e-02,  5.85419452e-03,\n        -4.19504568e-03, -1.12117575e-02, -1.80705506e-02, -5.35457246e-02,\n        -4.81239147e-03,  2.51433272e-02, -6.63178580e-05, -1.27397319e-02,\n        -3.73444706e-02, -2.83521805e-02,  5.12858341e-03,  9.42430180e-03,\n         1.86034217e-02,  4.28288756e-03, -7.61001697e-03,  9.47443070e-04,\n         3.41822803e-02, -3.00561637e-02, -2.20059976e-02,  4.89277504e-02,\n         2.23820228e-02,  3.36025085e-04,  2.29707677e-02, -1.49759809e-02,\n        -4.68332786e-04, -1.34776086e-02,  1.10503063e-02, -2.51430348e-02,\n        -9.25421249e-03, -4.57254675e-04, -7.72460271e-03,  3.44493389e-02,\n        -4.02652882e-02,  5.91251953e-03,  6.09232523e-02, -5.71782095e-03,\n        -2.73788814e-02, -4.16861568e-03, -1.42037943e-02, -7.23001221e-03,\n        -7.28088990e-03, -9.35399439e-03, -7.10416725e-03, -1.57219563e-02,\n         4.51946221e-02, -1.57262515e-02,  2.08106525e-02, -2.93214782e-03,\n        -9.05819517e-03, -3.00499871e-02, -1.35587035e-02, -3.86918400e-04,\n        -2.90613063e-02,  6.83110766e-03, -1.11436136e-02,  3.49045265e-04,\n        -7.78690726e-03, -6.80086715e-03,  2.09882092e-02, -4.87270270e-04,\n         1.11098876e-02,  1.17264958e-02, -1.22841382e-02, -6.43355027e-03,\n         2.01094635e-02, -1.29954526e-02,  5.70545495e-02, -8.59899819e-03,\n         7.30720861e-03, -2.48497222e-02, -1.56631842e-02, -1.89777482e-02,\n         1.83805972e-02, -4.50253906e-03, -2.61114929e-02, -2.33039241e-02,\n        -1.09280767e-02, -2.73088110e-03, -4.58875950e-03,  1.99205820e-02,\n         1.38905016e-03,  1.93822030e-02, -3.58010689e-03, -2.28053425e-03,\n         8.31353571e-03,  5.79927210e-03,  2.60019358e-02,  4.70319559e-04,\n         2.07024198e-02, -2.86739059e-02, -1.02925356e-02,  3.44321877e-02,\n         5.24691120e-02, -1.52445587e-04,  4.77905609e-02,  2.07082760e-02,\n        -2.50770319e-02, -4.58483174e-02, -6.39528781e-03,  4.89370711e-03,\n        -2.03842297e-02,  1.50024297e-03,  1.67711843e-02,  3.02111614e-03,\n        -1.74388196e-02, -2.07739882e-02,  1.57798163e-03,  3.74530666e-02,\n        -5.95854223e-03,  3.30467918e-03, -1.87351350e-02, -1.23980004e-04,\n        -2.03210115e-03, -3.91927585e-02, -4.91023250e-03,  2.04933640e-02,\n        -2.48231646e-02,  1.29283918e-02,  1.56147545e-02, -5.64600304e-02,\n        -3.07738036e-02, -1.22008780e-04,  1.37604366e-03, -3.78199667e-03,\n         2.90215816e-02, -1.27132563e-03,  2.11788784e-03,  9.82182287e-03,\n        -3.56295635e-03, -1.17718405e-03, -1.35642700e-02, -2.71717440e-02,\n        -3.13453004e-02,  2.76527163e-02, -2.83356775e-02,  1.83693375e-02,\n        -1.31259812e-02, -2.22752746e-02,  4.10105009e-03, -1.83091182e-02,\n         1.82579439e-02, -3.22020873e-02,  4.40713093e-02, -2.18714457e-02,\n        -8.97383597e-03,  1.52891483e-02, -9.97639145e-04, -3.97847593e-02,\n        -3.13516445e-02, -1.35515463e-02, -2.72199567e-02, -2.81327218e-02,\n         2.01125275e-02, -5.37327258e-03,  8.36244226e-03, -1.03575597e-03,\n         2.25916319e-02, -5.87990321e-03,  1.88149735e-02,  3.20284851e-02,\n         1.48231564e-02, -1.59308556e-02, -2.92267520e-02,  8.65581911e-03,\n         3.77856679e-02,  4.00158986e-02,  2.30651703e-02, -1.77192874e-02,\n        -1.49231376e-02,  1.30264089e-02, -3.11600510e-02, -9.67658963e-03,\n         3.00679691e-02, -2.63308454e-02, -2.33987905e-02, -2.00506281e-02,\n        -1.74673349e-02,  1.33819934e-02,  2.03702524e-02, -1.83084458e-02,\n         3.00578792e-02, -1.21829491e-02, -2.08103508e-02,  1.30392918e-02,\n        -1.87233202e-02,  2.32028477e-02, -4.35209237e-02, -4.35540080e-03,\n         3.81003204e-03,  2.95983683e-02, -1.64439678e-02,  4.85954853e-03,\n        -5.07069612e-03, -3.23788524e-02, -1.33718615e-02, -3.38991359e-02,\n        -2.38146610e-03,  5.14822118e-02,  1.06835887e-02,  9.17728432e-03,\n        -2.29090434e-02,  9.42194369e-03,  2.68418677e-02, -2.57691685e-02,\n         2.79305633e-02, -3.58699611e-03, -3.06861475e-02,  1.66129526e-02,\n         2.77408715e-02,  4.73614745e-02, -4.62932559e-03,  1.69325117e-02,\n        -3.36906947e-02, -1.41227813e-02,  7.51914317e-03,  3.34062800e-02,\n         2.07958817e-02,  1.54278707e-02, -1.54853230e-02,  1.11836214e-02,\n        -1.94655042e-02,  2.15263036e-03,  9.65205673e-03,  1.45582678e-02,\n        -3.25594023e-02, -4.05503111e-03,  1.40343811e-02, -1.37809301e-02,\n        -1.19721070e-02, -1.28376931e-02, -1.35027235e-02,  1.11572612e-02,\n         1.52401784e-02, -2.58682445e-02,  1.94838606e-02, -1.93580834e-03,\n         6.82930928e-04,  1.63897909e-02, -1.23684360e-02,  7.27635808e-04,\n         2.40224390e-03,  7.01525528e-03,  2.19551977e-02,  3.34371626e-02,\n         2.25300028e-04,  1.22199422e-02,  2.18347879e-03, -8.42546672e-03,\n         1.70760863e-02,  3.62307020e-02,  1.05153890e-02, -2.02878937e-02,\n         1.56179788e-02, -1.21162264e-02, -9.15348530e-03, -3.38821337e-02,\n        -1.94454398e-02,  2.18140054e-02,  2.04170980e-02, -1.30986944e-02,\n         1.45468917e-02, -4.14759442e-02, -2.22970899e-02, -3.39760957e-03],\n       dtype=float32),\n array([-4.47600149e-02, -4.57070433e-02,  3.31700640e-03,  7.99386017e-03,\n        -4.26665545e-02, -5.41986153e-02,  9.51240864e-03, -1.66647863e-02,\n        -3.14405151e-02, -2.32278905e-03,  2.98637953e-02, -2.11156346e-02,\n        -3.60545330e-02,  9.81495250e-03,  1.49253309e-02,  4.23859730e-02,\n         1.22980466e-02, -1.28030246e-02, -2.25754529e-02, -1.95836853e-02,\n         2.75978725e-02,  3.25703202e-03, -1.17116990e-02, -5.92564745e-03,\n         1.11646876e-02, -1.04517303e-02, -6.62359819e-02, -1.00689400e-02,\n         4.25410876e-03, -3.70460264e-02,  1.27341980e-02,  6.96715247e-03,\n        -8.25360790e-03, -1.25805885e-02,  1.67178530e-02, -2.94160955e-02,\n         2.28696931e-02,  7.84077588e-03, -3.15076783e-02, -3.16958204e-02,\n         2.47771889e-02,  1.39795709e-02,  2.44786758e-02,  2.07553431e-02,\n        -1.24343541e-02, -4.40137973e-03, -1.18432995e-02, -9.20649339e-03,\n         1.33118443e-02,  3.08795366e-02,  3.86757143e-02, -1.48766190e-02,\n         7.29890913e-02, -3.04389428e-02, -8.40139203e-03,  3.98803316e-02,\n         4.81151789e-02, -6.42287219e-03,  4.46118601e-02, -3.47832888e-02,\n         1.84493940e-02,  2.78592035e-02,  1.66294500e-02,  9.91591718e-03,\n        -1.58860174e-03, -2.14236584e-02,  2.90583097e-03,  1.81241217e-03,\n         2.43112221e-02, -4.69874032e-03,  3.04062515e-02,  1.44349607e-02,\n        -2.21136063e-02,  3.23570073e-02,  6.24988601e-03,  1.01166079e-02,\n         7.84921460e-03, -9.02139302e-03, -3.86165082e-02, -1.81404315e-02,\n         4.37042750e-02, -4.92173545e-02, -8.87024868e-03,  2.77395453e-02,\n        -3.62112112e-02, -8.59276485e-03, -2.32048836e-02,  4.20311838e-03,\n        -4.89163063e-02, -1.27582438e-02,  3.69705334e-02,  1.65416638e-03,\n        -1.70662776e-02,  2.04576459e-02,  4.15583700e-02,  8.50439258e-03,\n         2.19724942e-02,  1.70074571e-02, -1.67846493e-02,  7.77464779e-03,\n         6.33028755e-03, -4.06604856e-02,  3.54000367e-02, -1.46212215e-02,\n         1.29113905e-02,  1.54245477e-02,  1.35272397e-02, -9.23983380e-03,\n         4.61390056e-03, -1.25731435e-02, -3.10525810e-03, -1.05414381e-02,\n         5.17288456e-03, -1.46193290e-02,  7.27225328e-03,  2.42338609e-02,\n         2.90715136e-03, -2.65787845e-03, -9.55729047e-04, -4.32466492e-02,\n         7.59564666e-03, -4.86750640e-02,  6.04347102e-02,  2.32999064e-02,\n         1.84362438e-02,  3.43239680e-02, -2.49351654e-02,  6.58499449e-02,\n         4.60842028e-02, -4.23237234e-02, -8.07321444e-03,  2.76489090e-02,\n         2.06856132e-02, -1.53611787e-02, -1.10876169e-02,  2.14606505e-02,\n         1.47360668e-03, -4.27118279e-02,  1.25266872e-02,  9.19236336e-03,\n        -1.99332684e-02, -8.81982924e-05,  2.48702969e-02,  5.14214672e-02,\n        -2.01480109e-02, -1.41870258e-02, -2.15524575e-03, -1.41268903e-02,\n        -5.75101876e-04,  2.60079559e-02,  4.18484490e-03,  8.05383362e-03,\n        -2.78329831e-02, -1.56834908e-02, -2.24770922e-02, -2.31516864e-02,\n        -3.95766608e-02,  7.67260091e-03,  3.08841262e-02,  1.66841820e-02,\n         3.88277695e-02, -1.45097831e-02,  3.71349119e-02,  2.99994405e-02,\n         2.68659238e-02,  2.06125807e-02, -3.49707250e-03, -4.41642217e-02,\n        -2.17467677e-02,  2.22673677e-02,  9.22887959e-03,  4.06111144e-02,\n        -1.40252872e-03, -1.55168939e-02,  2.68952902e-02, -2.87099741e-02,\n         6.64200447e-03, -3.21562178e-02,  2.25355346e-02, -8.51417705e-03,\n        -5.10042086e-02, -8.87563638e-03, -1.00487815e-02, -4.51232400e-03,\n        -9.23801512e-02, -1.72343571e-02, -1.10592144e-02,  1.48720471e-02,\n         1.39740640e-02, -2.36771163e-03,  1.65961608e-02, -3.94445807e-02,\n         2.72044390e-02,  3.12120817e-03, -4.60865088e-02,  4.54455279e-02,\n         2.23599747e-02, -1.24131078e-02,  2.23513064e-03,  2.22569192e-03,\n         4.41067964e-02,  2.01476011e-02, -1.64775066e-02, -1.43629974e-02,\n         8.05282267e-04,  6.54662726e-03, -4.08683717e-03,  3.10088340e-02,\n         2.80140433e-02, -2.88230889e-02,  9.00470000e-03,  2.10284870e-02,\n        -1.62640493e-02,  2.34417096e-02,  1.25867249e-02, -8.13054293e-03,\n         5.19140325e-02, -2.55226269e-02, -1.86439864e-02,  1.83390938e-02,\n        -3.13237458e-02,  5.37074953e-02,  2.72471365e-02, -7.47772073e-03,\n        -4.70146947e-02,  7.15966448e-02, -5.43351751e-03,  1.30224600e-02,\n        -1.86444875e-02, -3.28323469e-02, -3.28468643e-02, -6.97517172e-02,\n        -9.60431807e-03,  3.54174636e-02, -1.61500834e-02, -4.52836230e-03,\n         8.70348513e-03,  2.39160960e-03,  3.91830020e-02, -3.63175869e-02,\n        -1.77494828e-02,  1.93763468e-02, -2.29675639e-02,  2.56575029e-02,\n         1.80091988e-02, -2.16062739e-02, -6.68513263e-03, -3.52814011e-02,\n         2.86039338e-03,  3.30190407e-03, -2.78550498e-02, -6.82296581e-04,\n         1.56808048e-02,  6.33060653e-03, -6.72319308e-02, -3.39412043e-04,\n        -2.02852371e-03, -4.74896748e-03,  1.89441908e-03,  2.46794447e-02,\n        -2.32602097e-02,  1.57789048e-03,  1.24000609e-02, -3.79275084e-02,\n        -6.64980570e-03, -1.00970548e-02,  1.22958384e-02,  5.35567589e-02,\n         1.05728274e-02,  1.91529095e-03,  3.06968056e-02, -1.55049087e-02,\n        -1.44053604e-02, -4.67974059e-02, -4.86759795e-03,  3.14317271e-02,\n         5.58758192e-02, -7.54913129e-03,  3.77225988e-02, -1.50078591e-02,\n         3.45190875e-02,  7.88813084e-03,  8.49010237e-03,  6.71914173e-03,\n         5.76507300e-02,  3.17915902e-02, -1.31576126e-02, -4.38450016e-02,\n         4.18003798e-02,  1.06225275e-02, -6.62793347e-04, -3.73289287e-02,\n        -1.74308065e-02, -3.27095464e-02,  2.19823271e-02,  1.84227191e-02,\n         1.90689079e-02, -4.18582708e-02,  1.67000573e-02,  7.08267745e-03],\n       dtype=float32)]"
     },
     "execution_count": 44,
     "metadata": {},
     "output_type": "execute_result"
    }
   ],
   "source": [
    "all_candidates_vectors = [sent2vec_model[candidate] for candidate in all_candidates]\n",
    "all_candidates_vectors[0:2]"
   ],
   "metadata": {
    "collapsed": false,
    "ExecuteTime": {
     "end_time": "2024-04-01T21:12:55.511913900Z",
     "start_time": "2024-04-01T21:12:55.364880400Z"
    }
   },
   "id": "9a28e87f05d5167e"
  },
  {
   "cell_type": "code",
   "execution_count": 45,
   "outputs": [
    {
     "data": {
      "text/plain": "array([-0.27463838, -0.78197676, -1.8013406 ,  3.3305144 , -0.9075974 ,\n        0.55706936,  0.8673144 , -2.8857272 , -0.6256993 ,  0.5989665 ,\n        0.24396034,  0.6014742 , -0.05235213,  0.72503   , -0.08392547,\n        0.4153229 , -1.0573945 , -2.722391  ,  0.06002562, -0.10511485,\n        0.97371614,  1.5629607 ,  0.6982924 ,  1.4744323 , -0.9803955 ,\n        0.09432636, -0.9269793 ,  0.46194124,  1.2084222 ,  2.5076308 ,\n        1.1082652 ,  1.4862756 , -2.629123  , -0.6001403 ,  1.1460842 ,\n        0.3583753 ,  0.86848843,  0.24293454, -1.2398478 , -0.5182925 ,\n        0.9680895 ,  0.24378446, -1.5970086 , -0.39801005, -1.0900481 ,\n       -0.6923939 ,  0.37151894, -1.6021073 , -1.8680102 ,  1.3056967 ,\n       -1.9318887 , -0.08233713,  1.0676106 , -0.3591833 , -0.23392928,\n        0.73140734,  0.1546846 , -1.2388828 ,  1.9524629 , -1.2678112 ,\n        1.1427567 , -0.03012239, -0.86639434,  0.4253501 ,  1.6676373 ,\n        1.7130713 ,  0.47867092, -1.8619009 ,  0.2557363 , -1.0322132 ,\n        1.6682085 , -1.297363  ,  0.83957094, -1.123133  ,  0.21431817,\n       -0.34204355, -2.0640209 , -0.729055  , -0.10998119,  0.07970594,\n       -2.193938  , -0.5405057 , -2.072666  , -0.46000874,  2.6816373 ,\n       -1.1338032 ,  0.57264525,  0.98456687, -1.990672  , -1.0311463 ,\n       -0.3690292 ,  0.3297225 ,  0.90957344, -0.369169  ,  1.5777348 ,\n       -0.8313144 ,  0.5391342 ,  0.9095437 , -0.12915257, -0.5522702 ,\n        0.9034091 ,  1.7744892 ,  0.9088808 , -0.05920715, -1.2446474 ,\n       -0.8131431 , -0.37544915,  1.9033483 ,  0.4423663 , -0.03568982,\n        0.5956248 ,  2.097948  ,  1.6045158 , -3.3441067 , -0.79584783,\n        0.63708705, -1.8037928 , -0.81124204, -0.78446305, -2.4094691 ,\n        2.4559395 ,  0.89314574, -1.5064296 , -0.7984797 , -0.63730836,\n        0.9531003 , -0.34002692, -1.1888677 ,  0.60270655,  0.30079848,\n       -0.5356292 ,  2.5770454 , -0.34026617, -0.9826597 ,  0.59910136,\n       -0.405136  ,  1.4898226 ,  3.825313  , -0.47588933,  1.0566686 ,\n       -1.061077  ,  0.31237   ,  0.33154422,  1.3402116 ,  1.5090065 ,\n        1.9778326 ,  0.21392313,  2.0037444 , -1.0495144 ,  0.8258422 ,\n       -1.6915615 ,  2.1129153 ,  0.45939767,  1.9067495 , -1.4238393 ,\n       -1.3570169 , -0.6624268 ,  0.54665524,  1.1633192 , -0.6646646 ,\n        0.6981101 , -1.3046079 ,  0.29369783,  0.84166974,  1.6425501 ,\n       -0.13376968, -0.20161542, -0.0737486 ,  0.45274106,  3.457086  ,\n       -0.9596239 ,  0.26518154, -0.38099122, -0.6196053 ,  0.21234255,\n        0.25103003, -0.95353097, -1.2254637 ,  0.19151802,  0.4884196 ,\n       -0.49596122, -0.917011  ,  0.11287078, -0.3499926 , -2.4149466 ,\n        1.5928557 ,  1.1476773 , -0.9315998 , -0.36690986,  1.0855769 ,\n        1.013192  ,  1.457225  ,  0.9233354 ,  0.5785707 , -2.7912369 ,\n       -0.09557657,  2.509342  ,  1.048729  , -0.5280476 , -0.5113591 ,\n        0.09672961,  0.12473517, -2.1178439 , -1.4395024 , -2.2103808 ,\n       -2.397918  ,  0.8698786 ,  1.045709  , -2.885454  , -0.8806408 ,\n       -0.6248332 ,  3.7323067 , -1.0449303 ,  0.06516871, -0.9435593 ,\n       -0.16717218, -1.3635662 ,  1.3358151 ,  0.37648606,  0.78584146,\n        0.45561   ,  1.0950081 ,  0.9790482 , -1.0793207 , -1.0947434 ,\n        0.16394222, -0.395667  , -0.16209981,  1.5906657 ,  0.7756226 ,\n       -0.6058521 , -0.1838793 , -0.2096153 ,  1.9006025 , -0.44391978,\n        1.389143  , -1.2037007 , -0.08382098, -0.79150623, -0.43593106,\n       -1.1866302 , -1.3517072 ,  0.19795094, -0.39995247,  0.5254854 ,\n       -1.1803709 ,  2.5951076 , -1.0432888 ,  0.48807305,  1.2387406 ,\n        0.74169207,  0.1549017 ,  0.9759332 , -0.9462992 ,  0.46646938,\n        2.1887689 ,  0.26752433, -0.25325507,  1.4594638 ,  0.23775196,\n        1.1456336 ,  0.49066764,  0.328654  , -1.9059751 , -2.0465777 ,\n       -0.1944271 ,  1.5653709 ,  0.9375776 ,  0.4841061 ,  0.99902976,\n        0.44452748,  2.1936646 , -0.47800893,  0.01725594, -1.7941912 ,\n        0.76715714,  0.56057984, -1.8578748 ,  0.9698685 , -0.13295513,\n        0.13469766,  1.5836838 , -2.1185763 ,  0.694422  ,  1.3179772 ,\n       -1.2755884 , -0.85803837, -1.5472151 , -1.8289409 , -0.5049303 ,\n       -0.63469607,  2.3040366 ,  0.3446646 , -0.45319316, -1.3801113 ,\n        0.6510509 , -2.446376  , -0.3904411 ,  1.5919383 ,  0.1643704 ],\n      dtype=float32)"
     },
     "execution_count": 45,
     "metadata": {},
     "output_type": "execute_result"
    }
   ],
   "source": [
    "candidates_concatinate = ' '.join(all_candidates)\n",
    "whole_text_vector = sent2vec_model[candidates_concatinate]\n",
    "whole_text_vector"
   ],
   "metadata": {
    "collapsed": false,
    "ExecuteTime": {
     "end_time": "2024-04-01T21:12:55.693189900Z",
     "start_time": "2024-04-01T21:12:55.636400400Z"
    }
   },
   "id": "29388aaad999a797"
  },
  {
   "cell_type": "markdown",
   "source": [
    "We calculate the cosine similarity between each of the candidates and the representative vector of the text."
   ],
   "metadata": {
    "collapsed": false
   },
   "id": "bbded3bbf7af80b6"
  },
  {
   "cell_type": "code",
   "execution_count": 46,
   "outputs": [
    {
     "data": {
      "text/plain": "array([[ 3.72158661e-02,  1.32864803e-01,  3.10373664e-01,\n         1.18473910e-01,  2.07432568e-01,  2.06849650e-01,\n         2.69758385e-02,  1.32909507e-01,  6.57750890e-02,\n        -2.88618412e-02,  4.82803062e-02,  1.49751991e-01,\n         2.39569098e-02,  9.56196487e-02,  2.08916426e-01,\n        -7.27769136e-02,  6.55865818e-02,  9.30532515e-02,\n         1.13939181e-01,  2.10946947e-01,  1.68025434e-01,\n         1.13341451e-01,  2.13441759e-01,  3.10560949e-02,\n         8.93339962e-02,  2.79483825e-01,  5.22811562e-02,\n         1.02849707e-01,  1.92179997e-02,  6.03594817e-03,\n         9.26336795e-02,  2.17913747e-01, -2.06719022e-02,\n         1.86816484e-01,  5.77109084e-02,  1.42777264e-01,\n        -8.42807628e-03,  7.81732574e-02,  4.26047444e-02,\n         3.45986485e-02,  4.95478921e-02,  2.04396442e-01,\n        -3.03056240e-02,  3.75658944e-02,  3.83212604e-03,\n         1.30256474e-01, -9.25456509e-02,  6.79739863e-02,\n         2.34483674e-01, -4.69078198e-02,  1.56937223e-02,\n         1.00149229e-01,  1.76130794e-02,  1.71622932e-01,\n        -2.20442377e-03,  1.52490318e-01,  2.04902172e-01,\n         2.52597094e-01,  6.28476292e-02, -4.24036086e-02,\n         1.94223881e-01,  5.03269956e-03,  1.68169200e-01,\n         2.19033569e-01,  7.80445933e-02,  8.68120342e-02,\n        -2.69265845e-03,  1.89039320e-01,  1.82853729e-01,\n         1.25739109e-02,  7.53960758e-02,  1.37942672e-01,\n         1.75501898e-01,  8.87217075e-02, -1.64540876e-02,\n         7.63373971e-02,  1.29412385e-02,  1.37129083e-01,\n         3.09353881e-03,  7.44172260e-02,  2.29974061e-01,\n         1.72512174e-01, -8.38629343e-03, -2.06423737e-02,\n         4.39608134e-02,  1.20601997e-01,  2.39647835e-01,\n         1.47779256e-01,  2.72910260e-02,  7.17131048e-03,\n         1.39627934e-01,  2.86829192e-02,  4.51381728e-02,\n         1.55786380e-01,  9.09800380e-02,  2.57058978e-01,\n         1.37662496e-02,  1.76623389e-01,  2.83742435e-02,\n         6.68212771e-02,  3.19650948e-01,  1.32434279e-01,\n         1.33073822e-01,  1.37487844e-01,  1.01046592e-01,\n         2.48468462e-02,  3.15395385e-01,  2.79431254e-01,\n         8.38739574e-02,  1.69716090e-01,  2.63044555e-02,\n         2.21458569e-01, -1.71424318e-02, -1.33337490e-02,\n        -7.37227872e-03, -8.30559339e-03,  1.78292781e-01,\n         1.36646423e-02,  1.10900916e-01,  2.21601546e-01,\n        -9.73841175e-03, -1.90992691e-02, -6.40586764e-03,\n         1.25551268e-01,  1.47732228e-01,  1.33669615e-01,\n         2.52927005e-01,  3.75169814e-01,  1.25036150e-01,\n        -1.80647448e-02,  6.79667890e-02, -2.63306405e-02,\n         5.06603122e-02,  5.67707978e-02,  1.26742572e-01,\n        -2.13517286e-02,  8.49388391e-02, -1.20245647e-02,\n        -1.41512975e-03,  3.98738459e-02,  5.85694164e-02,\n         2.28094831e-01,  1.80794656e-01,  8.08267444e-02,\n        -4.23863046e-02,  1.63834587e-01,  6.88255951e-02,\n         2.71767199e-01,  1.13964692e-01,  7.02852085e-02,\n         2.13640302e-01,  9.30997729e-02, -8.95074755e-03,\n        -7.21590035e-03,  8.70388746e-02,  1.39141396e-01,\n         1.33330107e-01,  1.35722384e-01,  2.48270351e-02,\n         1.67361811e-01,  5.55258058e-02,  2.84242183e-01,\n         5.15197814e-02,  6.84273541e-02, -1.48676261e-02,\n        -1.14602655e-01,  5.40707186e-02,  2.06204325e-01,\n         3.28874946e-01, -3.56077999e-02,  8.45257491e-02,\n         7.76409283e-02,  1.26327008e-01,  5.69249690e-03,\n         8.46888721e-02, -4.08794098e-02,  1.37926107e-02,\n        -3.85492221e-02, -3.11468355e-02,  6.47180304e-02,\n         1.71611160e-02,  1.05212033e-02,  6.37658313e-02,\n         3.84791121e-02, -1.37088634e-03,  1.70287102e-01,\n         1.25314817e-01,  1.22337535e-01,  7.46827722e-02,\n         1.78197861e-01,  1.26433432e-01,  3.05583067e-02,\n         3.03777717e-02,  1.09658010e-01,  1.00426581e-02,\n        -7.89036043e-03,  4.79692221e-02,  5.09084947e-03,\n         1.45866036e-01,  1.83791623e-01,  1.89566672e-01,\n         4.37451191e-02,  6.55440986e-02, -2.56085321e-02,\n         1.88221365e-01,  1.65293202e-01,  1.20592698e-01,\n         2.81046554e-02,  8.25405046e-02,  1.39880404e-01,\n         7.74144605e-02,  2.61454433e-02,  1.10260218e-01,\n         2.49458447e-01,  3.76160800e-01,  6.61580265e-02,\n        -3.43111902e-03,  2.99976803e-02,  2.22658589e-02,\n         3.76007706e-02,  1.07179388e-01,  7.58180991e-02,\n         2.22340494e-01,  7.86478147e-02,  1.60253957e-01,\n         1.25877649e-01,  1.04641102e-01, -6.35846630e-02,\n         1.37012184e-01,  5.38911447e-02,  2.25830257e-01,\n         2.24438161e-01,  2.16820054e-02,  2.72926152e-01,\n         2.49107450e-01, -6.88284859e-02, -2.27373559e-02,\n        -1.54068694e-02, -2.70338580e-02,  2.70059317e-01,\n         5.62022701e-02,  2.06227992e-02,  1.91230968e-01,\n         1.56444870e-02,  1.02406576e-01, -1.43866651e-02,\n         3.19621712e-02,  1.36743858e-02,  8.95336270e-02,\n         1.08308494e-01,  2.11188346e-02,  1.23209298e-01,\n         3.04095805e-01, -2.84626503e-02,  3.81999761e-02,\n         6.79586381e-02,  9.93291736e-02,  1.82561710e-01,\n        -1.94737241e-02, -3.22081149e-02,  9.41474289e-02,\n         5.07992804e-02,  3.74138467e-02,  1.88772246e-01,\n         1.48780823e-01,  2.32108478e-02, -3.64116095e-02,\n        -2.26181336e-02,  9.97431427e-02,  6.23334087e-02,\n        -6.72492087e-02, -4.26185727e-02,  2.45784491e-01,\n         2.09688142e-01, -4.29576561e-02,  9.66907069e-02,\n         2.19925176e-02, -1.11953914e-03,  1.29056960e-01,\n         9.34484750e-02,  1.14834070e-01,  6.71093613e-02,\n         7.65409693e-02,  2.65479088e-04,  2.30564758e-01,\n         4.22545783e-02,  1.02802970e-01,  7.87070580e-03,\n         3.16584334e-02,  1.16647646e-01, -5.39028645e-03,\n        -1.43761858e-02,  2.37571914e-02,  2.00061515e-01,\n         2.51349285e-02,  1.65616572e-01,  7.60998502e-02,\n         3.25230718e-01,  7.07742497e-02,  6.18142411e-02,\n         1.06147692e-01,  5.50945252e-02,  4.69456892e-03,\n         1.89824373e-01, -3.38945873e-02, -1.90899707e-02,\n         6.01189062e-02, -4.18049209e-02, -4.46546040e-02,\n         5.10050878e-02, -4.73771617e-02,  2.13686183e-01,\n         1.50433570e-01,  6.74712062e-02,  1.94748104e-01,\n        -5.86985089e-02,  4.07137901e-01,  1.30465686e-01,\n        -1.47562325e-02,  4.52793799e-02,  1.27479315e-01,\n        -1.36866067e-02,  1.36395782e-01,  8.13272595e-02,\n         6.45632222e-02, -4.70707528e-02,  1.62487537e-01,\n        -2.19349377e-03,  1.22713305e-01,  3.37564200e-02,\n         5.53369224e-02,  3.11294384e-03,  5.56461960e-02,\n         8.99601914e-03,  3.99976149e-02, -1.05802752e-02,\n         2.37901032e-01,  2.47831270e-02,  2.58384019e-01,\n        -2.05588248e-02,  1.66767582e-01,  6.43181503e-02,\n         3.22713822e-01,  1.29820973e-01,  8.81868303e-02,\n         1.25038311e-01, -4.44697216e-02,  1.42598152e-01,\n         5.86116835e-02,  1.11108094e-01,  7.31876865e-03,\n         2.29624689e-01, -3.29272300e-02,  1.01284154e-01,\n         1.25319019e-01,  4.61049043e-02, -5.08856960e-02,\n         2.00043153e-02,  3.63720745e-01,  1.83874756e-01,\n         1.89563811e-01,  2.05446146e-02,  7.33043700e-02,\n         1.76838398e-01,  1.19796522e-01,  9.96716619e-02,\n         1.96248159e-01,  1.41807616e-01,  4.13666517e-02,\n         6.55556619e-02, -1.57555696e-02,  7.97970369e-02,\n         1.25940323e-01,  4.62671518e-02,  7.28187263e-02,\n         1.90996796e-01,  1.37850419e-01,  1.61135346e-01,\n        -5.69759309e-03,  1.59481242e-01,  4.99234162e-02,\n        -1.32785253e-02,  4.63621765e-02,  1.62999064e-01,\n         4.00787592e-02,  1.19638339e-01,  4.77997512e-02,\n         8.64136517e-02,  2.21733414e-02, -3.13797295e-02,\n         1.45254418e-01, -5.21409325e-03,  5.94779570e-03,\n         7.49043748e-03,  4.82159071e-02,  6.25957474e-02,\n        -7.40933977e-03,  9.69285667e-02,  6.29349500e-02,\n        -8.54824856e-03,  1.67781949e-01,  5.84469698e-02,\n        -2.65809838e-02,  9.47872251e-02,  2.79138684e-01,\n         1.95282966e-01,  1.80445746e-01,  1.94826946e-02,\n         7.41877407e-02, -4.32923101e-02, -1.88710224e-02,\n         7.51716346e-02,  6.78500012e-02,  1.24560185e-02,\n         3.89669091e-04,  2.03404352e-02,  3.47410798e-01,\n         1.66943222e-01,  1.03213444e-01, -3.79136391e-02,\n         1.66217566e-01,  1.42968506e-01,  8.14855173e-02,\n         1.92155123e-01,  8.36123899e-02,  1.52294800e-01,\n         8.78907219e-02,  1.28263637e-01,  2.70237803e-01,\n        -5.77897877e-02,  1.58334291e-03,  3.99448946e-02,\n         5.81738800e-02,  1.30376760e-02,  2.57483423e-01,\n         1.61862761e-01,  1.51721910e-01, -2.22739261e-02,\n         3.97328958e-02,  5.00076637e-02, -6.09525517e-02,\n         2.05955416e-01,  4.03608270e-02,  2.66908444e-02,\n         6.37577772e-02,  1.16642490e-01,  7.72257745e-02,\n         4.35054004e-02,  1.47429764e-01,  3.72467548e-01,\n         1.01441786e-01,  3.06496561e-01,  1.19727664e-01,\n         7.78139234e-02,  1.56743735e-01,  1.65947139e-01,\n         1.51755661e-03,  2.90973663e-01,  1.36939690e-01,\n         2.29419947e-01,  7.37334266e-02, -2.92168595e-02,\n         8.32090229e-02,  1.12557314e-01, -1.96261536e-02,\n         1.59332067e-01,  5.12385629e-02,  3.95539939e-01,\n        -2.62119099e-02,  1.44959062e-01,  1.98602602e-01,\n         1.18772145e-02,  1.08340010e-01,  2.16374382e-01,\n         1.09958678e-01,  1.71268702e-01, -5.11658490e-02,\n         3.50517705e-02,  1.18836984e-01,  2.25856811e-01,\n        -2.34735571e-02,  1.79373682e-01,  1.05729647e-01,\n         1.21902339e-02,  5.19307032e-02,  9.38763097e-02,\n         1.51982278e-01,  1.60815537e-01,  1.50310308e-01,\n         2.68214047e-01,  1.51170895e-01,  9.74832624e-02,\n         1.70126501e-02,  3.59498918e-01,  2.48560220e-01,\n         1.04400739e-01,  5.82309924e-02,  5.24130166e-02]], dtype=float32)"
     },
     "execution_count": 46,
     "metadata": {},
     "output_type": "execute_result"
    }
   ],
   "source": [
    "from sklearn.metrics.pairwise import cosine_similarity\n",
    "\n",
    "candidates_sim_whole = cosine_similarity(all_candidates_vectors, whole_text_vector.reshape(1,-1))\n",
    "candidates_sim_whole.reshape(1,-1)"
   ],
   "metadata": {
    "collapsed": false,
    "ExecuteTime": {
     "end_time": "2024-04-01T21:12:56.334511400Z",
     "start_time": "2024-04-01T21:12:56.314234700Z"
    }
   },
   "id": "b3d22d28a67850c8"
  },
  {
   "cell_type": "markdown",
   "source": [
    "We create a matrix where each element represents the cosine similarity between candidate i and candidate j, indexed by i and j, respectively."
   ],
   "metadata": {
    "collapsed": false
   },
   "id": "5bcb009fea673898"
  },
  {
   "cell_type": "code",
   "execution_count": 47,
   "outputs": [
    {
     "data": {
      "text/plain": "array([[ 1.0000002e+00,  4.5057392e-01, -6.6445403e-02, ...,\n        -9.0413459e-02,  2.5758386e-01,  2.1289523e-01],\n       [ 4.5057392e-01,  9.9999994e-01, -9.0390118e-03, ...,\n        -2.4495140e-01,  3.7766320e-01,  2.6525474e-01],\n       [-6.6445403e-02, -9.0390118e-03,  9.9999976e-01, ...,\n         5.1499605e-02, -7.0230454e-02, -1.4557576e-02],\n       ...,\n       [-9.0413459e-02, -2.4495140e-01,  5.1499605e-02, ...,\n         9.9999988e-01,  9.5450686e-04, -2.2464186e-02],\n       [ 2.5758386e-01,  3.7766320e-01, -7.0230454e-02, ...,\n         9.5450686e-04,  1.0000000e+00,  2.5840259e-01],\n       [ 2.1289523e-01,  2.6525474e-01, -1.4557576e-02, ...,\n        -2.2464186e-02,  2.5840259e-01,  9.9999958e-01]], dtype=float32)"
     },
     "execution_count": 47,
     "metadata": {},
     "output_type": "execute_result"
    }
   ],
   "source": [
    "candidate_sim_candidate = cosine_similarity(all_candidates_vectors)\n",
    "candidate_sim_candidate"
   ],
   "metadata": {
    "collapsed": false,
    "ExecuteTime": {
     "end_time": "2024-04-01T21:12:57.168342800Z",
     "start_time": "2024-04-01T21:12:57.135819Z"
    }
   },
   "id": "e17db3b5cf622107"
  },
  {
   "cell_type": "markdown",
   "source": [
    "We normalize the two values above for use in subsequent steps."
   ],
   "metadata": {
    "collapsed": false
   },
   "id": "de0648a303448bff"
  },
  {
   "cell_type": "code",
   "execution_count": 48,
   "outputs": [
    {
     "data": {
      "text/plain": "array([[-6.8493783e-02],\n       [ 9.4411063e-01],\n       [ 2.8233395e+00],\n       [ 7.9175884e-01],\n       [ 1.7335354e+00],\n       [ 1.7273642e+00],\n       [-1.7690170e-01],\n       [ 9.4458389e-01],\n       [ 2.3385346e-01],\n       [-7.6803720e-01],\n       [ 4.8641860e-02],\n       [ 1.1228898e+00],\n       [-2.0886207e-01],\n       [ 5.4980820e-01],\n       [ 1.7492445e+00],\n       [-1.2329519e+00],\n       [ 2.3185778e-01],\n       [ 5.2263856e-01],\n       [ 7.4375117e-01],\n       [ 1.7707410e+00],\n       [ 1.3163449e+00],\n       [ 7.3742324e-01],\n       [ 1.7971529e+00],\n       [-1.3370532e-01],\n       [ 4.8326403e-01],\n       [ 2.4963188e+00],\n       [ 9.0997577e-02],\n       [ 6.2635052e-01],\n       [-2.5903141e-01],\n       [-3.9858556e-01],\n       [ 5.1819670e-01],\n       [ 1.8444963e+00],\n       [-6.8133283e-01],\n       [ 1.5152797e+00],\n       [ 1.4848059e-01],\n       [ 1.0490506e+00],\n       [-5.5171156e-01],\n       [ 3.6510885e-01],\n       [-1.1443496e-02],\n       [-9.6201420e-02],\n       [ 6.2061369e-02],\n       [ 1.7013929e+00],\n       [-7.8332210e-01],\n       [-6.4788103e-02],\n       [-4.2191672e-01],\n       [ 9.1649705e-01],\n       [-1.4422371e+00],\n       [ 2.5713247e-01],\n       [ 2.0199170e+00],\n       [-9.5908415e-01],\n       [-2.9634178e-01],\n       [ 5.9776139e-01],\n       [-2.7602220e-01],\n       [ 1.3544304e+00],\n       [-4.8582369e-01],\n       [ 1.1518795e+00],\n       [ 1.7067469e+00],\n       [ 2.2116776e+00],\n       [ 2.0286143e-01],\n       [-9.1139948e-01],\n       [ 1.5936992e+00],\n       [-4.0920657e-01],\n       [ 1.3178669e+00],\n       [ 1.8563514e+00],\n       [ 3.6374670e-01],\n       [ 4.5656484e-01],\n       [-4.9099249e-01],\n       [ 1.5388122e+00],\n       [ 1.4733273e+00],\n       [-3.2937020e-01],\n       [ 3.3570772e-01],\n       [ 9.9786836e-01],\n       [ 1.3954959e+00],\n       [ 4.7678193e-01],\n       [-6.3668036e-01],\n       [ 3.4567320e-01],\n       [-3.2548141e-01],\n       [ 9.8925519e-01],\n       [-4.2973590e-01],\n       [ 3.2534501e-01],\n       [ 1.9721750e+00],\n       [ 1.3638444e+00],\n       [-5.5126917e-01],\n       [-6.8102038e-01],\n       [ 2.9127896e-03],\n       [ 8.1428832e-01],\n       [ 2.0745881e+00],\n       [ 1.1020050e+00],\n       [-1.7356491e-01],\n       [-3.8656580e-01],\n       [ 1.0157098e+00],\n       [-1.5882933e-01],\n       [ 1.5377104e-02],\n       [ 1.1867739e+00],\n       [ 5.0069010e-01],\n       [ 2.2589142e+00],\n       [-3.1674731e-01],\n       [ 1.4073687e+00],\n       [-1.6209722e-01],\n       [ 2.4492911e-01],\n       [ 2.9215553e+00],\n       [ 9.3955278e-01],\n       [ 9.4632339e-01],\n       [ 9.9305320e-01],\n       [ 6.0726148e-01],\n       [-1.9944066e-01],\n       [ 2.8765030e+00],\n       [ 2.4957623e+00],\n       [ 4.2546034e-01],\n       [ 1.3342433e+00],\n       [-1.8400937e-01],\n       [ 1.8820242e+00],\n       [-6.4396763e-01],\n       [-6.0364628e-01],\n       [-5.4053414e-01],\n       [-5.5041480e-01],\n       [ 1.4250419e+00],\n       [-3.1782299e-01],\n       [ 7.1158600e-01],\n       [ 1.8835379e+00],\n       [-5.6558359e-01],\n       [-6.6468394e-01],\n       [-5.3030300e-01],\n       [ 8.6668462e-01],\n       [ 1.1015072e+00],\n       [ 9.5263088e-01],\n       [ 2.2151704e+00],\n       [ 3.5093155e+00],\n       [ 8.6123121e-01],\n       [-6.5373182e-01],\n       [ 2.5705630e-01],\n       [-7.4124014e-01],\n       [ 7.3838204e-02],\n       [ 1.3852796e-01],\n       [ 8.7929648e-01],\n       [-6.8853009e-01],\n       [ 4.3673387e-01],\n       [-5.8978641e-01],\n       [-4.7746772e-01],\n       [-4.0354669e-02],\n       [ 1.5756932e-01],\n       [ 1.9522800e+00],\n       [ 1.4515285e+00],\n       [ 3.9320052e-01],\n       [-9.1121638e-01],\n       [ 1.2719778e+00],\n       [ 2.6614821e-01],\n       [ 2.4146254e+00],\n       [ 7.4402118e-01],\n       [ 2.8160065e-01],\n       [ 1.7992547e+00],\n       [ 5.2313107e-01],\n       [-5.5724490e-01],\n       [-5.3887856e-01],\n       [ 4.5896631e-01],\n       [ 1.0105588e+00],\n       [ 9.4903666e-01],\n       [ 9.7436285e-01],\n       [-1.9965035e-01],\n       [ 1.3093193e+00],\n       [ 1.2534764e-01],\n       [ 2.5466940e+00],\n       [ 8.2937151e-02],\n       [ 2.6193213e-01],\n       [-6.1988497e-01],\n       [-1.6757474e+00],\n       [ 1.0994309e-01],\n       [ 1.7205324e+00],\n       [ 3.0192068e+00],\n       [-8.3945441e-01],\n       [ 4.3236062e-01],\n       [ 3.5947329e-01],\n       [ 8.7489712e-01],\n       [-4.0222150e-01],\n       [ 4.3408757e-01],\n       [-8.9526320e-01],\n       [-3.1646824e-01],\n       [-8.7059438e-01],\n       [-7.9222763e-01],\n       [ 2.2266269e-01],\n       [-2.8080696e-01],\n       [-3.5110158e-01],\n       [ 2.1258211e-01],\n       [-5.5120230e-02],\n       [-4.7699928e-01],\n       [ 1.3402884e+00],\n       [ 8.6418128e-01],\n       [ 8.3266187e-01],\n       [ 3.2815623e-01],\n       [ 1.4240371e+00],\n       [ 8.7602383e-01],\n       [-1.3897526e-01],\n       [-1.4088649e-01],\n       [ 6.9842786e-01],\n       [-3.5616779e-01],\n       [-5.4601884e-01],\n       [ 4.5348495e-02],\n       [-4.0859097e-01],\n       [ 1.0817504e+00],\n       [ 1.4832565e+00],\n       [ 1.5443951e+00],\n       [ 6.2930584e-04],\n       [ 2.3140806e-01],\n       [-7.3359549e-01],\n       [ 1.5301527e+00],\n       [ 1.2874196e+00],\n       [ 8.1418979e-01],\n       [-1.6495121e-01],\n       [ 4.1134351e-01],\n       [ 1.0183825e+00],\n       [ 3.5707575e-01],\n       [-1.8569279e-01],\n       [ 7.0480323e-01],\n       [ 2.1784501e+00],\n       [ 3.5198069e+00],\n       [ 2.3790750e-01],\n       [-4.9881029e-01],\n       [-1.4491045e-01],\n       [-2.2676474e-01],\n       [-6.4418972e-02],\n       [ 6.7218745e-01],\n       [ 3.4017560e-01],\n       [ 1.8913608e+00],\n       [ 3.7013286e-01],\n       [ 1.2340708e+00],\n       [ 8.7013984e-01],\n       [ 6.4531541e-01],\n       [-1.1356364e+00],\n       [ 9.8801768e-01],\n       [ 1.0804197e-01],\n       [ 1.9283057e+00],\n       [ 1.9135681e+00],\n       [-2.3294580e-01],\n       [ 2.4268949e+00],\n       [ 2.1747341e+00],\n       [-1.1911510e+00],\n       [-7.0319927e-01],\n       [-6.2559378e-01],\n       [-7.4868488e-01],\n       [ 2.3965445e+00],\n       [ 1.3250914e-01],\n       [-2.4415922e-01],\n       [ 1.5620143e+00],\n       [-2.9686308e-01],\n       [ 6.2165922e-01],\n       [-6.1479306e-01],\n       [-1.2411296e-01],\n       [-3.1771988e-01],\n       [ 4.8537743e-01],\n       [ 6.8414092e-01],\n       [-2.3890787e-01],\n       [ 8.4189087e-01],\n       [ 2.7568779e+00],\n       [-7.6381099e-01],\n       [-5.8075309e-02],\n       [ 2.5696999e-01],\n       [ 5.8907974e-01],\n       [ 1.4702358e+00],\n       [-6.6864812e-01],\n       [-8.0346310e-01],\n       [ 5.3422230e-01],\n       [ 7.5309426e-02],\n       [-6.6397846e-02],\n       [ 1.5359848e+00],\n       [ 1.1126084e+00],\n       [-2.1676040e-01],\n       [-8.4796417e-01],\n       [-7.0193708e-01],\n       [ 5.9346235e-01],\n       [ 1.9741750e-01],\n       [-1.1744319e+00],\n       [-9.1367519e-01],\n       [ 2.1395547e+00],\n       [ 1.7574145e+00],\n       [-9.1726506e-01],\n       [ 5.6114715e-01],\n       [-2.2965848e-01],\n       [-4.7433841e-01],\n       [ 9.0379822e-01],\n       [ 5.2682263e-01],\n       [ 7.5322509e-01],\n       [ 2.4797896e-01],\n       [ 3.4782839e-01],\n       [-4.5967561e-01],\n       [ 1.9784284e+00],\n       [-1.5150547e-02],\n       [ 6.2585574e-01],\n       [-3.7916154e-01],\n       [-1.2732852e-01],\n       [ 7.7242482e-01],\n       [-5.1955140e-01],\n       [-6.1468232e-01],\n       [-2.1097642e-01],\n       [ 1.6555005e+00],\n       [-1.9639081e-01],\n       [ 1.2908430e+00],\n       [ 3.4315839e-01],\n       [ 2.9806263e+00],\n       [ 2.8677797e-01],\n       [ 1.9192129e-01],\n       [ 6.6126513e-01],\n       [ 1.2078175e-01],\n       [-4.1278630e-01],\n       [ 1.5471232e+00],\n       [-8.2131732e-01],\n       [-6.6458547e-01],\n       [ 1.7397329e-01],\n       [-9.0506136e-01],\n       [-9.3523002e-01],\n       [ 7.7488214e-02],\n       [-9.6405292e-01],\n       [ 1.7997404e+00],\n       [ 1.1301055e+00],\n       [ 2.5180975e-01],\n       [ 1.5992490e+00],\n       [-1.0839083e+00],\n       [ 3.8477514e+00],\n       [ 9.1871190e-01],\n       [-6.1870563e-01],\n       [ 1.6871989e-02],\n       [ 8.8709617e-01],\n       [-6.0738194e-01],\n       [ 9.8149204e-01],\n       [ 3.9849928e-01],\n       [ 2.2102380e-01],\n       [-9.6080899e-01],\n       [ 1.2577169e+00],\n       [-4.8570794e-01],\n       [ 8.3664000e-01],\n       [-1.0511786e-01],\n       [ 1.2334797e-01],\n       [-4.2953044e-01],\n       [ 1.2662217e-01],\n       [-3.6724824e-01],\n       [-3.9044321e-02],\n       [-5.7449615e-01],\n       [ 2.0560951e+00],\n       [-2.0011514e-01],\n       [ 2.2729421e+00],\n       [-6.8013573e-01],\n       [ 1.3030285e+00],\n       [ 2.1842933e-01],\n       [ 2.9539809e+00],\n       [ 9.1188657e-01],\n       [ 4.7111931e-01],\n       [ 8.6125410e-01],\n       [-9.3327272e-01],\n       [ 1.0471544e+00],\n       [ 1.5801677e-01],\n       [ 7.1377939e-01],\n       [-3.8500470e-01],\n       [ 1.9684762e+00],\n       [-8.1107605e-01],\n       [ 6.0977650e-01],\n       [ 8.6422586e-01],\n       [ 2.5611579e-02],\n       [-1.0011965e+00],\n       [-2.5070697e-01],\n       [ 3.3881080e+00],\n       [ 1.4841366e+00],\n       [ 1.5443647e+00],\n       [-2.4498695e-01],\n       [ 3.1356356e-01],\n       [ 1.4096448e+00],\n       [ 8.0576098e-01],\n       [ 5.9270555e-01],\n       [ 1.6151297e+00],\n       [ 1.0387852e+00],\n       [-2.4550796e-02],\n       [ 2.3153046e-01],\n       [-6.2928534e-01],\n       [ 3.8229930e-01],\n       [ 8.7080342e-01],\n       [ 2.7329236e-02],\n       [ 3.0842221e-01],\n       [ 1.5595353e+00],\n       [ 9.9689174e-01],\n       [ 1.2434018e+00],\n       [-5.2280474e-01],\n       [ 1.2258903e+00],\n       [ 6.6036940e-02],\n       [-6.0306156e-01],\n       [ 2.8335243e-02],\n       [ 1.2631323e+00],\n       [-3.8185239e-02],\n       [ 8.0408627e-01],\n       [ 4.3554366e-02],\n       [ 4.5234728e-01],\n       [-2.2774422e-01],\n       [-7.9469323e-01],\n       [ 1.0752755e+00],\n       [-5.1768613e-01],\n       [-3.9951879e-01],\n       [-3.8318729e-01],\n       [ 4.7960103e-02],\n       [ 2.0019481e-01],\n       [-5.4092646e-01],\n       [ 5.6366527e-01],\n       [ 2.0378584e-01],\n       [-5.5298376e-01],\n       [ 1.3137672e+00],\n       [ 1.5627307e-01],\n       [-7.4389052e-01],\n       [ 5.4099560e-01],\n       [ 2.4926648e+00],\n       [ 1.6049116e+00],\n       [ 1.4478347e+00],\n       [-2.5622916e-01],\n       [ 3.2291549e-01],\n       [-9.2080784e-01],\n       [-6.6226757e-01],\n       [ 3.3333164e-01],\n       [ 2.5581992e-01],\n       [-3.3061832e-01],\n       [-4.5836091e-01],\n       [-2.4714857e-01],\n       [ 3.2154398e+00],\n       [ 1.3048878e+00],\n       [ 6.3020122e-01],\n       [-8.6386561e-01],\n       [ 1.2972056e+00],\n       [ 1.0510752e+00],\n       [ 4.0017474e-01],\n       [ 1.5717981e+00],\n       [ 4.2269123e-01],\n       [ 1.1498096e+00],\n       [ 4.6798456e-01],\n       [ 8.9539957e-01],\n       [ 2.3984342e+00],\n       [-1.0742880e+00],\n       [-4.4572383e-01],\n       [-3.9602458e-02],\n       [ 1.5338191e-01],\n       [-3.2446045e-01],\n       [ 2.2634077e+00],\n       [ 1.2511027e+00],\n       [ 1.1437447e+00],\n       [-6.9829309e-01],\n       [-4.1846812e-02],\n       [ 6.6928834e-02],\n       [-1.1077712e+00],\n       [ 1.7178973e+00],\n       [-3.5199106e-02],\n       [-1.7991883e-01],\n       [ 2.1249682e-01],\n       [ 7.7237022e-01],\n       [ 3.5507819e-01],\n       [-1.9085407e-03],\n       [ 1.0983052e+00],\n       [ 3.4807076e+00],\n       [ 6.1144525e-01],\n       [ 2.7822940e+00],\n       [ 8.0503196e-01],\n       [ 3.6130473e-01],\n       [ 1.1969092e+00],\n       [ 1.2943425e+00],\n       [-4.4642031e-01],\n       [ 2.6179581e+00],\n       [ 9.8725009e-01],\n       [ 1.9663087e+00],\n       [ 3.1810582e-01],\n       [-7.7179551e-01],\n       [ 4.1842088e-01],\n       [ 7.2912180e-01],\n       [-6.7026198e-01],\n       [ 1.2243111e+00],\n       [ 7.9959959e-02],\n       [ 3.7249675e+00],\n       [-7.3998308e-01],\n       [ 1.0721487e+00],\n       [ 1.6400553e+00],\n       [-3.3674592e-01],\n       [ 6.8447453e-01],\n       [ 1.8281994e+00],\n       [ 7.0161080e-01],\n       [ 1.3506804e+00],\n       [-1.0041625e+00],\n       [-9.1404378e-02],\n       [ 7.9560256e-01],\n       [ 1.9285868e+00],\n       [-7.1099317e-01],\n       [ 1.4364851e+00],\n       [ 6.5683949e-01],\n       [-3.3343208e-01],\n       [ 8.7287426e-02],\n       [ 5.3135204e-01],\n       [ 1.1465012e+00],\n       [ 1.2400160e+00],\n       [ 1.1288006e+00],\n       [ 2.3770094e+00],\n       [ 1.1379113e+00],\n       [ 5.6953770e-01],\n       [-2.8237873e-01],\n       [ 3.3434126e+00],\n       [ 2.1689405e+00],\n       [ 6.4277071e-01],\n       [ 1.5398657e-01],\n       [ 9.2393517e-02]], dtype=float32)"
     },
     "execution_count": 48,
     "metadata": {},
     "output_type": "execute_result"
    }
   ],
   "source": [
    "candidates_sim_whole_norm = candidates_sim_whole / np.max(candidates_sim_whole)\n",
    "candidates_sim_whole_norm = 0.5 + (candidates_sim_whole_norm - np.average(candidates_sim_whole_norm)) / np.std(candidates_sim_whole_norm)\n",
    "candidates_sim_whole_norm"
   ],
   "metadata": {
    "collapsed": false,
    "ExecuteTime": {
     "end_time": "2024-04-01T21:12:58.935567100Z",
     "start_time": "2024-04-01T21:12:58.901567600Z"
    }
   },
   "id": "6798402a361702a1"
  },
  {
   "cell_type": "code",
   "execution_count": 49,
   "outputs": [
    {
     "data": {
      "text/plain": "array([[        nan,  1.1794994 , -0.04947621, ...,  0.28207707,\n         0.8561585 ,  0.6184779 ],\n       [ 1.4974904 ,         nan,  0.5452981 , ..., -1.4487605 ,\n         1.6307623 ,  0.9596091 ],\n       [-1.1795145 , -0.9594135 ,         nan, ...,  1.871515  ,\n        -1.2584953 , -0.8634169 ],\n       ...,\n       [-1.3036155 , -2.0572853 ,  1.1725247 , ...,         nan,\n        -0.7992976 , -0.91492975],\n       [ 0.49823305,  0.8401927 , -0.08869231, ...,  1.3054059 ,\n                nan,  0.9149662 ],\n       [ 0.2668458 ,  0.31707454,  0.48812154, ...,  1.0431145 ,\n         0.86144   ,         nan]], dtype=float32)"
     },
     "execution_count": 49,
     "metadata": {},
     "output_type": "execute_result"
    }
   ],
   "source": [
    "np.fill_diagonal(candidate_sim_candidate, np.NaN)\n",
    "candidate_sim_candidate_norm = candidate_sim_candidate / np.nanmax(candidate_sim_candidate, axis=0)\n",
    "candidate_sim_candidate_norm = 0.5 + (candidate_sim_candidate_norm - np.nanmean(candidate_sim_candidate_norm, axis=0)) / np.nanstd(candidate_sim_candidate_norm, axis=0)\n",
    "candidate_sim_candidate_norm"
   ],
   "metadata": {
    "collapsed": false,
    "ExecuteTime": {
     "end_time": "2024-04-01T21:12:59.599744700Z",
     "start_time": "2024-04-01T21:12:59.578553400Z"
    }
   },
   "id": "7699b72c0ceceaf4"
  },
  {
   "cell_type": "markdown",
   "source": [
    "Using the EmbedRank method in a recursive algorithm, at each step, a candidate is selected as the key phrase using a formula. The candidate selected should have the highest similarity with the entire text in the first priority and the lowest similarity with the selected candidates in the second priority. The effectiveness of these two factors can be adjusted by considering various factors such as text length and content. (beta)"
   ],
   "metadata": {
    "collapsed": false
   },
   "id": "96a874f65d681a84"
  },
  {
   "cell_type": "code",
   "execution_count": 50,
   "outputs": [
    {
     "name": "stdout",
     "output_type": "stream",
     "text": [
      "هدست واقعیت مجازی\n",
      "سبک فناوری ویديویی مشابه Pass-Through\n",
      "هدست‌های واقعیت ترکیبی\n",
      "کیفیت واقعیت\n",
      "دستگاه واقعیت مجازی رانندگی\n",
      "مدیر مؤسس آزمایشگاه تعامل\n",
      "هدست واقعیت\n",
      "دستگاه واقعیت مجازی\n",
      "هدست‌های واقعیت\n",
      "هدست واقعیت ترکیبی\n"
     ]
    }
   ],
   "source": [
    "beta = 0.8\n",
    "keyword_count = 10\n",
    "\n",
    "N = min(len(all_candidates), keyword_count)\n",
    "\n",
    "selected_candidates = []\n",
    "unselected_candidates = [i for i in range(len(all_candidates))]\n",
    "best_candidate = np.argmax(candidates_sim_whole_norm)\n",
    "selected_candidates.append(best_candidate)\n",
    "unselected_candidates.remove(best_candidate)\n",
    "\n",
    "\n",
    "for i in range(N-1):\n",
    "    selected_vec = np.array(selected_candidates)\n",
    "    unselected_vec = np.array(unselected_candidates)\n",
    "\n",
    "    unselected_candidate_sim_whole_norm = candidates_sim_whole_norm[unselected_vec, :]\n",
    "\n",
    "    dist_between = candidate_sim_candidate_norm[unselected_vec][:, selected_vec]\n",
    "\n",
    "    if dist_between.ndim == 1:\n",
    "        dist_between = dist_between[:, np.newaxis]\n",
    "\n",
    "    best_candidate = np.argmax(beta * unselected_candidate_sim_whole_norm - (1 - beta) * np.max(dist_between, axis = 1).reshape(-1,1))\n",
    "    best_index = unselected_candidates[best_candidate]\n",
    "    selected_candidates.append(best_index)\n",
    "    unselected_candidates.remove(best_index)\n",
    "for keyword in all_candidates[selected_candidates].tolist():\n",
    "    print(keyword)"
   ],
   "metadata": {
    "collapsed": false,
    "ExecuteTime": {
     "end_time": "2024-04-01T21:13:01.379718100Z",
     "start_time": "2024-04-01T21:13:01.334245600Z"
    }
   },
   "id": "b4f06eadcd1ac268"
  },
  {
   "cell_type": "markdown",
   "source": [
    "## Run for All the Data"
   ],
   "metadata": {
    "collapsed": false
   },
   "id": "8f28256bf7cdd05"
  },
  {
   "cell_type": "code",
   "execution_count": 52,
   "outputs": [
    {
     "name": "stdout",
     "output_type": "stream",
     "text": [
      "The code could not extract the desired keywords from the article\n",
      "The code could not extract the desired keywords from the article\n"
     ]
    }
   ],
   "source": [
    "from hazm import *\n",
    "import nltk\n",
    "import numpy as np\n",
    "from sklearn.metrics.pairwise import cosine_similarity\n",
    "\n",
    "beta = 0.82\n",
    "keyword_count = 10\n",
    "\n",
    "model_path = 'pos_tagger.model'\n",
    "tagger = POSTagger(model = model_path, universal_tag=False)\n",
    "\n",
    "sent2vec_model_path = 'sent2vec/sent2vec-naab.model'\n",
    "sent2vec_model = SentEmbedding(sent2vec_model_path)\n",
    "\n",
    "grammars = [\n",
    "\"\"\"\n",
    "NP:\n",
    "        {<NUM><NOUN>}    # Number + Noun\n",
    "\n",
    "\"\"\",\n",
    "\n",
    "\"\"\"\n",
    "NP:\n",
    "        {<NOUN><NUM>}    # Noun + Number\n",
    "\n",
    "\"\"\",\n",
    "    \n",
    "\"\"\"\n",
    "NP:\n",
    "        {<NOUN,EZ>*<ADJ,EZ>*<NOUN>}    # Dependent Noun(s)(optional) + Dependent Adjective(s)(optional) + Noun\n",
    "\n",
    "\"\"\",\n",
    "    \n",
    "\"\"\"\n",
    "NP:\n",
    "        {<ADJ,EZ>*<NOUN,EZ>*<NOUN>}    # Dependent Adjective(s)(optional) + Dependent Noun(s)(optional) + Noun\n",
    "\n",
    "\"\"\",\n",
    "    \n",
    "\"\"\"\n",
    "NP:\n",
    "        {<NOUN,EZ>*<NOUN>?<ADJ>?}    # Dependent Noun(s)(optional) + Noun(optional) + Adjective(optional)\n",
    "\n",
    "\"\"\",\n",
    "    \n",
    "\"\"\"\n",
    "NP:\n",
    "        {<NOUN,EZ>*<NOUN>?<ADJ,EZ>*}    # Dependent Noun(s)(optional) + Noun(optional) + Dependent Adjective(s)(optional)\n",
    "\n",
    "\"\"\"\n",
    "]\n",
    "\n",
    "# we can also add some additional grammar to be extracted from the text...\n",
    "\n",
    "def extract_candidates(tagged, grammar):\n",
    "    keyphrase_candidate = set()\n",
    "    np_parser = nltk.RegexpParser(grammar)\n",
    "    trees = np_parser.parse_sents(tagged)\n",
    "    for tree in trees:\n",
    "        for subtree in tree.subtrees(filter=lambda t: t.label() == 'NP'):  # For each nounphrase\n",
    "            # Concatenate the token with a space\n",
    "            keyphrase_candidate.add(' '.join(word for word, tag in subtree.leaves()))\n",
    "    keyphrase_candidate = {kp for kp in keyphrase_candidate if len(kp.split()) <= 5}\n",
    "    keyphrase_candidate = list(keyphrase_candidate)\n",
    "    return keyphrase_candidate\n",
    "\n",
    "for item in data:\n",
    "    text = item['content']\n",
    "    try:\n",
    "        tokenize_text = [word_tokenize(txt) for txt in sent_tokenize(text)]  \n",
    "        \n",
    "        token_tag_list = tagger.tag_sents(tokenize_text)\n",
    "        all_candidates = set()\n",
    "        for grammar in grammars:\n",
    "            all_candidates.update(extract_candidates(token_tag_list, grammar))\n",
    "        \n",
    "        \n",
    "        all_candidates = np.array(list(all_candidates))\n",
    "        \n",
    "        all_candidates_vectors = [sent2vec_model[candidate] for candidate in all_candidates]\n",
    "\n",
    "        candidates_concatinate = ' '.join(all_candidates)\n",
    "        whole_text_vector = sent2vec_model[candidates_concatinate]\n",
    "\n",
    "        candidates_sim_whole = cosine_similarity(all_candidates_vectors, whole_text_vector.reshape(1,-1))\n",
    "        \n",
    "        candidate_sim_candidate = cosine_similarity(all_candidates_vectors)\n",
    "        \n",
    "        candidates_sim_whole_norm = candidates_sim_whole / np.max(candidates_sim_whole)\n",
    "        candidates_sim_whole_norm = 0.5 + (candidates_sim_whole_norm - np.average(candidates_sim_whole_norm)) / np.std(candidates_sim_whole_norm)\n",
    "        \n",
    "        np.fill_diagonal(candidate_sim_candidate, np.NaN)\n",
    "        candidate_sim_candidate_norm = candidate_sim_candidate / np.nanmax(candidate_sim_candidate, axis=0)\n",
    "        candidate_sim_candidate_norm = 0.5 + (candidate_sim_candidate_norm - np.nanmean(candidate_sim_candidate_norm, axis=0)) / np.nanstd(candidate_sim_candidate_norm, axis=0)\n",
    "        \n",
    "        N = min(len(all_candidates), keyword_count)\n",
    "\n",
    "        selected_candidates = []\n",
    "        unselected_candidates = [i for i in range(len(all_candidates))]\n",
    "        best_candidate = np.argmax(candidates_sim_whole_norm)\n",
    "        selected_candidates.append(best_candidate)\n",
    "        unselected_candidates.remove(best_candidate)\n",
    "        \n",
    "        \n",
    "        for i in range(N-1):\n",
    "            selected_vec = np.array(selected_candidates)\n",
    "            unselected_vec = np.array(unselected_candidates)\n",
    "        \n",
    "            unselected_candidate_sim_whole_norm = candidates_sim_whole_norm[unselected_vec, :]\n",
    "        \n",
    "            dist_between = candidate_sim_candidate_norm[unselected_vec][:, selected_vec]\n",
    "        \n",
    "            if dist_between.ndim == 1:\n",
    "                dist_between = dist_between[:, np.newaxis]\n",
    "        \n",
    "            best_candidate = np.argmax(beta * unselected_candidate_sim_whole_norm - (1 - beta) * np.max(dist_between, axis = 1).reshape(-1,1))\n",
    "            best_index = unselected_candidates[best_candidate]\n",
    "            selected_candidates.append(best_index)\n",
    "            unselected_candidates.remove(best_index)\n",
    "            \n",
    "        keywords = all_candidates[selected_candidates].tolist()\n",
    "        \n",
    "        item['keywords'] = keywords\n",
    "        \n",
    "    except:\n",
    "        print('The code could not extract the desired keywords from the article')\n",
    "        item['keywords'] = ['']\n",
    "    \n",
    "    \n",
    "with open('final_processed_data.json', 'w', encoding='utf-8') as file:\n",
    "    json.dump(data, file, ensure_ascii=False, indent=4)"
   ],
   "metadata": {
    "collapsed": false,
    "ExecuteTime": {
     "end_time": "2024-04-01T21:23:36.494920800Z",
     "start_time": "2024-04-01T21:22:42.912411500Z"
    }
   },
   "id": "a93fed3ca33d924a"
  },
  {
   "cell_type": "markdown",
   "source": [
    "Now, we are going to show 5 random samples of the final result file "
   ],
   "metadata": {
    "collapsed": false
   },
   "id": "8b08e7393a730253"
  },
  {
   "cell_type": "code",
   "execution_count": 54,
   "outputs": [
    {
     "name": "stdout",
     "output_type": "stream",
     "text": [
      "1)\n",
      "\n",
      "Title of the article:\n",
      " گوشی ارزان نسبتاً قدیمی شیائومی به HyperOS آپدیت شد\n",
      "\n",
      "\n",
      "Processed (normalized) content of the article:\n",
      "  شیائومی رابط کاربری HyperOS را سال گذشته معرفی کرد تا از MIUI فاصله بگیرد. از آن زمان، HyperOS برای برخی از مدل‌های گوشی شیائومی منتشر شده‌است؛ اما همچنان اکثر دستگاه‌ها این رابط کاربری مبتنی بر اندروید را ندارند. براساس اعلام کانال تلگرام وابسته به شیائومی، رابط کاربری هایپر او اس دردسترس گوشی Redmi Note 11 Pro 4G قرار گرفته‌است. این گوشی که در سال ۲۰۲۱ با MIUI 13 و سیستم عامل اندروید ۱۱ روانه‌ی بازار شد، به پردازنده‌ی هلیو G96 مدیاتک مجهز است. بررسی‌های اولیه نشان می‌دهد که HyperOS در گوشی ردمی نوت ۱۱ پرو برخی تفاوت‌ها با همین رابط کاربری در گوشی‌های پرچم‌دار شیائومی دارد. مهم‌ترین تفاوت این است که گوشی یادشده از نسخه‌ی اندروید ۱۳ رابط کاربری HyperOS استفاده می‌کند. همچنین، از انتشار اندروید ۱۴ برای ردمی نوت ۱۱ پرو 4G خبری نخواهد بود. در حال حاضر، به روزرسانی HyperOS صرفاً دردسترس کاربران Mi Pilot قرار دارد و به صورت عمومی منتشر نشده‌است. به روزرسانی مذکور جدیدترین پچ امنیتی سیستم عامل اندروید را وارد ردمی نوت ۱۱ پرو 4G می‌کند. این گوشی در زمان خودش جزو بهترین گوشی‌های میان رده بود. شیائومی سابقه‌ی خوبی در انتشار به روزرسانی ندارد و این موضوع در یک سال اخیر بیش‌از پیش‌در مرکز توجه قرار گرفته‌است؛ خصوصاً به این دلیل که سامسونگ عملکرد درخشانی از خود نشان داده. یکی از تصمیمات بحث برانگیز شیائومی، انتشار رابط کاربری با دو نسخه‌ی متفاوت از سیستم عامل اندروید است. میزو از گوشی پرچمدار جدیدش با بهترین تراشه‌ی کوالکام و نمایشگر باکیفیت رونمایی کرد. پیش‌فروش تلویزیون‌های سری QNED ال جی که مجهز به قابلیت‌های هوش مصنوعی هستند، آغاز شد. با قابلیت جدیدی که گوگل ایجاد کرده‌است، تماس‌های تلفنی به کاری سرگرم‌کننده تبدیل خواهند شد. اسپیکر جدید شیائومی قیمت بسیار مناسبی دارد و برای مدت طولانی موسیقی پخش می‌کند. \n",
      "\n",
      "\n",
      "Extracted keywords of the article:\n",
      "\n",
      "گوشی\n",
      "گوشی یادشده\n",
      "روزرسانی\n",
      "گوشی‌های\n",
      "سامسونگ\n",
      "اندروید ۱۱\n",
      "مدل‌های گوشی شیائومی\n",
      "گوشی پرچمدار\n",
      "گوشی ردمی\n",
      "گوشی پرچمدار جدیدش\n",
      "\n",
      "\n",
      "\n",
      "2)\n",
      "\n",
      "Title of the article:\n",
      " سایدلود برنامه‌ها چه زمانی به آیفون می‌آید؟\n",
      "\n",
      "\n",
      "Processed (normalized) content of the article:\n",
      "  اپل بهمن ماه به تغییرات مهم اپ استور در کشورهای اتحادیه‌ی اروپا اشاره کرد زیرا سیاست‌های فروشگاه گوشی آیفون باید با قانون بازارهای دیجیتال اتحادیه‌ی اروپا مطابقت داشته‌باشد. این شرکت همچنین تأیید کرد iOS 17.4 در ماه مارس(اسفند ۱۴۰۲ تا فروردین ۱۴۰۳) منتشر خواهد شد. اپل در بخشی از بیانیه اش گفت: «توسعه‌دهندگان می‌توانند ازطریق صفحات پشتیبانی اپل با تغییرات اپ استور آشنا شوند و قابلیت‌های جدید را از امروز روی نسخه‌ی بتای iOS 17.4 آزمایش کنند. این ویژگی‌ها از مارس ۲۰۲۴ برای کاربران ۲۷ کشور عضو اتحادیه‌ی اروپا دردسترس قرار خواهد گرفت.» به نوشته‌ی مک رومرز، اپل تا ۶ مارس(۱۶ اسفند ۱۴۰۲) فرصت دارد از قانون بازارهای دیجیتال اتحادیه‌ی اروپا پیروی کند و در غیر این صورت جریمه خواهد شد. این یعنی iOS 17.4 احتمالاً در تاریخ مذکور یا حتی قبل از آن منتشر خواهد شد. اپل علاوه بر اعمال تغییرات مدنظر اتحادیه‌ی اروپا، ویژگی‌های دیگری مثل رونوشت از پادکست‌ها، پروتکل امنیتی جدید iMessage، ایموجی‌های جدید و امکان استفاده از کارت Apple Cash در تعداد بیشتری از وب سایت‌ها را به iOS 17.4 اضافه کرده‌است. iOS 17.4 با آیفون XS و مدل‌های جدیدتر گوشی اپل سازگاری دارد. به روزرسانی مذکور ازطریق منوی Settings > General > Software Update دردسترس خواهد بود. علاوه براین انتظار می‌رود اپل در ماه مارس iPadOS 17.4 و watchOS 10.4 و macOS 14.4 و visionOS 1.1 را منتشر کند. سری پیکسل ۸ با کنار زدن رقبای قدرتمندش، در MWC 2024 به عنوان بهترین گوشی ۲۰۲۳ انتخاب شد. میزو از گوشی پرچمدار جدیدش با بهترین تراشه‌ی کوالکام و نمایشگر باکیفیت رونمایی کرد. پیش‌فروش تلویزیون‌های سری QNED ال جی که مجهز به قابلیت‌های هوش مصنوعی هستند، آغاز شد. شیائومی مدل جدیدی از ردمی K70 را عرضه کرده‌است که ۵۱۲ گیگابایت فضای ذخیره‌سازی دارد. \n",
      "\n",
      "\n",
      "Extracted keywords of the article:\n",
      "\n",
      "سیاست‌های فروشگاه گوشی آیفون\n",
      "تغییرات اپ\n",
      "گیگابایت\n",
      "اپل\n",
      "قابلیت‌های\n",
      "صفحات پشتیبانی اپل\n",
      "آیفون XS\n",
      "رونمایی\n",
      "منوی Settings\n",
      "روزرسانی مذکور\n",
      "\n",
      "\n",
      "\n",
      "3)\n",
      "\n",
      "Title of the article:\n",
      " ساخت بلندترین برج چاپ سه بعدی جهان ۹۰۰ ساعت طول می‌کشد\n",
      "\n",
      "\n",
      "Processed (normalized) content of the article:\n",
      "  برج سفید پژوهشگران مؤسسه فناوری فدرال زوریخ از بیش‌از صد ستون تشکیل می‌شود و در بالای آن فضایی برای نمایش قرار دارد. برج سفید(Tor Alva) با همکاری موسسه فرهنگیNova Fundaziun Origen ساخته می‌شود و درحال حاضر قبل از حمل ونقل و مونتاژ در محل ساختش در دهکده دورافتاده‌ای در کوه‌های آلپ سوئیس، به شکل بخش بخش درحال چاپ شدن است. آن طور که نیواطلس می‌نویسد، برج سفید دارای سبک معماری پیچیده متاثر از سبک باروک است و ارتفاع آن به ۳۰ متر می‌رسد. ستون‌های چاپ سه بعدی شده آن از پنج طبقه پشتیبانی می‌کنند و نمای نیمه باز آن را تشکیل می‌دهند(لایه سبک قابل جا به جایی نیز برای محافظت از فضای داخلی در برابر آب وهوا در صورت نیاز نصب می‌شود) . بازدیدکنندگان وارد طبقات پایین می‌شوند که از ستون‌های بزرگ تشکیل شده‌است و فضاهای کوچک و باشکوه تری را ایجاد می‌کنند. آن‌ها سپس از پلکان مارپیچی بالا می‌روند و هر طبقه به طور محسوسی مطبوع‌تر و سبک‌تر می‌شود و سپس به سالنی در بالاترین طبقه می‌رسند. طبقه آخر شامل صحنه و صندلی برای ۴۵ بازدیدکننده است و برای اجراهای تئاتر و کنسرت‌های کوچک استفاده می‌شود. وقتی اجراها به پایان برسند، قطعات برج از همجدا می‌شود و جای دیگری مونتاژ می‌شود. پیش‌بینی می‌شود فرایند واقعی چاپ حدود ۹۰۰ ساعت طول بکشد و به روش مشابه سایر پروژه‌های معماری چاپ سه بعدی انجام شود. این فرایند شامل چاپگرهای چاپ سه بعدی رباتیک است که در طول آن مخلوطی شبیه سیمان نرم از نازلی به شکل لایه لایه بیرون می‌آید تا قسمت‌های مختلف برج را که بعدا مونتاژ می‌شوند، بسازد. ساختار برج با استفاده از نرم‌افزار سفارشی طراحی شده‌است که امکان تعریف دقیق هندسه را فراهم می‌کند و می‌تواند داده‌های مورد نیاز را مستقیما به ربات‌های چاپگر ارسال کند. فناوری چاپ سه بعدی امکان تولید کارآمد عناصر غیراستاندارد و سفارشی را ممکن می‌سازد. تولید این نوع فرم‌ها در این مقیاس با استفاده از فناوری‌های مرسوم تقریبا غیرممکن خواهد بود. در فرایند ساخت وساز جدید، برج از ۱۰۳ ستون جداگانه چاپ سه بعدی مونتاژ خواهد شد. عناصر فقط در مکان‌هایی که ازنظر ساختاری نیاز است، با بتن پر‌می‌شوند که استفاده از مواد را به شدت کاهش می‌دهد. این روش ساخت و ساز ضایعاتی تولید نمی‌کند، زیرا به قالبی برای بتن‌ریزی نیاز ندارد. معماری چاپ سه بعدی در مدت زمان بسیار کوتاهی از مفهومی آینده نگرانه به روش تولید مسکن، دفاتر و خانه‌های کوچک تبدیل شده‌است. پروژه برج سفید جهش بزرگ دیگری برای این فناوری درحال رشد است و پیش‌بینی می‌شود تا اواسط ۲۰۲۴ کامل شود. سری پیکسل ۸ با کنار زدن رقبای قدرتمندش، در MWC 2024 به عنوان بهترین گوشی ۲۰۲۳ انتخاب شد. پیش‌فروش تلویزیون‌های سری QNED ال جی که مجهز به قابلیت‌های هوش مصنوعی هستند، آغاز شد. میزو از گوشی پرچمدار جدیدش با بهترین تراشه‌ی کوالکام و نمایشگر باکیفیت رونمایی کرد. شیائومی مدل جدیدی از ردمی K70 را عرضه کرده‌است که ۵۱۲ گیگابایت فضای ذخیره‌سازی دارد. \n",
      "\n",
      "\n",
      "Extracted keywords of the article:\n",
      "\n",
      "معماری چاپ\n",
      "امکان تولید\n",
      "امکان تعریف دقیق هندسه\n",
      "قطعات برج\n",
      "لایه سبک\n",
      "فرایند واقعی چاپ\n",
      "فناوری چاپ\n",
      "روش تولید مسکن\n",
      "مقیاس\n",
      "گیگابایت\n",
      "\n",
      "\n",
      "\n",
      "4)\n",
      "\n",
      "Title of the article:\n",
      " قیمت تلویزیون‌های QNED 2024 ال جی مشخص شد\n",
      "\n",
      "\n",
      "Processed (normalized) content of the article:\n",
      "  ال جی در وب سایت رسمی خود اطلاعات پیش‌سفارش و قیمت تلویزیون‌های QNED 2024 را ارائه کرد. این شرکت قرار است تلویزیون‌های مورد بحث را با قیمت بین ۸۵۰ تا ۳٬۳۰۰ دلار و در اندازه‌های ۵۰ تا ۸۶ اینچ عرضه کند. CES 2024 به صحنه‌ی نمایش تلویزیون‌های فوق العاده تبدیل شد و یکی از بازیگران اصلی این صحنه ال جی بود که با رونمایی از تلویزیون‌های شفاف Signature OLED T و OLED M4 مورد توجه فراوان قرار گرفت. تلویزیون‌های LCD مجهزبه چراغ Mini LED ال جی با وضوح 4K در قالب سری QNED90T و در اندازه‌های ۶۵ و ۷۵ و ۸۶ اینچی و به ترتیب با قیمت ۱٬۸۹۹ دلار، ۲٬۲۹۹ دلار و ۳٬۲۹۹ دلار عرضه خواهند شد. تلویزیون ال جی QNED85T با وضوح 4K و در اندازه‌های ۵۰، ۵۵، ۶۵ و ۷۵ اینچی روانه‌ی بازار خواهد شد. قیمت تلویزیون ال جی QNED85T در مدل‌های یادشده به ترتیب ۸۴۹ دلار، ۹۹۹ دلار، ۱٬۲۹۹ دلار، ۱٬۷۹۹ دلار و ۲٬۷۹۹ دلار است. همه‌ی این مدل‌ها تا ۱۷ مارس(۲۷ اسفند) برای پیش‌خرید دردسترس خواهند بود. همه‌ی تلویزیون‌های سری QNED ال جی از پردازنده‌ی هوش مصنوعی a8 بهره می‌برند. عملکرد پردازنده‌ی a8 حدود ۱٫۳ برابر بهتر از پردازنده‌ی a7 ال جی در سال ۲۰۲۳ است. ال جی معتقد است که پردازنده‌ی هوش مصنوعی جدید عملکرد گرافیکی قوی‌تر، قابلیت‌های هوش مصنوعی بهتر و همچنین سرعت پردازش بالاتری دارد. تکنولوژی AI Picture Pro که اکنون توسط پردازنده‌ی a8 پشتیبانی می‌شود، قابلیت‌های جذابی را برای کاربران فراهم می‌کند. این تکنولوژی با استفاده از یادگیری عمیق کارهایی مانند پردازش تصویر و شناسایی چهره‌ی افراد، اشیا و پس زمینه‌ی صحنه‌ها را به طور هوشمندانه انجام می‌دهد و به ارائه‌ی تصاویر واقع گرایانه و شفاف کمک می‌کند. ال جی در تلویزیون‌های سری QNED از فناوری Dynamic Tone Mapping Pro استفاده کرده‌است. این فناوری تصاویر را به بلوک‌هایی تقسیم می‌کند و هر بلوک را تجزیه و تحلیل می‌کند تا روشن‌ترین و تیره‌ترین بخش‌ها را شناسایی و میزان روشنی و تیرگی آن‌ها را تنظیم کند. تلویزیون‌های سری QNED با کمک فناوری HDR تصاویر سه بعدی باکیفیت تری را به نمایش در می‌آورند. یکی از جالب‌ترین ویژگی‌های مبتنی برهوش مصنوعی تلویزیون‌های ال جی، Personalized Picture Wizard است که به کاربران امکان می‌دهد از بین چندین گزینه، بهترین کیفیت تصاویر را از نظر خود انتخاب کنند. یکی دیگر از ویژگی‌های هوش مصنوعی که در تلویزیون‌های QNED ال جی به کار برده شده، قابلیت AI Sound Pro است که فرکانس‌های صوتی را بر‌اساس آ ن چه که کاربر تماشا می‌کند، شناسایی و مناسب‌ترین تنظیمات را روی جلوه‌های صوتی اعمال می‌کند. ال جی این قابلیت را هم‌در تلویزیون‌ها و هم‌در ساندبار‌های خود استفاده کرده‌است. ال جی برای اینکه بهترین کیفیت صدا را در اختیار کاربران خود قرار دهد از فناوری Wow Orchestra نیز استفاده کرده‌است تا بتواند به هماهنگ‌سازی صدا بین دو دستگاه بپردازد. همه‌ی تلویزیون‌های QNED ال جی که قرار است در سال ۲۰۲۴ وارد بازار شوند، مجهز به فناوری Quantum Dot NanoCell هستند؛ این فناوری بهترین بازتولید رنگ را رقم می‌زند. تکنو گوشی هوشمند رول شدنی خود موسوم به Phantom Ultimate را در رویداد MWC 2024 به نمایش گذاشت. سری پیکسل ۸ با کنار زدن رقبای قدرتمندش، در MWC 2024 به عنوان بهترین گوشی ۲۰۲۳ انتخاب شد. میزو از گوشی پرچمدار جدیدش با بهترین تراشه‌ی کوالکام و نمایشگر باکیفیت رونمایی کرد. اسپیکر جدید شیائومی قیمت بسیار مناسبی دارد و برای مدت طولانی موسیقی پخش می‌کند. \n",
      "\n",
      "\n",
      "Extracted keywords of the article:\n",
      "\n",
      "قیمت تلویزیون\n",
      "قابلیت‌های جذابی\n",
      "فناوری بهترین\n",
      "پیکسل\n",
      "اینچی\n",
      "۷۹۹ دلار\n",
      "صحنه‌ی نمایش تلویزیون‌های فوق\n",
      "پیکسل ۸\n",
      "مدل‌های\n",
      "باکیفیت تری\n",
      "\n",
      "\n",
      "\n",
      "5)\n",
      "\n",
      "Title of the article:\n",
      " خودرو شیائومی SU7 در اروپا به‌نمایش درآمد؛ رقیب پورشه تایکان و تسلا مدل S\n",
      "\n",
      "\n",
      "Processed (normalized) content of the article:\n",
      "  شیائومی در سرتاسر جهان بیشتر به عنوان سازنده‌ی گوشی‌های هوشمند با قیمت رقابتی شناخته می‌شود اما این برند چینی در حوزه‌های مختلفی فعالیت دارد و اولین خودرو برقی خود را نیز اوایل دی ۱۴۰۲ معرفی کرد و حالا این محصول در رویداد MWC 2024 به نمایش گذشته‌است. گفته می‌شود خودرو SU7 شیائومی با قیمتی رقابتی عرضه خواهد شد تا بتواند رقابت هیجان انگیزی را با پورشه تایکان و تسلا مدل S آغاز کند. شیائومی سال ۲۰۲۱ از سرمایه‌گذاری ۱۰ میلیارد دلاری در حوزه‌ی خودروهای الکتریکی خبر داد و گفت که قصد دارد این مبلغ را طی ۱۰ سال برای ساخت خودروهای برقی هزینه کند. این شرکت چند ماه قبل اولین خودرو الکتریکی خود را با نام SU7 معرفی کرد؛ محصولی که توسعه‌ی آن ۱٫۴ میلیارد دلار هزینه روی دوش غول فناوری چینی گذاشت و در سال جاری میلادی روانه‌ی بازار خواهد شد. قیمت خودرو مذکور هنوز مشخص نیست. شیائومی SU7 در رویداد MWC 2024 به نمایش درآمده و اگرچه قیمت آن را نمی‌دانیم اما طبق برخی گزارش‌های اخیر، محصول چندان ارزانی نخواهد بود. اگر قیمت این خودرو بالا باشد در شرایط رکورد اقتصادی جهان احتمالاً با استقبال چشم‌گیری مواجه نشود اما شیائومی باور دارد SU7 برای کاربران گوشی‌های هوشمند رده بالای این برند بسیار جذاب خواهد بود. رئیس شیائومی به CNBC گفت: «ازنظر ما این نقطه‌ی شروع خوبی برای حضور در بازار خودروهای رده بالا است زیرا درحال حاضر تعداد کاربران گوشی‌های پرچمدارمان در چین به ۲۰ میلیون نفر می‌رسد. فکر می‌کنیم این افراد اولین خریداران SU7 خواهند بود.» SU7 از باتری ۷۳٫۶ کیلووات ساعتی بهره می‌برد که با هر بار شارژ کامل ۶۶۸ کیلومتر مسافت را طی می‌کند. البته این خودرو با باتری ۱۰۱ کیلووات ساعتی نیز عرضه خواهد شد که دامنه‌ی حرکت آن را با هر بار شارژ به ۸۰۰ کیلومتر افزایش می‌دهد. SU7 در چند تیپ به فروش خواهد رسید: مدل تک موتوره‌ی ۲۲۰ کیلووات(۲۹۵ اسب بخار) و مدل دوموتوره‌ی ۴۹۵ کیلووات(۶۶۴ اسب بخار) . یکی از ویژگی‌های مهم SU7، اتصال یکپارچه‌ی این خودرو با گوشی شیائومی و همچنین سایر محصولات هوشمند این شرکت چینی است. شیائومی اطمینان می‌دهد امنیت داده‌های کاربران هنگام اتصال دستگاه‌های مختلف به خودرو برقی این شرکت به طور کامل حفظ خواهد شد. براساس گزارش شرکت IDC، شیائومی سومین شرکت بزرگ تولیدکننده‌ی گوشی‌های هوشمند در سال گذشته‌بود و موفق شد در این مدت ۱۴۵٫۹ میلیون گوشی روانه‌ی بازار کند. سامسونگ در این فهرست با عرضه‌ی ۲۲۵٫۶ میلیون گوشی گلکسی رتبه‌ی دوم را به خود اختصاص داد و اپل با عرضه‌ی ۲۳۴٫۶ میلیون گوشی آیفون مقام نخست را کسب کرد. میزو از گوشی پرچمدار جدیدش با بهترین تراشه‌ی کوالکام و نمایشگر باکیفیت رونمایی کرد. تکنو گوشی هوشمند رول شدنی خود موسوم به Phantom Ultimate را در رویداد MWC 2024 به نمایش گذاشت. سری پیکسل ۸ با کنار زدن رقبای قدرتمندش، در MWC 2024 به عنوان بهترین گوشی ۲۰۲۳ انتخاب شد. با قابلیت جدیدی که گوگل ایجاد کرده‌است، تماس‌های تلفنی به کاری سرگرم‌کننده تبدیل خواهند شد. \n",
      "\n",
      "\n",
      "Extracted keywords of the article:\n",
      "\n",
      "سامسونگ\n",
      "بازار خودروهای رده بالا\n",
      "قیمت\n",
      "گوشی‌های\n",
      "هوشمند رول\n",
      "اپل\n",
      "امنیت داده‌های کاربران\n",
      "قیمتی رقابتی\n",
      "شرایط رکورد اقتصادی\n",
      "گوشی پرچمدار\n"
     ]
    }
   ],
   "source": [
    "import random\n",
    "\n",
    "for i, item in enumerate(random.sample(data, 5)):\n",
    "    print(f'{i+1})\\n')\n",
    "    print(f'Title of the article:\\n {item[\"title\"]}\\n\\n')\n",
    "    print(f'Processed (normalized) content of the article:\\n {item[\"content\"]}\\n\\n')\n",
    "    print(f'Extracted keywords of the article:\\n')\n",
    "    for keyword in item['keywords']:\n",
    "        print(keyword)\n",
    "    print('\\n\\n')\n",
    "    "
   ],
   "metadata": {
    "collapsed": false,
    "ExecuteTime": {
     "end_time": "2024-04-01T21:32:29.231900700Z",
     "start_time": "2024-04-01T21:32:29.209999300Z"
    }
   },
   "id": "2471c5d413917f16"
  },
  {
   "cell_type": "markdown",
   "source": [
    "As it can be seen easily, the keywords are correct and highly related to the title and descriptions of the article."
   ],
   "metadata": {
    "collapsed": false
   },
   "id": "868f09095445297f"
  },
  {
   "cell_type": "code",
   "execution_count": null,
   "outputs": [],
   "source": [],
   "metadata": {
    "collapsed": false
   },
   "id": "e8762e2fa2d991e8"
  }
 ],
 "metadata": {
  "kernelspec": {
   "display_name": "Python 3",
   "language": "python",
   "name": "python3"
  },
  "language_info": {
   "codemirror_mode": {
    "name": "ipython",
    "version": 2
   },
   "file_extension": ".py",
   "mimetype": "text/x-python",
   "name": "python",
   "nbconvert_exporter": "python",
   "pygments_lexer": "ipython2",
   "version": "2.7.6"
  }
 },
 "nbformat": 4,
 "nbformat_minor": 5
}
